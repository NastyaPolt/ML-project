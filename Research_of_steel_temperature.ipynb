{
 "cells": [
  {
   "cell_type": "markdown",
   "metadata": {},
   "source": [
    "**Описание данных:**\n",
    "- `data_arc.csv` — данные об электродах;\n",
    "- `data_bulk.csv` — данные о подаче сыпучих материалов (объём);\n",
    "- `data_bulk_time.csv` *—* данные о подаче сыпучих материалов (время);\n",
    "- `data_gas.csv` — данные о продувке сплава газом;\n",
    "- `data_temp.csv` — результаты измерения температуры;\n",
    "- `data_wire.csv` — данные о проволочных материалах (объём);\n",
    "- `data_wire_time.csv` — данные о проволочных материалах (время).\n",
    "\n",
    "Задача: построить модель, которая предскажет температуру стали.\n",
    "\n",
    "**План исследования**\n",
    "\n",
    "1) Исследовать исодные данные (загрузить, посмотреть значения в столбцах, изучить признаки); \n",
    "2) Предобработать данные (заполнить пропуски, исследовать выбросы, проанализировать аномалии);  \n",
    "3) Выделить признаки, подобрать подходящую модель и метрики, которые будем проверять;\n",
    "4) Обучить данные на обучающей выборке; \n",
    "5) Посмотреть метрику MSE на тестовой выборке."
   ]
  },
  {
   "cell_type": "code",
   "execution_count": 1,
   "metadata": {},
   "outputs": [],
   "source": [
    "import pandas as pd\n",
    "import numpy as np\n",
    "import matplotlib.pyplot as plt\n",
    "from sklearn.model_selection import train_test_split\n",
    "from sklearn.linear_model import LinearRegression\n",
    "from sklearn.tree import DecisionTreeRegressor\n",
    "from sklearn.ensemble import RandomForestRegressor\n",
    "from sklearn.metrics import mean_absolute_error"
   ]
  },
  {
   "cell_type": "code",
   "execution_count": 2,
   "metadata": {},
   "outputs": [
    {
     "data": {
      "text/html": [
       "<div>\n",
       "<style scoped>\n",
       "    .dataframe tbody tr th:only-of-type {\n",
       "        vertical-align: middle;\n",
       "    }\n",
       "\n",
       "    .dataframe tbody tr th {\n",
       "        vertical-align: top;\n",
       "    }\n",
       "\n",
       "    .dataframe thead th {\n",
       "        text-align: right;\n",
       "    }\n",
       "</style>\n",
       "<table border=\"1\" class=\"dataframe\">\n",
       "  <thead>\n",
       "    <tr style=\"text-align: right;\">\n",
       "      <th></th>\n",
       "      <th>key</th>\n",
       "      <th>Время замера</th>\n",
       "      <th>Температура</th>\n",
       "    </tr>\n",
       "  </thead>\n",
       "  <tbody>\n",
       "    <tr>\n",
       "      <th>0</th>\n",
       "      <td>1</td>\n",
       "      <td>2019-05-03 11:16:18</td>\n",
       "      <td>1571.0</td>\n",
       "    </tr>\n",
       "    <tr>\n",
       "      <th>1</th>\n",
       "      <td>1</td>\n",
       "      <td>2019-05-03 11:25:53</td>\n",
       "      <td>1604.0</td>\n",
       "    </tr>\n",
       "    <tr>\n",
       "      <th>2</th>\n",
       "      <td>1</td>\n",
       "      <td>2019-05-03 11:29:11</td>\n",
       "      <td>1618.0</td>\n",
       "    </tr>\n",
       "    <tr>\n",
       "      <th>3</th>\n",
       "      <td>1</td>\n",
       "      <td>2019-05-03 11:30:01</td>\n",
       "      <td>1601.0</td>\n",
       "    </tr>\n",
       "    <tr>\n",
       "      <th>4</th>\n",
       "      <td>1</td>\n",
       "      <td>2019-05-03 11:30:39</td>\n",
       "      <td>1613.0</td>\n",
       "    </tr>\n",
       "    <tr>\n",
       "      <th>...</th>\n",
       "      <td>...</td>\n",
       "      <td>...</td>\n",
       "      <td>...</td>\n",
       "    </tr>\n",
       "    <tr>\n",
       "      <th>15902</th>\n",
       "      <td>3241</td>\n",
       "      <td>2019-09-01 04:03:30</td>\n",
       "      <td>1586.0</td>\n",
       "    </tr>\n",
       "    <tr>\n",
       "      <th>15903</th>\n",
       "      <td>3241</td>\n",
       "      <td>2019-09-01 04:16:12</td>\n",
       "      <td>NaN</td>\n",
       "    </tr>\n",
       "    <tr>\n",
       "      <th>15904</th>\n",
       "      <td>3241</td>\n",
       "      <td>2019-09-01 04:22:39</td>\n",
       "      <td>NaN</td>\n",
       "    </tr>\n",
       "    <tr>\n",
       "      <th>15905</th>\n",
       "      <td>3241</td>\n",
       "      <td>2019-09-01 04:33:42</td>\n",
       "      <td>NaN</td>\n",
       "    </tr>\n",
       "    <tr>\n",
       "      <th>15906</th>\n",
       "      <td>3241</td>\n",
       "      <td>2019-09-01 04:38:08</td>\n",
       "      <td>NaN</td>\n",
       "    </tr>\n",
       "  </tbody>\n",
       "</table>\n",
       "<p>15907 rows × 3 columns</p>\n",
       "</div>"
      ],
      "text/plain": [
       "        key         Время замера  Температура\n",
       "0         1  2019-05-03 11:16:18       1571.0\n",
       "1         1  2019-05-03 11:25:53       1604.0\n",
       "2         1  2019-05-03 11:29:11       1618.0\n",
       "3         1  2019-05-03 11:30:01       1601.0\n",
       "4         1  2019-05-03 11:30:39       1613.0\n",
       "...     ...                  ...          ...\n",
       "15902  3241  2019-09-01 04:03:30       1586.0\n",
       "15903  3241  2019-09-01 04:16:12          NaN\n",
       "15904  3241  2019-09-01 04:22:39          NaN\n",
       "15905  3241  2019-09-01 04:33:42          NaN\n",
       "15906  3241  2019-09-01 04:38:08          NaN\n",
       "\n",
       "[15907 rows x 3 columns]"
      ]
     },
     "metadata": {},
     "output_type": "display_data"
    }
   ],
   "source": [
    "# Загрузим данные с температурой\n",
    "data_temp = pd.read_csv('/datasets/final_steel/data_temp.csv')\n",
    "display(data_temp)"
   ]
  },
  {
   "cell_type": "code",
   "execution_count": 3,
   "metadata": {},
   "outputs": [
    {
     "name": "stdout",
     "output_type": "stream",
     "text": [
      "<class 'pandas.core.frame.DataFrame'>\n",
      "RangeIndex: 13006 entries, 0 to 13005\n",
      "Data columns (total 3 columns):\n",
      " #   Column        Non-Null Count  Dtype  \n",
      "---  ------        --------------  -----  \n",
      " 0   key           13006 non-null  int64  \n",
      " 1   Время замера  13006 non-null  object \n",
      " 2   Температура   13006 non-null  float64\n",
      "dtypes: float64(1), int64(1), object(1)\n",
      "memory usage: 305.0+ KB\n",
      "None\n"
     ]
    }
   ],
   "source": [
    "# Так как температура является для нас целевым значением, замена пропусков (например, на среднне значение),\n",
    "#может помешать обучению, поэтому удалим все пропуски\n",
    "\n",
    "data_temp = data_temp.dropna()\n",
    "data_temp = data_temp.reset_index(drop=True)\n",
    "print(data_temp.info())"
   ]
  },
  {
   "cell_type": "code",
   "execution_count": 4,
   "metadata": {},
   "outputs": [
    {
     "name": "stdout",
     "output_type": "stream",
     "text": [
      "<class 'pandas.core.frame.DataFrame'>\n",
      "RangeIndex: 13006 entries, 0 to 13005\n",
      "Data columns (total 3 columns):\n",
      " #   Column        Non-Null Count  Dtype         \n",
      "---  ------        --------------  -----         \n",
      " 0   key           13006 non-null  int64         \n",
      " 1   Время замера  13006 non-null  datetime64[ns]\n",
      " 2   Температура   13006 non-null  float64       \n",
      "dtypes: datetime64[ns](1), float64(1), int64(1)\n",
      "memory usage: 305.0 KB\n",
      "None\n"
     ]
    }
   ],
   "source": [
    "# Заменим тип данных время замера на datetime\n",
    "data_temp['Время замера'] = pd.to_datetime(data_temp['Время замера'], format='%Y-%m-%dT%H:%M:%S')\n",
    "print(data_temp.info())"
   ]
  },
  {
   "cell_type": "code",
   "execution_count": 5,
   "metadata": {},
   "outputs": [
    {
     "data": {
      "text/html": [
       "<div>\n",
       "<style scoped>\n",
       "    .dataframe tbody tr th:only-of-type {\n",
       "        vertical-align: middle;\n",
       "    }\n",
       "\n",
       "    .dataframe tbody tr th {\n",
       "        vertical-align: top;\n",
       "    }\n",
       "\n",
       "    .dataframe thead th {\n",
       "        text-align: right;\n",
       "    }\n",
       "</style>\n",
       "<table border=\"1\" class=\"dataframe\">\n",
       "  <thead>\n",
       "    <tr style=\"text-align: right;\">\n",
       "      <th></th>\n",
       "      <th>key</th>\n",
       "      <th>Время замера</th>\n",
       "      <th>Температура</th>\n",
       "    </tr>\n",
       "  </thead>\n",
       "  <tbody>\n",
       "    <tr>\n",
       "      <th>0</th>\n",
       "      <td>1</td>\n",
       "      <td>2019-05-03 11:30:39</td>\n",
       "      <td>1613.0</td>\n",
       "    </tr>\n",
       "    <tr>\n",
       "      <th>1</th>\n",
       "      <td>2</td>\n",
       "      <td>2019-05-03 11:59:12</td>\n",
       "      <td>1602.0</td>\n",
       "    </tr>\n",
       "    <tr>\n",
       "      <th>2</th>\n",
       "      <td>3</td>\n",
       "      <td>2019-05-03 12:34:57</td>\n",
       "      <td>1599.0</td>\n",
       "    </tr>\n",
       "    <tr>\n",
       "      <th>3</th>\n",
       "      <td>4</td>\n",
       "      <td>2019-05-03 12:59:25</td>\n",
       "      <td>1625.0</td>\n",
       "    </tr>\n",
       "    <tr>\n",
       "      <th>4</th>\n",
       "      <td>5</td>\n",
       "      <td>2019-05-03 13:36:01</td>\n",
       "      <td>1602.0</td>\n",
       "    </tr>\n",
       "    <tr>\n",
       "      <th>...</th>\n",
       "      <td>...</td>\n",
       "      <td>...</td>\n",
       "      <td>...</td>\n",
       "    </tr>\n",
       "    <tr>\n",
       "      <th>3211</th>\n",
       "      <td>3237</td>\n",
       "      <td>2019-08-31 22:44:04</td>\n",
       "      <td>1569.0</td>\n",
       "    </tr>\n",
       "    <tr>\n",
       "      <th>3212</th>\n",
       "      <td>3238</td>\n",
       "      <td>2019-08-31 23:30:31</td>\n",
       "      <td>1584.0</td>\n",
       "    </tr>\n",
       "    <tr>\n",
       "      <th>3213</th>\n",
       "      <td>3239</td>\n",
       "      <td>2019-09-01 01:31:47</td>\n",
       "      <td>1598.0</td>\n",
       "    </tr>\n",
       "    <tr>\n",
       "      <th>3214</th>\n",
       "      <td>3240</td>\n",
       "      <td>2019-09-01 02:39:01</td>\n",
       "      <td>1617.0</td>\n",
       "    </tr>\n",
       "    <tr>\n",
       "      <th>3215</th>\n",
       "      <td>3241</td>\n",
       "      <td>2019-09-01 04:03:30</td>\n",
       "      <td>1586.0</td>\n",
       "    </tr>\n",
       "  </tbody>\n",
       "</table>\n",
       "<p>3216 rows × 3 columns</p>\n",
       "</div>"
      ],
      "text/plain": [
       "       key        Время замера  Температура\n",
       "0        1 2019-05-03 11:30:39       1613.0\n",
       "1        2 2019-05-03 11:59:12       1602.0\n",
       "2        3 2019-05-03 12:34:57       1599.0\n",
       "3        4 2019-05-03 12:59:25       1625.0\n",
       "4        5 2019-05-03 13:36:01       1602.0\n",
       "...    ...                 ...          ...\n",
       "3211  3237 2019-08-31 22:44:04       1569.0\n",
       "3212  3238 2019-08-31 23:30:31       1584.0\n",
       "3213  3239 2019-09-01 01:31:47       1598.0\n",
       "3214  3240 2019-09-01 02:39:01       1617.0\n",
       "3215  3241 2019-09-01 04:03:30       1586.0\n",
       "\n",
       "[3216 rows x 3 columns]"
      ]
     },
     "execution_count": 5,
     "metadata": {},
     "output_type": "execute_result"
    }
   ],
   "source": [
    "# В качестве целевого признака возьмем только последнюю температуру по партии\n",
    "data_temp_last = data_temp.drop_duplicates(subset='key', keep=\"last\") \n",
    "data_temp_last = data_temp_last.reset_index(drop = True)\n",
    "data_temp_last"
   ]
  },
  {
   "cell_type": "markdown",
   "metadata": {},
   "source": [
    "## Подготовка фичей"
   ]
  },
  {
   "cell_type": "markdown",
   "metadata": {},
   "source": [
    "В нашу таблицу с температурой data_temp_last будет добавлять признаки, которые влияют на значение тепературы. Важно, что для каждого шага выбираем только те фичи, которые были добавлены в смесь до последнего измерения."
   ]
  },
  {
   "cell_type": "markdown",
   "metadata": {},
   "source": [
    "### Сыпучие материалы"
   ]
  },
  {
   "cell_type": "code",
   "execution_count": 6,
   "metadata": {},
   "outputs": [
    {
     "data": {
      "text/html": [
       "<div>\n",
       "<style scoped>\n",
       "    .dataframe tbody tr th:only-of-type {\n",
       "        vertical-align: middle;\n",
       "    }\n",
       "\n",
       "    .dataframe tbody tr th {\n",
       "        vertical-align: top;\n",
       "    }\n",
       "\n",
       "    .dataframe thead th {\n",
       "        text-align: right;\n",
       "    }\n",
       "</style>\n",
       "<table border=\"1\" class=\"dataframe\">\n",
       "  <thead>\n",
       "    <tr style=\"text-align: right;\">\n",
       "      <th></th>\n",
       "      <th>key</th>\n",
       "      <th>Bulk 1</th>\n",
       "      <th>Bulk 2</th>\n",
       "      <th>Bulk 3</th>\n",
       "      <th>Bulk 4</th>\n",
       "      <th>Bulk 5</th>\n",
       "      <th>Bulk 6</th>\n",
       "      <th>Bulk 7</th>\n",
       "      <th>Bulk 8</th>\n",
       "      <th>Bulk 9</th>\n",
       "      <th>Bulk 10</th>\n",
       "      <th>Bulk 11</th>\n",
       "      <th>Bulk 12</th>\n",
       "      <th>Bulk 13</th>\n",
       "      <th>Bulk 14</th>\n",
       "      <th>Bulk 15</th>\n",
       "    </tr>\n",
       "  </thead>\n",
       "  <tbody>\n",
       "    <tr>\n",
       "      <th>0</th>\n",
       "      <td>1</td>\n",
       "      <td>NaN</td>\n",
       "      <td>NaN</td>\n",
       "      <td>NaN</td>\n",
       "      <td>43.0</td>\n",
       "      <td>NaN</td>\n",
       "      <td>NaN</td>\n",
       "      <td>NaN</td>\n",
       "      <td>NaN</td>\n",
       "      <td>NaN</td>\n",
       "      <td>NaN</td>\n",
       "      <td>NaN</td>\n",
       "      <td>206.0</td>\n",
       "      <td>NaN</td>\n",
       "      <td>150.0</td>\n",
       "      <td>154.0</td>\n",
       "    </tr>\n",
       "    <tr>\n",
       "      <th>1</th>\n",
       "      <td>2</td>\n",
       "      <td>NaN</td>\n",
       "      <td>NaN</td>\n",
       "      <td>NaN</td>\n",
       "      <td>73.0</td>\n",
       "      <td>NaN</td>\n",
       "      <td>NaN</td>\n",
       "      <td>NaN</td>\n",
       "      <td>NaN</td>\n",
       "      <td>NaN</td>\n",
       "      <td>NaN</td>\n",
       "      <td>NaN</td>\n",
       "      <td>206.0</td>\n",
       "      <td>NaN</td>\n",
       "      <td>149.0</td>\n",
       "      <td>154.0</td>\n",
       "    </tr>\n",
       "    <tr>\n",
       "      <th>2</th>\n",
       "      <td>3</td>\n",
       "      <td>NaN</td>\n",
       "      <td>NaN</td>\n",
       "      <td>NaN</td>\n",
       "      <td>34.0</td>\n",
       "      <td>NaN</td>\n",
       "      <td>NaN</td>\n",
       "      <td>NaN</td>\n",
       "      <td>NaN</td>\n",
       "      <td>NaN</td>\n",
       "      <td>NaN</td>\n",
       "      <td>NaN</td>\n",
       "      <td>205.0</td>\n",
       "      <td>NaN</td>\n",
       "      <td>152.0</td>\n",
       "      <td>153.0</td>\n",
       "    </tr>\n",
       "    <tr>\n",
       "      <th>3</th>\n",
       "      <td>4</td>\n",
       "      <td>NaN</td>\n",
       "      <td>NaN</td>\n",
       "      <td>NaN</td>\n",
       "      <td>81.0</td>\n",
       "      <td>NaN</td>\n",
       "      <td>NaN</td>\n",
       "      <td>NaN</td>\n",
       "      <td>NaN</td>\n",
       "      <td>NaN</td>\n",
       "      <td>NaN</td>\n",
       "      <td>NaN</td>\n",
       "      <td>207.0</td>\n",
       "      <td>NaN</td>\n",
       "      <td>153.0</td>\n",
       "      <td>154.0</td>\n",
       "    </tr>\n",
       "    <tr>\n",
       "      <th>4</th>\n",
       "      <td>5</td>\n",
       "      <td>NaN</td>\n",
       "      <td>NaN</td>\n",
       "      <td>NaN</td>\n",
       "      <td>78.0</td>\n",
       "      <td>NaN</td>\n",
       "      <td>NaN</td>\n",
       "      <td>NaN</td>\n",
       "      <td>NaN</td>\n",
       "      <td>NaN</td>\n",
       "      <td>NaN</td>\n",
       "      <td>NaN</td>\n",
       "      <td>203.0</td>\n",
       "      <td>NaN</td>\n",
       "      <td>151.0</td>\n",
       "      <td>152.0</td>\n",
       "    </tr>\n",
       "    <tr>\n",
       "      <th>...</th>\n",
       "      <td>...</td>\n",
       "      <td>...</td>\n",
       "      <td>...</td>\n",
       "      <td>...</td>\n",
       "      <td>...</td>\n",
       "      <td>...</td>\n",
       "      <td>...</td>\n",
       "      <td>...</td>\n",
       "      <td>...</td>\n",
       "      <td>...</td>\n",
       "      <td>...</td>\n",
       "      <td>...</td>\n",
       "      <td>...</td>\n",
       "      <td>...</td>\n",
       "      <td>...</td>\n",
       "      <td>...</td>\n",
       "    </tr>\n",
       "    <tr>\n",
       "      <th>3124</th>\n",
       "      <td>3237</td>\n",
       "      <td>NaN</td>\n",
       "      <td>NaN</td>\n",
       "      <td>170.0</td>\n",
       "      <td>NaN</td>\n",
       "      <td>NaN</td>\n",
       "      <td>NaN</td>\n",
       "      <td>NaN</td>\n",
       "      <td>NaN</td>\n",
       "      <td>NaN</td>\n",
       "      <td>NaN</td>\n",
       "      <td>NaN</td>\n",
       "      <td>252.0</td>\n",
       "      <td>NaN</td>\n",
       "      <td>130.0</td>\n",
       "      <td>206.0</td>\n",
       "    </tr>\n",
       "    <tr>\n",
       "      <th>3125</th>\n",
       "      <td>3238</td>\n",
       "      <td>NaN</td>\n",
       "      <td>NaN</td>\n",
       "      <td>126.0</td>\n",
       "      <td>NaN</td>\n",
       "      <td>NaN</td>\n",
       "      <td>NaN</td>\n",
       "      <td>NaN</td>\n",
       "      <td>NaN</td>\n",
       "      <td>NaN</td>\n",
       "      <td>NaN</td>\n",
       "      <td>NaN</td>\n",
       "      <td>254.0</td>\n",
       "      <td>NaN</td>\n",
       "      <td>108.0</td>\n",
       "      <td>106.0</td>\n",
       "    </tr>\n",
       "    <tr>\n",
       "      <th>3126</th>\n",
       "      <td>3239</td>\n",
       "      <td>NaN</td>\n",
       "      <td>NaN</td>\n",
       "      <td>NaN</td>\n",
       "      <td>NaN</td>\n",
       "      <td>NaN</td>\n",
       "      <td>114.0</td>\n",
       "      <td>NaN</td>\n",
       "      <td>NaN</td>\n",
       "      <td>NaN</td>\n",
       "      <td>NaN</td>\n",
       "      <td>NaN</td>\n",
       "      <td>158.0</td>\n",
       "      <td>NaN</td>\n",
       "      <td>270.0</td>\n",
       "      <td>88.0</td>\n",
       "    </tr>\n",
       "    <tr>\n",
       "      <th>3127</th>\n",
       "      <td>3240</td>\n",
       "      <td>NaN</td>\n",
       "      <td>NaN</td>\n",
       "      <td>NaN</td>\n",
       "      <td>NaN</td>\n",
       "      <td>NaN</td>\n",
       "      <td>26.0</td>\n",
       "      <td>NaN</td>\n",
       "      <td>NaN</td>\n",
       "      <td>NaN</td>\n",
       "      <td>NaN</td>\n",
       "      <td>NaN</td>\n",
       "      <td>NaN</td>\n",
       "      <td>NaN</td>\n",
       "      <td>192.0</td>\n",
       "      <td>54.0</td>\n",
       "    </tr>\n",
       "    <tr>\n",
       "      <th>3128</th>\n",
       "      <td>3241</td>\n",
       "      <td>NaN</td>\n",
       "      <td>NaN</td>\n",
       "      <td>NaN</td>\n",
       "      <td>NaN</td>\n",
       "      <td>NaN</td>\n",
       "      <td>NaN</td>\n",
       "      <td>NaN</td>\n",
       "      <td>NaN</td>\n",
       "      <td>NaN</td>\n",
       "      <td>NaN</td>\n",
       "      <td>NaN</td>\n",
       "      <td>NaN</td>\n",
       "      <td>NaN</td>\n",
       "      <td>180.0</td>\n",
       "      <td>52.0</td>\n",
       "    </tr>\n",
       "  </tbody>\n",
       "</table>\n",
       "<p>3129 rows × 16 columns</p>\n",
       "</div>"
      ],
      "text/plain": [
       "       key  Bulk 1  Bulk 2  Bulk 3  Bulk 4  Bulk 5  Bulk 6  Bulk 7  Bulk 8  \\\n",
       "0        1     NaN     NaN     NaN    43.0     NaN     NaN     NaN     NaN   \n",
       "1        2     NaN     NaN     NaN    73.0     NaN     NaN     NaN     NaN   \n",
       "2        3     NaN     NaN     NaN    34.0     NaN     NaN     NaN     NaN   \n",
       "3        4     NaN     NaN     NaN    81.0     NaN     NaN     NaN     NaN   \n",
       "4        5     NaN     NaN     NaN    78.0     NaN     NaN     NaN     NaN   \n",
       "...    ...     ...     ...     ...     ...     ...     ...     ...     ...   \n",
       "3124  3237     NaN     NaN   170.0     NaN     NaN     NaN     NaN     NaN   \n",
       "3125  3238     NaN     NaN   126.0     NaN     NaN     NaN     NaN     NaN   \n",
       "3126  3239     NaN     NaN     NaN     NaN     NaN   114.0     NaN     NaN   \n",
       "3127  3240     NaN     NaN     NaN     NaN     NaN    26.0     NaN     NaN   \n",
       "3128  3241     NaN     NaN     NaN     NaN     NaN     NaN     NaN     NaN   \n",
       "\n",
       "      Bulk 9  Bulk 10  Bulk 11  Bulk 12  Bulk 13  Bulk 14  Bulk 15  \n",
       "0        NaN      NaN      NaN    206.0      NaN    150.0    154.0  \n",
       "1        NaN      NaN      NaN    206.0      NaN    149.0    154.0  \n",
       "2        NaN      NaN      NaN    205.0      NaN    152.0    153.0  \n",
       "3        NaN      NaN      NaN    207.0      NaN    153.0    154.0  \n",
       "4        NaN      NaN      NaN    203.0      NaN    151.0    152.0  \n",
       "...      ...      ...      ...      ...      ...      ...      ...  \n",
       "3124     NaN      NaN      NaN    252.0      NaN    130.0    206.0  \n",
       "3125     NaN      NaN      NaN    254.0      NaN    108.0    106.0  \n",
       "3126     NaN      NaN      NaN    158.0      NaN    270.0     88.0  \n",
       "3127     NaN      NaN      NaN      NaN      NaN    192.0     54.0  \n",
       "3128     NaN      NaN      NaN      NaN      NaN    180.0     52.0  \n",
       "\n",
       "[3129 rows x 16 columns]"
      ]
     },
     "metadata": {},
     "output_type": "display_data"
    }
   ],
   "source": [
    "# Загрузим данные с материалами\n",
    "data_bulk = pd.read_csv('/datasets/final_steel/data_bulk.csv')\n",
    "display(data_bulk)"
   ]
  },
  {
   "cell_type": "code",
   "execution_count": 7,
   "metadata": {},
   "outputs": [
    {
     "name": "stdout",
     "output_type": "stream",
     "text": [
      "<class 'pandas.core.frame.DataFrame'>\n",
      "RangeIndex: 3129 entries, 0 to 3128\n",
      "Data columns (total 16 columns):\n",
      " #   Column   Non-Null Count  Dtype  \n",
      "---  ------   --------------  -----  \n",
      " 0   key      3129 non-null   int64  \n",
      " 1   Bulk 1   252 non-null    float64\n",
      " 2   Bulk 2   22 non-null     float64\n",
      " 3   Bulk 3   1298 non-null   float64\n",
      " 4   Bulk 4   1014 non-null   float64\n",
      " 5   Bulk 5   77 non-null     float64\n",
      " 6   Bulk 6   576 non-null    float64\n",
      " 7   Bulk 7   25 non-null     float64\n",
      " 8   Bulk 8   1 non-null      float64\n",
      " 9   Bulk 9   19 non-null     float64\n",
      " 10  Bulk 10  176 non-null    float64\n",
      " 11  Bulk 11  177 non-null    float64\n",
      " 12  Bulk 12  2450 non-null   float64\n",
      " 13  Bulk 13  18 non-null     float64\n",
      " 14  Bulk 14  2806 non-null   float64\n",
      " 15  Bulk 15  2248 non-null   float64\n",
      "dtypes: float64(15), int64(1)\n",
      "memory usage: 391.2 KB\n",
      "None\n"
     ]
    }
   ],
   "source": [
    "print(data_bulk.info())"
   ]
  },
  {
   "cell_type": "code",
   "execution_count": 8,
   "metadata": {},
   "outputs": [],
   "source": [
    "# Заменим пропуски на нулевые значения,\n",
    "#так как пропуск свидетельствует о том, что ничего не добавлялось \n",
    "data_bulk = data_bulk.fillna(0)"
   ]
  },
  {
   "cell_type": "code",
   "execution_count": 9,
   "metadata": {},
   "outputs": [
    {
     "data": {
      "text/html": [
       "<div>\n",
       "<style scoped>\n",
       "    .dataframe tbody tr th:only-of-type {\n",
       "        vertical-align: middle;\n",
       "    }\n",
       "\n",
       "    .dataframe tbody tr th {\n",
       "        vertical-align: top;\n",
       "    }\n",
       "\n",
       "    .dataframe thead th {\n",
       "        text-align: right;\n",
       "    }\n",
       "</style>\n",
       "<table border=\"1\" class=\"dataframe\">\n",
       "  <thead>\n",
       "    <tr style=\"text-align: right;\">\n",
       "      <th></th>\n",
       "      <th>key</th>\n",
       "      <th>Bulk 3</th>\n",
       "      <th>Bulk 4</th>\n",
       "      <th>Bulk 12</th>\n",
       "      <th>Bulk 14</th>\n",
       "      <th>Bulk 15</th>\n",
       "    </tr>\n",
       "  </thead>\n",
       "  <tbody>\n",
       "    <tr>\n",
       "      <th>0</th>\n",
       "      <td>1</td>\n",
       "      <td>0.0</td>\n",
       "      <td>43.0</td>\n",
       "      <td>206.0</td>\n",
       "      <td>150.0</td>\n",
       "      <td>154.0</td>\n",
       "    </tr>\n",
       "    <tr>\n",
       "      <th>1</th>\n",
       "      <td>2</td>\n",
       "      <td>0.0</td>\n",
       "      <td>73.0</td>\n",
       "      <td>206.0</td>\n",
       "      <td>149.0</td>\n",
       "      <td>154.0</td>\n",
       "    </tr>\n",
       "    <tr>\n",
       "      <th>2</th>\n",
       "      <td>3</td>\n",
       "      <td>0.0</td>\n",
       "      <td>34.0</td>\n",
       "      <td>205.0</td>\n",
       "      <td>152.0</td>\n",
       "      <td>153.0</td>\n",
       "    </tr>\n",
       "    <tr>\n",
       "      <th>3</th>\n",
       "      <td>4</td>\n",
       "      <td>0.0</td>\n",
       "      <td>81.0</td>\n",
       "      <td>207.0</td>\n",
       "      <td>153.0</td>\n",
       "      <td>154.0</td>\n",
       "    </tr>\n",
       "    <tr>\n",
       "      <th>4</th>\n",
       "      <td>5</td>\n",
       "      <td>0.0</td>\n",
       "      <td>78.0</td>\n",
       "      <td>203.0</td>\n",
       "      <td>151.0</td>\n",
       "      <td>152.0</td>\n",
       "    </tr>\n",
       "    <tr>\n",
       "      <th>...</th>\n",
       "      <td>...</td>\n",
       "      <td>...</td>\n",
       "      <td>...</td>\n",
       "      <td>...</td>\n",
       "      <td>...</td>\n",
       "      <td>...</td>\n",
       "    </tr>\n",
       "    <tr>\n",
       "      <th>3124</th>\n",
       "      <td>3237</td>\n",
       "      <td>170.0</td>\n",
       "      <td>0.0</td>\n",
       "      <td>252.0</td>\n",
       "      <td>130.0</td>\n",
       "      <td>206.0</td>\n",
       "    </tr>\n",
       "    <tr>\n",
       "      <th>3125</th>\n",
       "      <td>3238</td>\n",
       "      <td>126.0</td>\n",
       "      <td>0.0</td>\n",
       "      <td>254.0</td>\n",
       "      <td>108.0</td>\n",
       "      <td>106.0</td>\n",
       "    </tr>\n",
       "    <tr>\n",
       "      <th>3126</th>\n",
       "      <td>3239</td>\n",
       "      <td>0.0</td>\n",
       "      <td>0.0</td>\n",
       "      <td>158.0</td>\n",
       "      <td>270.0</td>\n",
       "      <td>88.0</td>\n",
       "    </tr>\n",
       "    <tr>\n",
       "      <th>3127</th>\n",
       "      <td>3240</td>\n",
       "      <td>0.0</td>\n",
       "      <td>0.0</td>\n",
       "      <td>0.0</td>\n",
       "      <td>192.0</td>\n",
       "      <td>54.0</td>\n",
       "    </tr>\n",
       "    <tr>\n",
       "      <th>3128</th>\n",
       "      <td>3241</td>\n",
       "      <td>0.0</td>\n",
       "      <td>0.0</td>\n",
       "      <td>0.0</td>\n",
       "      <td>180.0</td>\n",
       "      <td>52.0</td>\n",
       "    </tr>\n",
       "  </tbody>\n",
       "</table>\n",
       "<p>3129 rows × 6 columns</p>\n",
       "</div>"
      ],
      "text/plain": [
       "       key  Bulk 3  Bulk 4  Bulk 12  Bulk 14  Bulk 15\n",
       "0        1     0.0    43.0    206.0    150.0    154.0\n",
       "1        2     0.0    73.0    206.0    149.0    154.0\n",
       "2        3     0.0    34.0    205.0    152.0    153.0\n",
       "3        4     0.0    81.0    207.0    153.0    154.0\n",
       "4        5     0.0    78.0    203.0    151.0    152.0\n",
       "...    ...     ...     ...      ...      ...      ...\n",
       "3124  3237   170.0     0.0    252.0    130.0    206.0\n",
       "3125  3238   126.0     0.0    254.0    108.0    106.0\n",
       "3126  3239     0.0     0.0    158.0    270.0     88.0\n",
       "3127  3240     0.0     0.0      0.0    192.0     54.0\n",
       "3128  3241     0.0     0.0      0.0    180.0     52.0\n",
       "\n",
       "[3129 rows x 6 columns]"
      ]
     },
     "execution_count": 9,
     "metadata": {},
     "output_type": "execute_result"
    }
   ],
   "source": [
    "#Чаще всего использовались следующие сыпучие материалы: \n",
    "#Bulk 3,4,12,14,15.\n",
    "data_bulk = data_bulk[['key','Bulk 3','Bulk 4','Bulk 12','Bulk 14','Bulk 15']]\n",
    "data_bulk"
   ]
  },
  {
   "cell_type": "code",
   "execution_count": 10,
   "metadata": {},
   "outputs": [
    {
     "data": {
      "text/html": [
       "<div>\n",
       "<style scoped>\n",
       "    .dataframe tbody tr th:only-of-type {\n",
       "        vertical-align: middle;\n",
       "    }\n",
       "\n",
       "    .dataframe tbody tr th {\n",
       "        vertical-align: top;\n",
       "    }\n",
       "\n",
       "    .dataframe thead th {\n",
       "        text-align: right;\n",
       "    }\n",
       "</style>\n",
       "<table border=\"1\" class=\"dataframe\">\n",
       "  <thead>\n",
       "    <tr style=\"text-align: right;\">\n",
       "      <th></th>\n",
       "      <th>key</th>\n",
       "      <th>Bulk 3</th>\n",
       "      <th>Bulk 4</th>\n",
       "      <th>Bulk 12</th>\n",
       "      <th>Bulk 14</th>\n",
       "      <th>Bulk 15</th>\n",
       "    </tr>\n",
       "  </thead>\n",
       "  <tbody>\n",
       "    <tr>\n",
       "      <th>0</th>\n",
       "      <td>1</td>\n",
       "      <td>NaN</td>\n",
       "      <td>2019-05-03 11:21:30</td>\n",
       "      <td>2019-05-03 11:03:52</td>\n",
       "      <td>2019-05-03 11:03:52</td>\n",
       "      <td>2019-05-03 11:03:52</td>\n",
       "    </tr>\n",
       "    <tr>\n",
       "      <th>1</th>\n",
       "      <td>2</td>\n",
       "      <td>NaN</td>\n",
       "      <td>2019-05-03 11:46:38</td>\n",
       "      <td>2019-05-03 11:40:20</td>\n",
       "      <td>2019-05-03 11:40:20</td>\n",
       "      <td>2019-05-03 11:40:20</td>\n",
       "    </tr>\n",
       "    <tr>\n",
       "      <th>2</th>\n",
       "      <td>3</td>\n",
       "      <td>NaN</td>\n",
       "      <td>2019-05-03 12:31:06</td>\n",
       "      <td>2019-05-03 12:09:40</td>\n",
       "      <td>2019-05-03 12:09:40</td>\n",
       "      <td>2019-05-03 12:09:40</td>\n",
       "    </tr>\n",
       "    <tr>\n",
       "      <th>3</th>\n",
       "      <td>4</td>\n",
       "      <td>NaN</td>\n",
       "      <td>2019-05-03 12:48:43</td>\n",
       "      <td>2019-05-03 12:41:24</td>\n",
       "      <td>2019-05-03 12:41:24</td>\n",
       "      <td>2019-05-03 12:41:24</td>\n",
       "    </tr>\n",
       "    <tr>\n",
       "      <th>4</th>\n",
       "      <td>5</td>\n",
       "      <td>NaN</td>\n",
       "      <td>2019-05-03 13:18:50</td>\n",
       "      <td>2019-05-03 13:12:56</td>\n",
       "      <td>2019-05-03 13:12:56</td>\n",
       "      <td>2019-05-03 13:12:56</td>\n",
       "    </tr>\n",
       "    <tr>\n",
       "      <th>...</th>\n",
       "      <td>...</td>\n",
       "      <td>...</td>\n",
       "      <td>...</td>\n",
       "      <td>...</td>\n",
       "      <td>...</td>\n",
       "      <td>...</td>\n",
       "    </tr>\n",
       "    <tr>\n",
       "      <th>3124</th>\n",
       "      <td>3237</td>\n",
       "      <td>2019-08-31 22:51:28</td>\n",
       "      <td>NaN</td>\n",
       "      <td>2019-08-31 22:46:52</td>\n",
       "      <td>2019-08-31 22:46:52</td>\n",
       "      <td>2019-08-31 22:46:52</td>\n",
       "    </tr>\n",
       "    <tr>\n",
       "      <th>3125</th>\n",
       "      <td>3238</td>\n",
       "      <td>2019-08-31 23:39:11</td>\n",
       "      <td>NaN</td>\n",
       "      <td>2019-08-31 23:33:09</td>\n",
       "      <td>2019-08-31 23:33:09</td>\n",
       "      <td>2019-08-31 23:33:09</td>\n",
       "    </tr>\n",
       "    <tr>\n",
       "      <th>3126</th>\n",
       "      <td>3239</td>\n",
       "      <td>NaN</td>\n",
       "      <td>NaN</td>\n",
       "      <td>2019-09-01 01:39:41</td>\n",
       "      <td>2019-09-01 01:33:25</td>\n",
       "      <td>2019-09-01 01:33:25</td>\n",
       "    </tr>\n",
       "    <tr>\n",
       "      <th>3127</th>\n",
       "      <td>3240</td>\n",
       "      <td>NaN</td>\n",
       "      <td>NaN</td>\n",
       "      <td>NaN</td>\n",
       "      <td>2019-09-01 02:41:27</td>\n",
       "      <td>2019-09-01 02:41:27</td>\n",
       "    </tr>\n",
       "    <tr>\n",
       "      <th>3128</th>\n",
       "      <td>3241</td>\n",
       "      <td>NaN</td>\n",
       "      <td>NaN</td>\n",
       "      <td>NaN</td>\n",
       "      <td>2019-09-01 04:05:34</td>\n",
       "      <td>2019-09-01 04:05:34</td>\n",
       "    </tr>\n",
       "  </tbody>\n",
       "</table>\n",
       "<p>3129 rows × 6 columns</p>\n",
       "</div>"
      ],
      "text/plain": [
       "       key               Bulk 3               Bulk 4              Bulk 12  \\\n",
       "0        1                  NaN  2019-05-03 11:21:30  2019-05-03 11:03:52   \n",
       "1        2                  NaN  2019-05-03 11:46:38  2019-05-03 11:40:20   \n",
       "2        3                  NaN  2019-05-03 12:31:06  2019-05-03 12:09:40   \n",
       "3        4                  NaN  2019-05-03 12:48:43  2019-05-03 12:41:24   \n",
       "4        5                  NaN  2019-05-03 13:18:50  2019-05-03 13:12:56   \n",
       "...    ...                  ...                  ...                  ...   \n",
       "3124  3237  2019-08-31 22:51:28                  NaN  2019-08-31 22:46:52   \n",
       "3125  3238  2019-08-31 23:39:11                  NaN  2019-08-31 23:33:09   \n",
       "3126  3239                  NaN                  NaN  2019-09-01 01:39:41   \n",
       "3127  3240                  NaN                  NaN                  NaN   \n",
       "3128  3241                  NaN                  NaN                  NaN   \n",
       "\n",
       "                  Bulk 14              Bulk 15  \n",
       "0     2019-05-03 11:03:52  2019-05-03 11:03:52  \n",
       "1     2019-05-03 11:40:20  2019-05-03 11:40:20  \n",
       "2     2019-05-03 12:09:40  2019-05-03 12:09:40  \n",
       "3     2019-05-03 12:41:24  2019-05-03 12:41:24  \n",
       "4     2019-05-03 13:12:56  2019-05-03 13:12:56  \n",
       "...                   ...                  ...  \n",
       "3124  2019-08-31 22:46:52  2019-08-31 22:46:52  \n",
       "3125  2019-08-31 23:33:09  2019-08-31 23:33:09  \n",
       "3126  2019-09-01 01:33:25  2019-09-01 01:33:25  \n",
       "3127  2019-09-01 02:41:27  2019-09-01 02:41:27  \n",
       "3128  2019-09-01 04:05:34  2019-09-01 04:05:34  \n",
       "\n",
       "[3129 rows x 6 columns]"
      ]
     },
     "metadata": {},
     "output_type": "display_data"
    }
   ],
   "source": [
    "# Посмотрим на время добавления присыпок,\n",
    "# так как нельзя использовать присыпки, \n",
    "# которые были сделаны после последнего замера температуры\n",
    "\n",
    "data_bulk_time = pd.read_csv('/datasets/final_steel/data_bulk_time.csv')\n",
    "data_bulk_time = data_bulk_time[['key','Bulk 3','Bulk 4','Bulk 12','Bulk 14','Bulk 15']]\n",
    "display(data_bulk_time)"
   ]
  },
  {
   "cell_type": "code",
   "execution_count": 11,
   "metadata": {},
   "outputs": [
    {
     "name": "stdout",
     "output_type": "stream",
     "text": [
      "       key               Bulk 3 Bulk 4              Bulk 12  \\\n",
      "67      77  2019-05-06 02:28:27    NaN  2019-05-06 02:02:14   \n",
      "68      78  2019-05-06 03:15:07    NaN  2019-05-06 02:55:17   \n",
      "69      79  2019-05-06 04:19:48    NaN  2019-05-06 04:01:08   \n",
      "70      82  2019-05-06 07:02:21    NaN                  NaN   \n",
      "87      99  2019-05-06 19:44:28    NaN  2019-05-06 19:35:34   \n",
      "...    ...                  ...    ...                  ...   \n",
      "3118  3231  2019-08-31 19:34:18    NaN  2019-08-31 19:24:10   \n",
      "3119  3232  2019-08-31 20:03:29    NaN  2019-08-31 19:58:36   \n",
      "3123  3236  2019-08-31 22:20:30    NaN  2019-08-31 22:11:55   \n",
      "3124  3237  2019-08-31 22:51:28    NaN  2019-08-31 22:46:52   \n",
      "3125  3238  2019-08-31 23:39:11    NaN  2019-08-31 23:33:09   \n",
      "\n",
      "                  Bulk 14              Bulk 15        Время_замера  \n",
      "67    2019-05-06 02:02:14  2019-05-06 02:02:14 2019-05-05 21:42:24  \n",
      "68    2019-05-06 02:55:17  2019-05-06 02:55:17 2019-05-05 22:26:54  \n",
      "69    2019-05-06 04:01:08  2019-05-06 04:01:08 2019-05-05 22:52:18  \n",
      "70                    NaN                  NaN 2019-05-05 23:41:58  \n",
      "87    2019-05-06 19:35:34  2019-05-06 19:35:34 2019-05-06 13:12:39  \n",
      "...                   ...                  ...                 ...  \n",
      "3118  2019-08-31 19:24:11  2019-08-31 19:24:10 2019-08-28 20:11:52  \n",
      "3119  2019-08-31 19:58:36  2019-08-31 19:58:36 2019-08-28 21:04:18  \n",
      "3123  2019-08-31 22:11:55  2019-08-31 22:11:55 2019-08-28 23:49:05  \n",
      "3124  2019-08-31 22:46:52  2019-08-31 22:46:52 2019-08-29 00:55:03  \n",
      "3125  2019-08-31 23:33:09  2019-08-31 23:33:09 2019-08-29 01:32:16  \n",
      "\n",
      "[1284 rows x 7 columns]\n",
      "       key Bulk 3               Bulk 4              Bulk 12  \\\n",
      "57      66    NaN  2019-05-05 19:18:03                  NaN   \n",
      "58      67    NaN  2019-05-05 19:53:03                  NaN   \n",
      "60      69    NaN  2019-05-05 21:00:55  2019-05-05 20:36:30   \n",
      "61      70    NaN  2019-05-05 21:30:39  2019-05-05 21:27:49   \n",
      "62      71    NaN  2019-05-05 22:24:24  2019-05-05 22:01:00   \n",
      "...    ...    ...                  ...                  ...   \n",
      "3082  3192    NaN  2019-08-30 14:41:18  2019-08-30 14:37:02   \n",
      "3083  3193    NaN  2019-08-30 15:46:18  2019-08-30 15:39:35   \n",
      "3084  3194    NaN  2019-08-30 16:24:20  2019-08-30 16:16:33   \n",
      "3085  3195    NaN  2019-08-30 16:59:23  2019-08-30 16:55:05   \n",
      "3086  3196    NaN  2019-08-30 17:36:30  2019-08-30 17:31:33   \n",
      "\n",
      "                  Bulk 14              Bulk 15        Время_замера  \n",
      "57    2019-05-05 19:13:32  2019-05-05 19:13:32 2019-05-05 13:55:22  \n",
      "58    2019-05-05 19:44:48                  NaN 2019-05-05 14:33:17  \n",
      "60    2019-05-05 20:36:30  2019-05-05 20:36:30 2019-05-05 16:15:32  \n",
      "61    2019-05-05 21:27:49  2019-05-05 21:27:49 2019-05-05 17:26:46  \n",
      "62    2019-05-05 22:01:00  2019-05-05 22:01:00 2019-05-05 18:56:12  \n",
      "...                   ...                  ...                 ...  \n",
      "3082  2019-08-30 14:37:02  2019-08-30 14:37:02 2019-08-27 18:57:54  \n",
      "3083  2019-08-30 15:39:35  2019-08-30 15:39:35 2019-08-27 19:32:35  \n",
      "3084  2019-08-30 16:16:33  2019-08-30 16:16:33 2019-08-27 20:05:18  \n",
      "3085  2019-08-30 16:55:05  2019-08-30 16:55:05 2019-08-27 21:03:31  \n",
      "3086  2019-08-30 17:31:33  2019-08-30 17:31:33 2019-08-27 21:25:57  \n",
      "\n",
      "[998 rows x 7 columns]\n",
      "       key               Bulk 3 Bulk 4              Bulk 12  \\\n",
      "48      57                  NaN    NaN  2019-05-05 10:02:49   \n",
      "49      58                  NaN    NaN  2019-05-05 10:55:16   \n",
      "50      59                  NaN    NaN  2019-05-05 11:52:49   \n",
      "51      60                  NaN    NaN  2019-05-05 13:09:29   \n",
      "52      61                  NaN    NaN  2019-05-05 14:14:35   \n",
      "...    ...                  ...    ...                  ...   \n",
      "3122  3235                  NaN    NaN  2019-08-31 21:29:26   \n",
      "3123  3236  2019-08-31 22:20:30    NaN  2019-08-31 22:11:55   \n",
      "3124  3237  2019-08-31 22:51:28    NaN  2019-08-31 22:46:52   \n",
      "3125  3238  2019-08-31 23:39:11    NaN  2019-08-31 23:33:09   \n",
      "3126  3239                  NaN    NaN  2019-09-01 01:39:41   \n",
      "\n",
      "                  Bulk 14              Bulk 15        Время_замера  \n",
      "48    2019-05-05 10:02:49  2019-05-05 10:02:49 2019-05-05 06:10:21  \n",
      "49    2019-05-05 10:55:16  2019-05-05 10:55:16 2019-05-05 06:54:08  \n",
      "50    2019-05-05 11:52:49  2019-05-05 11:52:49 2019-05-05 07:38:14  \n",
      "51    2019-05-05 13:09:29  2019-05-05 13:09:29 2019-05-05 08:18:57  \n",
      "52    2019-05-05 14:14:35  2019-05-05 14:14:35 2019-05-05 08:57:46  \n",
      "...                   ...                  ...                 ...  \n",
      "3122  2019-08-31 21:29:26  2019-08-31 21:29:26 2019-08-28 23:08:17  \n",
      "3123  2019-08-31 22:11:55  2019-08-31 22:11:55 2019-08-28 23:49:05  \n",
      "3124  2019-08-31 22:46:52  2019-08-31 22:46:52 2019-08-29 00:55:03  \n",
      "3125  2019-08-31 23:33:09  2019-08-31 23:33:09 2019-08-29 01:32:16  \n",
      "3126  2019-09-01 01:33:25  2019-09-01 01:33:25 2019-08-29 02:15:45  \n",
      "\n",
      "[2411 rows x 7 columns]\n",
      "       key               Bulk 3 Bulk 4              Bulk 12  \\\n",
      "48      57                  NaN    NaN  2019-05-05 10:02:49   \n",
      "49      58                  NaN    NaN  2019-05-05 10:55:16   \n",
      "50      59                  NaN    NaN  2019-05-05 11:52:49   \n",
      "51      60                  NaN    NaN  2019-05-05 13:09:29   \n",
      "52      61                  NaN    NaN  2019-05-05 14:14:35   \n",
      "...    ...                  ...    ...                  ...   \n",
      "3124  3237  2019-08-31 22:51:28    NaN  2019-08-31 22:46:52   \n",
      "3125  3238  2019-08-31 23:39:11    NaN  2019-08-31 23:33:09   \n",
      "3126  3239                  NaN    NaN  2019-09-01 01:39:41   \n",
      "3127  3240                  NaN    NaN                  NaN   \n",
      "3128  3241                  NaN    NaN                  NaN   \n",
      "\n",
      "                  Bulk 14              Bulk 15        Время_замера  \n",
      "48    2019-05-05 10:02:49  2019-05-05 10:02:49 2019-05-05 06:10:21  \n",
      "49    2019-05-05 10:55:16  2019-05-05 10:55:16 2019-05-05 06:54:08  \n",
      "50    2019-05-05 11:52:49  2019-05-05 11:52:49 2019-05-05 07:38:14  \n",
      "51    2019-05-05 13:09:29  2019-05-05 13:09:29 2019-05-05 08:18:57  \n",
      "52    2019-05-05 14:14:35  2019-05-05 14:14:35 2019-05-05 08:57:46  \n",
      "...                   ...                  ...                 ...  \n",
      "3124  2019-08-31 22:46:52  2019-08-31 22:46:52 2019-08-29 00:55:03  \n",
      "3125  2019-08-31 23:33:09  2019-08-31 23:33:09 2019-08-29 01:32:16  \n",
      "3126  2019-09-01 01:33:25  2019-09-01 01:33:25 2019-08-29 02:15:45  \n",
      "3127  2019-09-01 02:41:27  2019-09-01 02:41:27 2019-08-29 03:06:39  \n",
      "3128  2019-09-01 04:05:34  2019-09-01 04:05:34 2019-08-29 03:57:44  \n",
      "\n",
      "[2763 rows x 7 columns]\n",
      "       key               Bulk 3 Bulk 4              Bulk 12  \\\n",
      "48      57                  NaN    NaN  2019-05-05 10:02:49   \n",
      "49      58                  NaN    NaN  2019-05-05 10:55:16   \n",
      "50      59                  NaN    NaN  2019-05-05 11:52:49   \n",
      "51      60                  NaN    NaN  2019-05-05 13:09:29   \n",
      "52      61                  NaN    NaN  2019-05-05 14:14:35   \n",
      "...    ...                  ...    ...                  ...   \n",
      "3124  3237  2019-08-31 22:51:28    NaN  2019-08-31 22:46:52   \n",
      "3125  3238  2019-08-31 23:39:11    NaN  2019-08-31 23:33:09   \n",
      "3126  3239                  NaN    NaN  2019-09-01 01:39:41   \n",
      "3127  3240                  NaN    NaN                  NaN   \n",
      "3128  3241                  NaN    NaN                  NaN   \n",
      "\n",
      "                  Bulk 14              Bulk 15        Время_замера  \n",
      "48    2019-05-05 10:02:49  2019-05-05 10:02:49 2019-05-05 06:10:21  \n",
      "49    2019-05-05 10:55:16  2019-05-05 10:55:16 2019-05-05 06:54:08  \n",
      "50    2019-05-05 11:52:49  2019-05-05 11:52:49 2019-05-05 07:38:14  \n",
      "51    2019-05-05 13:09:29  2019-05-05 13:09:29 2019-05-05 08:18:57  \n",
      "52    2019-05-05 14:14:35  2019-05-05 14:14:35 2019-05-05 08:57:46  \n",
      "...                   ...                  ...                 ...  \n",
      "3124  2019-08-31 22:46:52  2019-08-31 22:46:52 2019-08-29 00:55:03  \n",
      "3125  2019-08-31 23:33:09  2019-08-31 23:33:09 2019-08-29 01:32:16  \n",
      "3126  2019-09-01 01:33:25  2019-09-01 01:33:25 2019-08-29 02:15:45  \n",
      "3127  2019-09-01 02:41:27  2019-09-01 02:41:27 2019-08-29 03:06:39  \n",
      "3128  2019-09-01 04:05:34  2019-09-01 04:05:34 2019-08-29 03:57:44  \n",
      "\n",
      "[2208 rows x 7 columns]\n"
     ]
    }
   ],
   "source": [
    "# Добавим в таблицу с присыпками время последнего замера\n",
    "data_bulk_time['Время_замера'] = data_temp_last['Время замера']\n",
    "name_bulk = ('Bulk 3','Bulk 4','Bulk 12','Bulk 14','Bulk 15')\n",
    "\n",
    "# Посмотрим, есть ли время добавления сыпучих материалов позже замеров\n",
    "for i in name_bulk:\n",
    "    print(data_bulk_time[data_bulk_time.Время_замера<data_bulk_time[i]])\n",
    "    \n",
    "# Таких значений нет"
   ]
  },
  {
   "cell_type": "code",
   "execution_count": 12,
   "metadata": {},
   "outputs": [
    {
     "data": {
      "text/html": [
       "<div>\n",
       "<style scoped>\n",
       "    .dataframe tbody tr th:only-of-type {\n",
       "        vertical-align: middle;\n",
       "    }\n",
       "\n",
       "    .dataframe tbody tr th {\n",
       "        vertical-align: top;\n",
       "    }\n",
       "\n",
       "    .dataframe thead th {\n",
       "        text-align: right;\n",
       "    }\n",
       "</style>\n",
       "<table border=\"1\" class=\"dataframe\">\n",
       "  <thead>\n",
       "    <tr style=\"text-align: right;\">\n",
       "      <th></th>\n",
       "      <th>key</th>\n",
       "      <th>Время замера</th>\n",
       "      <th>Температура</th>\n",
       "      <th>Bulk 3</th>\n",
       "      <th>Bulk 4</th>\n",
       "      <th>Bulk 12</th>\n",
       "      <th>Bulk 14</th>\n",
       "      <th>Bulk 15</th>\n",
       "    </tr>\n",
       "  </thead>\n",
       "  <tbody>\n",
       "    <tr>\n",
       "      <th>0</th>\n",
       "      <td>1</td>\n",
       "      <td>2019-05-03 11:30:39</td>\n",
       "      <td>1613.0</td>\n",
       "      <td>0.0</td>\n",
       "      <td>43.0</td>\n",
       "      <td>206.0</td>\n",
       "      <td>150.0</td>\n",
       "      <td>154.0</td>\n",
       "    </tr>\n",
       "    <tr>\n",
       "      <th>1</th>\n",
       "      <td>2</td>\n",
       "      <td>2019-05-03 11:59:12</td>\n",
       "      <td>1602.0</td>\n",
       "      <td>0.0</td>\n",
       "      <td>73.0</td>\n",
       "      <td>206.0</td>\n",
       "      <td>149.0</td>\n",
       "      <td>154.0</td>\n",
       "    </tr>\n",
       "    <tr>\n",
       "      <th>2</th>\n",
       "      <td>3</td>\n",
       "      <td>2019-05-03 12:34:57</td>\n",
       "      <td>1599.0</td>\n",
       "      <td>0.0</td>\n",
       "      <td>34.0</td>\n",
       "      <td>205.0</td>\n",
       "      <td>152.0</td>\n",
       "      <td>153.0</td>\n",
       "    </tr>\n",
       "    <tr>\n",
       "      <th>3</th>\n",
       "      <td>4</td>\n",
       "      <td>2019-05-03 12:59:25</td>\n",
       "      <td>1625.0</td>\n",
       "      <td>0.0</td>\n",
       "      <td>81.0</td>\n",
       "      <td>207.0</td>\n",
       "      <td>153.0</td>\n",
       "      <td>154.0</td>\n",
       "    </tr>\n",
       "    <tr>\n",
       "      <th>4</th>\n",
       "      <td>5</td>\n",
       "      <td>2019-05-03 13:36:01</td>\n",
       "      <td>1602.0</td>\n",
       "      <td>0.0</td>\n",
       "      <td>78.0</td>\n",
       "      <td>203.0</td>\n",
       "      <td>151.0</td>\n",
       "      <td>152.0</td>\n",
       "    </tr>\n",
       "    <tr>\n",
       "      <th>...</th>\n",
       "      <td>...</td>\n",
       "      <td>...</td>\n",
       "      <td>...</td>\n",
       "      <td>...</td>\n",
       "      <td>...</td>\n",
       "      <td>...</td>\n",
       "      <td>...</td>\n",
       "      <td>...</td>\n",
       "    </tr>\n",
       "    <tr>\n",
       "      <th>3124</th>\n",
       "      <td>3237</td>\n",
       "      <td>2019-08-31 22:44:04</td>\n",
       "      <td>1569.0</td>\n",
       "      <td>170.0</td>\n",
       "      <td>0.0</td>\n",
       "      <td>252.0</td>\n",
       "      <td>130.0</td>\n",
       "      <td>206.0</td>\n",
       "    </tr>\n",
       "    <tr>\n",
       "      <th>3125</th>\n",
       "      <td>3238</td>\n",
       "      <td>2019-08-31 23:30:31</td>\n",
       "      <td>1584.0</td>\n",
       "      <td>126.0</td>\n",
       "      <td>0.0</td>\n",
       "      <td>254.0</td>\n",
       "      <td>108.0</td>\n",
       "      <td>106.0</td>\n",
       "    </tr>\n",
       "    <tr>\n",
       "      <th>3126</th>\n",
       "      <td>3239</td>\n",
       "      <td>2019-09-01 01:31:47</td>\n",
       "      <td>1598.0</td>\n",
       "      <td>0.0</td>\n",
       "      <td>0.0</td>\n",
       "      <td>158.0</td>\n",
       "      <td>270.0</td>\n",
       "      <td>88.0</td>\n",
       "    </tr>\n",
       "    <tr>\n",
       "      <th>3127</th>\n",
       "      <td>3240</td>\n",
       "      <td>2019-09-01 02:39:01</td>\n",
       "      <td>1617.0</td>\n",
       "      <td>0.0</td>\n",
       "      <td>0.0</td>\n",
       "      <td>0.0</td>\n",
       "      <td>192.0</td>\n",
       "      <td>54.0</td>\n",
       "    </tr>\n",
       "    <tr>\n",
       "      <th>3128</th>\n",
       "      <td>3241</td>\n",
       "      <td>2019-09-01 04:03:30</td>\n",
       "      <td>1586.0</td>\n",
       "      <td>0.0</td>\n",
       "      <td>0.0</td>\n",
       "      <td>0.0</td>\n",
       "      <td>180.0</td>\n",
       "      <td>52.0</td>\n",
       "    </tr>\n",
       "  </tbody>\n",
       "</table>\n",
       "<p>3129 rows × 8 columns</p>\n",
       "</div>"
      ],
      "text/plain": [
       "       key        Время замера  Температура  Bulk 3  Bulk 4  Bulk 12  Bulk 14  \\\n",
       "0        1 2019-05-03 11:30:39       1613.0     0.0    43.0    206.0    150.0   \n",
       "1        2 2019-05-03 11:59:12       1602.0     0.0    73.0    206.0    149.0   \n",
       "2        3 2019-05-03 12:34:57       1599.0     0.0    34.0    205.0    152.0   \n",
       "3        4 2019-05-03 12:59:25       1625.0     0.0    81.0    207.0    153.0   \n",
       "4        5 2019-05-03 13:36:01       1602.0     0.0    78.0    203.0    151.0   \n",
       "...    ...                 ...          ...     ...     ...      ...      ...   \n",
       "3124  3237 2019-08-31 22:44:04       1569.0   170.0     0.0    252.0    130.0   \n",
       "3125  3238 2019-08-31 23:30:31       1584.0   126.0     0.0    254.0    108.0   \n",
       "3126  3239 2019-09-01 01:31:47       1598.0     0.0     0.0    158.0    270.0   \n",
       "3127  3240 2019-09-01 02:39:01       1617.0     0.0     0.0      0.0    192.0   \n",
       "3128  3241 2019-09-01 04:03:30       1586.0     0.0     0.0      0.0    180.0   \n",
       "\n",
       "      Bulk 15  \n",
       "0       154.0  \n",
       "1       154.0  \n",
       "2       153.0  \n",
       "3       154.0  \n",
       "4       152.0  \n",
       "...       ...  \n",
       "3124    206.0  \n",
       "3125    106.0  \n",
       "3126     88.0  \n",
       "3127     54.0  \n",
       "3128     52.0  \n",
       "\n",
       "[3129 rows x 8 columns]"
      ]
     },
     "execution_count": 12,
     "metadata": {},
     "output_type": "execute_result"
    }
   ],
   "source": [
    "# Объединим данные по присыпкам с нашей таблицей с температурами\n",
    "data_temp_last = data_temp_last.merge(data_bulk, how = 'inner')\n",
    "data_temp_last"
   ]
  },
  {
   "cell_type": "markdown",
   "metadata": {},
   "source": [
    "### Электроды"
   ]
  },
  {
   "cell_type": "code",
   "execution_count": 13,
   "metadata": {},
   "outputs": [
    {
     "data": {
      "text/html": [
       "<div>\n",
       "<style scoped>\n",
       "    .dataframe tbody tr th:only-of-type {\n",
       "        vertical-align: middle;\n",
       "    }\n",
       "\n",
       "    .dataframe tbody tr th {\n",
       "        vertical-align: top;\n",
       "    }\n",
       "\n",
       "    .dataframe thead th {\n",
       "        text-align: right;\n",
       "    }\n",
       "</style>\n",
       "<table border=\"1\" class=\"dataframe\">\n",
       "  <thead>\n",
       "    <tr style=\"text-align: right;\">\n",
       "      <th></th>\n",
       "      <th>key</th>\n",
       "      <th>Начало нагрева дугой</th>\n",
       "      <th>Конец нагрева дугой</th>\n",
       "      <th>Активная мощность</th>\n",
       "      <th>Реактивная мощность</th>\n",
       "    </tr>\n",
       "  </thead>\n",
       "  <tbody>\n",
       "    <tr>\n",
       "      <th>0</th>\n",
       "      <td>1</td>\n",
       "      <td>2019-05-03 11:02:14</td>\n",
       "      <td>2019-05-03 11:06:02</td>\n",
       "      <td>0.976059</td>\n",
       "      <td>0.687084</td>\n",
       "    </tr>\n",
       "    <tr>\n",
       "      <th>1</th>\n",
       "      <td>1</td>\n",
       "      <td>2019-05-03 11:07:28</td>\n",
       "      <td>2019-05-03 11:10:33</td>\n",
       "      <td>0.805607</td>\n",
       "      <td>0.520285</td>\n",
       "    </tr>\n",
       "    <tr>\n",
       "      <th>2</th>\n",
       "      <td>1</td>\n",
       "      <td>2019-05-03 11:11:44</td>\n",
       "      <td>2019-05-03 11:14:36</td>\n",
       "      <td>0.744363</td>\n",
       "      <td>0.498805</td>\n",
       "    </tr>\n",
       "    <tr>\n",
       "      <th>3</th>\n",
       "      <td>1</td>\n",
       "      <td>2019-05-03 11:18:14</td>\n",
       "      <td>2019-05-03 11:24:19</td>\n",
       "      <td>1.659363</td>\n",
       "      <td>1.062669</td>\n",
       "    </tr>\n",
       "    <tr>\n",
       "      <th>4</th>\n",
       "      <td>1</td>\n",
       "      <td>2019-05-03 11:26:09</td>\n",
       "      <td>2019-05-03 11:28:37</td>\n",
       "      <td>0.692755</td>\n",
       "      <td>0.414397</td>\n",
       "    </tr>\n",
       "    <tr>\n",
       "      <th>...</th>\n",
       "      <td>...</td>\n",
       "      <td>...</td>\n",
       "      <td>...</td>\n",
       "      <td>...</td>\n",
       "      <td>...</td>\n",
       "    </tr>\n",
       "    <tr>\n",
       "      <th>14871</th>\n",
       "      <td>3241</td>\n",
       "      <td>2019-09-01 03:58:58</td>\n",
       "      <td>2019-09-01 04:01:35</td>\n",
       "      <td>0.533670</td>\n",
       "      <td>0.354439</td>\n",
       "    </tr>\n",
       "    <tr>\n",
       "      <th>14872</th>\n",
       "      <td>3241</td>\n",
       "      <td>2019-09-01 04:05:04</td>\n",
       "      <td>2019-09-01 04:08:04</td>\n",
       "      <td>0.676604</td>\n",
       "      <td>0.523631</td>\n",
       "    </tr>\n",
       "    <tr>\n",
       "      <th>14873</th>\n",
       "      <td>3241</td>\n",
       "      <td>2019-09-01 04:16:41</td>\n",
       "      <td>2019-09-01 04:19:45</td>\n",
       "      <td>0.733899</td>\n",
       "      <td>0.475654</td>\n",
       "    </tr>\n",
       "    <tr>\n",
       "      <th>14874</th>\n",
       "      <td>3241</td>\n",
       "      <td>2019-09-01 04:31:51</td>\n",
       "      <td>2019-09-01 04:32:48</td>\n",
       "      <td>0.220694</td>\n",
       "      <td>0.145768</td>\n",
       "    </tr>\n",
       "    <tr>\n",
       "      <th>14875</th>\n",
       "      <td>3241</td>\n",
       "      <td>2019-09-01 04:34:47</td>\n",
       "      <td>2019-09-01 04:36:08</td>\n",
       "      <td>0.306580</td>\n",
       "      <td>0.196708</td>\n",
       "    </tr>\n",
       "  </tbody>\n",
       "</table>\n",
       "<p>14876 rows × 5 columns</p>\n",
       "</div>"
      ],
      "text/plain": [
       "        key Начало нагрева дугой  Конец нагрева дугой  Активная мощность  \\\n",
       "0         1  2019-05-03 11:02:14  2019-05-03 11:06:02           0.976059   \n",
       "1         1  2019-05-03 11:07:28  2019-05-03 11:10:33           0.805607   \n",
       "2         1  2019-05-03 11:11:44  2019-05-03 11:14:36           0.744363   \n",
       "3         1  2019-05-03 11:18:14  2019-05-03 11:24:19           1.659363   \n",
       "4         1  2019-05-03 11:26:09  2019-05-03 11:28:37           0.692755   \n",
       "...     ...                  ...                  ...                ...   \n",
       "14871  3241  2019-09-01 03:58:58  2019-09-01 04:01:35           0.533670   \n",
       "14872  3241  2019-09-01 04:05:04  2019-09-01 04:08:04           0.676604   \n",
       "14873  3241  2019-09-01 04:16:41  2019-09-01 04:19:45           0.733899   \n",
       "14874  3241  2019-09-01 04:31:51  2019-09-01 04:32:48           0.220694   \n",
       "14875  3241  2019-09-01 04:34:47  2019-09-01 04:36:08           0.306580   \n",
       "\n",
       "       Реактивная мощность  \n",
       "0                 0.687084  \n",
       "1                 0.520285  \n",
       "2                 0.498805  \n",
       "3                 1.062669  \n",
       "4                 0.414397  \n",
       "...                    ...  \n",
       "14871             0.354439  \n",
       "14872             0.523631  \n",
       "14873             0.475654  \n",
       "14874             0.145768  \n",
       "14875             0.196708  \n",
       "\n",
       "[14876 rows x 5 columns]"
      ]
     },
     "metadata": {},
     "output_type": "display_data"
    }
   ],
   "source": [
    "data_arc = pd.read_csv('/datasets/final_steel/data_arc.csv')\n",
    "display(data_arc)"
   ]
  },
  {
   "cell_type": "code",
   "execution_count": 14,
   "metadata": {},
   "outputs": [
    {
     "name": "stdout",
     "output_type": "stream",
     "text": [
      "<class 'pandas.core.frame.DataFrame'>\n",
      "RangeIndex: 14876 entries, 0 to 14875\n",
      "Data columns (total 5 columns):\n",
      " #   Column                Non-Null Count  Dtype         \n",
      "---  ------                --------------  -----         \n",
      " 0   key                   14876 non-null  int64         \n",
      " 1   Начало нагрева дугой  14876 non-null  object        \n",
      " 2   Конец нагрева дугой   14876 non-null  datetime64[ns]\n",
      " 3   Активная мощность     14876 non-null  float64       \n",
      " 4   Реактивная мощность   14876 non-null  float64       \n",
      "dtypes: datetime64[ns](1), float64(2), int64(1), object(1)\n",
      "memory usage: 581.2+ KB\n",
      "None\n"
     ]
    },
    {
     "data": {
      "text/html": [
       "<div>\n",
       "<style scoped>\n",
       "    .dataframe tbody tr th:only-of-type {\n",
       "        vertical-align: middle;\n",
       "    }\n",
       "\n",
       "    .dataframe tbody tr th {\n",
       "        vertical-align: top;\n",
       "    }\n",
       "\n",
       "    .dataframe thead th {\n",
       "        text-align: right;\n",
       "    }\n",
       "</style>\n",
       "<table border=\"1\" class=\"dataframe\">\n",
       "  <thead>\n",
       "    <tr style=\"text-align: right;\">\n",
       "      <th></th>\n",
       "      <th>key</th>\n",
       "      <th>Начало нагрева дугой</th>\n",
       "      <th>Конец нагрева дугой</th>\n",
       "      <th>Активная мощность</th>\n",
       "      <th>Реактивная мощность</th>\n",
       "    </tr>\n",
       "  </thead>\n",
       "  <tbody>\n",
       "    <tr>\n",
       "      <th>0</th>\n",
       "      <td>1</td>\n",
       "      <td>2019-05-03 11:02:14</td>\n",
       "      <td>2019-05-03 11:06:02</td>\n",
       "      <td>0.976059</td>\n",
       "      <td>0.687084</td>\n",
       "    </tr>\n",
       "    <tr>\n",
       "      <th>1</th>\n",
       "      <td>1</td>\n",
       "      <td>2019-05-03 11:07:28</td>\n",
       "      <td>2019-05-03 11:10:33</td>\n",
       "      <td>0.805607</td>\n",
       "      <td>0.520285</td>\n",
       "    </tr>\n",
       "    <tr>\n",
       "      <th>2</th>\n",
       "      <td>1</td>\n",
       "      <td>2019-05-03 11:11:44</td>\n",
       "      <td>2019-05-03 11:14:36</td>\n",
       "      <td>0.744363</td>\n",
       "      <td>0.498805</td>\n",
       "    </tr>\n",
       "    <tr>\n",
       "      <th>3</th>\n",
       "      <td>1</td>\n",
       "      <td>2019-05-03 11:18:14</td>\n",
       "      <td>2019-05-03 11:24:19</td>\n",
       "      <td>1.659363</td>\n",
       "      <td>1.062669</td>\n",
       "    </tr>\n",
       "    <tr>\n",
       "      <th>4</th>\n",
       "      <td>1</td>\n",
       "      <td>2019-05-03 11:26:09</td>\n",
       "      <td>2019-05-03 11:28:37</td>\n",
       "      <td>0.692755</td>\n",
       "      <td>0.414397</td>\n",
       "    </tr>\n",
       "    <tr>\n",
       "      <th>...</th>\n",
       "      <td>...</td>\n",
       "      <td>...</td>\n",
       "      <td>...</td>\n",
       "      <td>...</td>\n",
       "      <td>...</td>\n",
       "    </tr>\n",
       "    <tr>\n",
       "      <th>14871</th>\n",
       "      <td>3241</td>\n",
       "      <td>2019-09-01 03:58:58</td>\n",
       "      <td>2019-09-01 04:01:35</td>\n",
       "      <td>0.533670</td>\n",
       "      <td>0.354439</td>\n",
       "    </tr>\n",
       "    <tr>\n",
       "      <th>14872</th>\n",
       "      <td>3241</td>\n",
       "      <td>2019-09-01 04:05:04</td>\n",
       "      <td>2019-09-01 04:08:04</td>\n",
       "      <td>0.676604</td>\n",
       "      <td>0.523631</td>\n",
       "    </tr>\n",
       "    <tr>\n",
       "      <th>14873</th>\n",
       "      <td>3241</td>\n",
       "      <td>2019-09-01 04:16:41</td>\n",
       "      <td>2019-09-01 04:19:45</td>\n",
       "      <td>0.733899</td>\n",
       "      <td>0.475654</td>\n",
       "    </tr>\n",
       "    <tr>\n",
       "      <th>14874</th>\n",
       "      <td>3241</td>\n",
       "      <td>2019-09-01 04:31:51</td>\n",
       "      <td>2019-09-01 04:32:48</td>\n",
       "      <td>0.220694</td>\n",
       "      <td>0.145768</td>\n",
       "    </tr>\n",
       "    <tr>\n",
       "      <th>14875</th>\n",
       "      <td>3241</td>\n",
       "      <td>2019-09-01 04:34:47</td>\n",
       "      <td>2019-09-01 04:36:08</td>\n",
       "      <td>0.306580</td>\n",
       "      <td>0.196708</td>\n",
       "    </tr>\n",
       "  </tbody>\n",
       "</table>\n",
       "<p>14876 rows × 5 columns</p>\n",
       "</div>"
      ],
      "text/plain": [
       "        key Начало нагрева дугой Конец нагрева дугой  Активная мощность  \\\n",
       "0         1  2019-05-03 11:02:14 2019-05-03 11:06:02           0.976059   \n",
       "1         1  2019-05-03 11:07:28 2019-05-03 11:10:33           0.805607   \n",
       "2         1  2019-05-03 11:11:44 2019-05-03 11:14:36           0.744363   \n",
       "3         1  2019-05-03 11:18:14 2019-05-03 11:24:19           1.659363   \n",
       "4         1  2019-05-03 11:26:09 2019-05-03 11:28:37           0.692755   \n",
       "...     ...                  ...                 ...                ...   \n",
       "14871  3241  2019-09-01 03:58:58 2019-09-01 04:01:35           0.533670   \n",
       "14872  3241  2019-09-01 04:05:04 2019-09-01 04:08:04           0.676604   \n",
       "14873  3241  2019-09-01 04:16:41 2019-09-01 04:19:45           0.733899   \n",
       "14874  3241  2019-09-01 04:31:51 2019-09-01 04:32:48           0.220694   \n",
       "14875  3241  2019-09-01 04:34:47 2019-09-01 04:36:08           0.306580   \n",
       "\n",
       "       Реактивная мощность  \n",
       "0                 0.687084  \n",
       "1                 0.520285  \n",
       "2                 0.498805  \n",
       "3                 1.062669  \n",
       "4                 0.414397  \n",
       "...                    ...  \n",
       "14871             0.354439  \n",
       "14872             0.523631  \n",
       "14873             0.475654  \n",
       "14874             0.145768  \n",
       "14875             0.196708  \n",
       "\n",
       "[14876 rows x 5 columns]"
      ]
     },
     "execution_count": 14,
     "metadata": {},
     "output_type": "execute_result"
    }
   ],
   "source": [
    "# Заменим тип данных время конца наргрева на datetime\n",
    "data_arc['Конец нагрева дугой'] = pd.to_datetime(data_arc['Конец нагрева дугой'], format='%Y-%m-%dT%H:%M:%S')\n",
    "print(data_arc.info())\n",
    "data_arc"
   ]
  },
  {
   "cell_type": "code",
   "execution_count": 15,
   "metadata": {},
   "outputs": [
    {
     "data": {
      "text/html": [
       "<div>\n",
       "<style scoped>\n",
       "    .dataframe tbody tr th:only-of-type {\n",
       "        vertical-align: middle;\n",
       "    }\n",
       "\n",
       "    .dataframe tbody tr th {\n",
       "        vertical-align: top;\n",
       "    }\n",
       "\n",
       "    .dataframe thead th {\n",
       "        text-align: right;\n",
       "    }\n",
       "</style>\n",
       "<table border=\"1\" class=\"dataframe\">\n",
       "  <thead>\n",
       "    <tr style=\"text-align: right;\">\n",
       "      <th></th>\n",
       "      <th>Активная мощность</th>\n",
       "      <th>Реактивная мощность</th>\n",
       "    </tr>\n",
       "    <tr>\n",
       "      <th>key</th>\n",
       "      <th></th>\n",
       "      <th></th>\n",
       "    </tr>\n",
       "  </thead>\n",
       "  <tbody>\n",
       "    <tr>\n",
       "      <th>1</th>\n",
       "      <td>4.878147</td>\n",
       "      <td>3.183241</td>\n",
       "    </tr>\n",
       "    <tr>\n",
       "      <th>2</th>\n",
       "      <td>3.052598</td>\n",
       "      <td>1.998112</td>\n",
       "    </tr>\n",
       "    <tr>\n",
       "      <th>3</th>\n",
       "      <td>2.525882</td>\n",
       "      <td>1.599076</td>\n",
       "    </tr>\n",
       "    <tr>\n",
       "      <th>4</th>\n",
       "      <td>3.209250</td>\n",
       "      <td>2.060298</td>\n",
       "    </tr>\n",
       "    <tr>\n",
       "      <th>5</th>\n",
       "      <td>3.347173</td>\n",
       "      <td>2.252643</td>\n",
       "    </tr>\n",
       "    <tr>\n",
       "      <th>...</th>\n",
       "      <td>...</td>\n",
       "      <td>...</td>\n",
       "    </tr>\n",
       "    <tr>\n",
       "      <th>3237</th>\n",
       "      <td>3.932467</td>\n",
       "      <td>2.828459</td>\n",
       "    </tr>\n",
       "    <tr>\n",
       "      <th>3238</th>\n",
       "      <td>2.106529</td>\n",
       "      <td>1.681182</td>\n",
       "    </tr>\n",
       "    <tr>\n",
       "      <th>3239</th>\n",
       "      <td>4.666754</td>\n",
       "      <td>3.111617</td>\n",
       "    </tr>\n",
       "    <tr>\n",
       "      <th>3240</th>\n",
       "      <td>2.984083</td>\n",
       "      <td>2.483267</td>\n",
       "    </tr>\n",
       "    <tr>\n",
       "      <th>3241</th>\n",
       "      <td>2.471447</td>\n",
       "      <td>1.696199</td>\n",
       "    </tr>\n",
       "  </tbody>\n",
       "</table>\n",
       "<p>3214 rows × 2 columns</p>\n",
       "</div>"
      ],
      "text/plain": [
       "      Активная мощность  Реактивная мощность\n",
       "key                                         \n",
       "1              4.878147             3.183241\n",
       "2              3.052598             1.998112\n",
       "3              2.525882             1.599076\n",
       "4              3.209250             2.060298\n",
       "5              3.347173             2.252643\n",
       "...                 ...                  ...\n",
       "3237           3.932467             2.828459\n",
       "3238           2.106529             1.681182\n",
       "3239           4.666754             3.111617\n",
       "3240           2.984083             2.483267\n",
       "3241           2.471447             1.696199\n",
       "\n",
       "[3214 rows x 2 columns]"
      ]
     },
     "metadata": {},
     "output_type": "display_data"
    }
   ],
   "source": [
    "# Cуммируем по партиям\n",
    "data_arc_new = data_arc.groupby(['key']).agg(sum)\n",
    "display(data_arc_new)"
   ]
  },
  {
   "cell_type": "code",
   "execution_count": 16,
   "metadata": {},
   "outputs": [],
   "source": [
    "# Находим время последнего нагрева\n",
    "data_arc.drop_duplicates(subset = 'key', keep = \"last\") \n",
    "data_arc_new['time_power'] = data_arc['Конец нагрева дугой']"
   ]
  },
  {
   "cell_type": "code",
   "execution_count": 17,
   "metadata": {},
   "outputs": [
    {
     "data": {
      "text/html": [
       "<div>\n",
       "<style scoped>\n",
       "    .dataframe tbody tr th:only-of-type {\n",
       "        vertical-align: middle;\n",
       "    }\n",
       "\n",
       "    .dataframe tbody tr th {\n",
       "        vertical-align: top;\n",
       "    }\n",
       "\n",
       "    .dataframe thead th {\n",
       "        text-align: right;\n",
       "    }\n",
       "</style>\n",
       "<table border=\"1\" class=\"dataframe\">\n",
       "  <thead>\n",
       "    <tr style=\"text-align: right;\">\n",
       "      <th></th>\n",
       "      <th>Активная мощность</th>\n",
       "      <th>Реактивная мощность</th>\n",
       "      <th>time_power</th>\n",
       "    </tr>\n",
       "    <tr>\n",
       "      <th>key</th>\n",
       "      <th></th>\n",
       "      <th></th>\n",
       "      <th></th>\n",
       "    </tr>\n",
       "  </thead>\n",
       "  <tbody>\n",
       "    <tr>\n",
       "      <th>1</th>\n",
       "      <td>4.878147</td>\n",
       "      <td>3.183241</td>\n",
       "      <td>2019-05-03 11:10:33</td>\n",
       "    </tr>\n",
       "    <tr>\n",
       "      <th>2</th>\n",
       "      <td>3.052598</td>\n",
       "      <td>1.998112</td>\n",
       "      <td>2019-05-03 11:14:36</td>\n",
       "    </tr>\n",
       "    <tr>\n",
       "      <th>3</th>\n",
       "      <td>2.525882</td>\n",
       "      <td>1.599076</td>\n",
       "      <td>2019-05-03 11:24:19</td>\n",
       "    </tr>\n",
       "    <tr>\n",
       "      <th>4</th>\n",
       "      <td>3.209250</td>\n",
       "      <td>2.060298</td>\n",
       "      <td>2019-05-03 11:28:37</td>\n",
       "    </tr>\n",
       "    <tr>\n",
       "      <th>5</th>\n",
       "      <td>3.347173</td>\n",
       "      <td>2.252643</td>\n",
       "      <td>2019-05-03 11:36:31</td>\n",
       "    </tr>\n",
       "    <tr>\n",
       "      <th>...</th>\n",
       "      <td>...</td>\n",
       "      <td>...</td>\n",
       "      <td>...</td>\n",
       "    </tr>\n",
       "    <tr>\n",
       "      <th>3237</th>\n",
       "      <td>3.932467</td>\n",
       "      <td>2.828459</td>\n",
       "      <td>2019-05-29 07:12:03</td>\n",
       "    </tr>\n",
       "    <tr>\n",
       "      <th>3238</th>\n",
       "      <td>2.106529</td>\n",
       "      <td>1.681182</td>\n",
       "      <td>2019-05-29 07:19:38</td>\n",
       "    </tr>\n",
       "    <tr>\n",
       "      <th>3239</th>\n",
       "      <td>4.666754</td>\n",
       "      <td>3.111617</td>\n",
       "      <td>2019-05-29 07:28:25</td>\n",
       "    </tr>\n",
       "    <tr>\n",
       "      <th>3240</th>\n",
       "      <td>2.984083</td>\n",
       "      <td>2.483267</td>\n",
       "      <td>2019-05-29 07:57:30</td>\n",
       "    </tr>\n",
       "    <tr>\n",
       "      <th>3241</th>\n",
       "      <td>2.471447</td>\n",
       "      <td>1.696199</td>\n",
       "      <td>2019-05-29 08:05:47</td>\n",
       "    </tr>\n",
       "  </tbody>\n",
       "</table>\n",
       "<p>3214 rows × 3 columns</p>\n",
       "</div>"
      ],
      "text/plain": [
       "      Активная мощность  Реактивная мощность          time_power\n",
       "key                                                             \n",
       "1              4.878147             3.183241 2019-05-03 11:10:33\n",
       "2              3.052598             1.998112 2019-05-03 11:14:36\n",
       "3              2.525882             1.599076 2019-05-03 11:24:19\n",
       "4              3.209250             2.060298 2019-05-03 11:28:37\n",
       "5              3.347173             2.252643 2019-05-03 11:36:31\n",
       "...                 ...                  ...                 ...\n",
       "3237           3.932467             2.828459 2019-05-29 07:12:03\n",
       "3238           2.106529             1.681182 2019-05-29 07:19:38\n",
       "3239           4.666754             3.111617 2019-05-29 07:28:25\n",
       "3240           2.984083             2.483267 2019-05-29 07:57:30\n",
       "3241           2.471447             1.696199 2019-05-29 08:05:47\n",
       "\n",
       "[3214 rows x 3 columns]"
      ]
     },
     "metadata": {},
     "output_type": "display_data"
    }
   ],
   "source": [
    "data_arc_new.reset_index()\n",
    "display(data_arc_new)"
   ]
  },
  {
   "cell_type": "code",
   "execution_count": 18,
   "metadata": {},
   "outputs": [
    {
     "data": {
      "text/html": [
       "<div>\n",
       "<style scoped>\n",
       "    .dataframe tbody tr th:only-of-type {\n",
       "        vertical-align: middle;\n",
       "    }\n",
       "\n",
       "    .dataframe tbody tr th {\n",
       "        vertical-align: top;\n",
       "    }\n",
       "\n",
       "    .dataframe thead th {\n",
       "        text-align: right;\n",
       "    }\n",
       "</style>\n",
       "<table border=\"1\" class=\"dataframe\">\n",
       "  <thead>\n",
       "    <tr style=\"text-align: right;\">\n",
       "      <th></th>\n",
       "      <th>key</th>\n",
       "      <th>Время замера</th>\n",
       "      <th>Температура</th>\n",
       "      <th>Bulk 3</th>\n",
       "      <th>Bulk 4</th>\n",
       "      <th>Bulk 12</th>\n",
       "      <th>Bulk 14</th>\n",
       "      <th>Bulk 15</th>\n",
       "      <th>Активная мощность</th>\n",
       "      <th>Реактивная мощность</th>\n",
       "      <th>time_power</th>\n",
       "    </tr>\n",
       "  </thead>\n",
       "  <tbody>\n",
       "    <tr>\n",
       "      <th>0</th>\n",
       "      <td>1</td>\n",
       "      <td>2019-05-03 11:30:39</td>\n",
       "      <td>1613.0</td>\n",
       "      <td>0.0</td>\n",
       "      <td>43.0</td>\n",
       "      <td>206.0</td>\n",
       "      <td>150.0</td>\n",
       "      <td>154.0</td>\n",
       "      <td>4.878147</td>\n",
       "      <td>3.183241</td>\n",
       "      <td>2019-05-03 11:10:33</td>\n",
       "    </tr>\n",
       "    <tr>\n",
       "      <th>1</th>\n",
       "      <td>2</td>\n",
       "      <td>2019-05-03 11:59:12</td>\n",
       "      <td>1602.0</td>\n",
       "      <td>0.0</td>\n",
       "      <td>73.0</td>\n",
       "      <td>206.0</td>\n",
       "      <td>149.0</td>\n",
       "      <td>154.0</td>\n",
       "      <td>3.052598</td>\n",
       "      <td>1.998112</td>\n",
       "      <td>2019-05-03 11:14:36</td>\n",
       "    </tr>\n",
       "    <tr>\n",
       "      <th>2</th>\n",
       "      <td>3</td>\n",
       "      <td>2019-05-03 12:34:57</td>\n",
       "      <td>1599.0</td>\n",
       "      <td>0.0</td>\n",
       "      <td>34.0</td>\n",
       "      <td>205.0</td>\n",
       "      <td>152.0</td>\n",
       "      <td>153.0</td>\n",
       "      <td>2.525882</td>\n",
       "      <td>1.599076</td>\n",
       "      <td>2019-05-03 11:24:19</td>\n",
       "    </tr>\n",
       "    <tr>\n",
       "      <th>3</th>\n",
       "      <td>4</td>\n",
       "      <td>2019-05-03 12:59:25</td>\n",
       "      <td>1625.0</td>\n",
       "      <td>0.0</td>\n",
       "      <td>81.0</td>\n",
       "      <td>207.0</td>\n",
       "      <td>153.0</td>\n",
       "      <td>154.0</td>\n",
       "      <td>3.209250</td>\n",
       "      <td>2.060298</td>\n",
       "      <td>2019-05-03 11:28:37</td>\n",
       "    </tr>\n",
       "    <tr>\n",
       "      <th>4</th>\n",
       "      <td>5</td>\n",
       "      <td>2019-05-03 13:36:01</td>\n",
       "      <td>1602.0</td>\n",
       "      <td>0.0</td>\n",
       "      <td>78.0</td>\n",
       "      <td>203.0</td>\n",
       "      <td>151.0</td>\n",
       "      <td>152.0</td>\n",
       "      <td>3.347173</td>\n",
       "      <td>2.252643</td>\n",
       "      <td>2019-05-03 11:36:31</td>\n",
       "    </tr>\n",
       "    <tr>\n",
       "      <th>...</th>\n",
       "      <td>...</td>\n",
       "      <td>...</td>\n",
       "      <td>...</td>\n",
       "      <td>...</td>\n",
       "      <td>...</td>\n",
       "      <td>...</td>\n",
       "      <td>...</td>\n",
       "      <td>...</td>\n",
       "      <td>...</td>\n",
       "      <td>...</td>\n",
       "      <td>...</td>\n",
       "    </tr>\n",
       "    <tr>\n",
       "      <th>3124</th>\n",
       "      <td>3237</td>\n",
       "      <td>2019-08-31 22:44:04</td>\n",
       "      <td>1569.0</td>\n",
       "      <td>170.0</td>\n",
       "      <td>0.0</td>\n",
       "      <td>252.0</td>\n",
       "      <td>130.0</td>\n",
       "      <td>206.0</td>\n",
       "      <td>3.932467</td>\n",
       "      <td>2.828459</td>\n",
       "      <td>2019-05-29 07:12:03</td>\n",
       "    </tr>\n",
       "    <tr>\n",
       "      <th>3125</th>\n",
       "      <td>3238</td>\n",
       "      <td>2019-08-31 23:30:31</td>\n",
       "      <td>1584.0</td>\n",
       "      <td>126.0</td>\n",
       "      <td>0.0</td>\n",
       "      <td>254.0</td>\n",
       "      <td>108.0</td>\n",
       "      <td>106.0</td>\n",
       "      <td>2.106529</td>\n",
       "      <td>1.681182</td>\n",
       "      <td>2019-05-29 07:19:38</td>\n",
       "    </tr>\n",
       "    <tr>\n",
       "      <th>3126</th>\n",
       "      <td>3239</td>\n",
       "      <td>2019-09-01 01:31:47</td>\n",
       "      <td>1598.0</td>\n",
       "      <td>0.0</td>\n",
       "      <td>0.0</td>\n",
       "      <td>158.0</td>\n",
       "      <td>270.0</td>\n",
       "      <td>88.0</td>\n",
       "      <td>4.666754</td>\n",
       "      <td>3.111617</td>\n",
       "      <td>2019-05-29 07:28:25</td>\n",
       "    </tr>\n",
       "    <tr>\n",
       "      <th>3127</th>\n",
       "      <td>3240</td>\n",
       "      <td>2019-09-01 02:39:01</td>\n",
       "      <td>1617.0</td>\n",
       "      <td>0.0</td>\n",
       "      <td>0.0</td>\n",
       "      <td>0.0</td>\n",
       "      <td>192.0</td>\n",
       "      <td>54.0</td>\n",
       "      <td>2.984083</td>\n",
       "      <td>2.483267</td>\n",
       "      <td>2019-05-29 07:57:30</td>\n",
       "    </tr>\n",
       "    <tr>\n",
       "      <th>3128</th>\n",
       "      <td>3241</td>\n",
       "      <td>2019-09-01 04:03:30</td>\n",
       "      <td>1586.0</td>\n",
       "      <td>0.0</td>\n",
       "      <td>0.0</td>\n",
       "      <td>0.0</td>\n",
       "      <td>180.0</td>\n",
       "      <td>52.0</td>\n",
       "      <td>2.471447</td>\n",
       "      <td>1.696199</td>\n",
       "      <td>2019-05-29 08:05:47</td>\n",
       "    </tr>\n",
       "  </tbody>\n",
       "</table>\n",
       "<p>3129 rows × 11 columns</p>\n",
       "</div>"
      ],
      "text/plain": [
       "       key        Время замера  Температура  Bulk 3  Bulk 4  Bulk 12  Bulk 14  \\\n",
       "0        1 2019-05-03 11:30:39       1613.0     0.0    43.0    206.0    150.0   \n",
       "1        2 2019-05-03 11:59:12       1602.0     0.0    73.0    206.0    149.0   \n",
       "2        3 2019-05-03 12:34:57       1599.0     0.0    34.0    205.0    152.0   \n",
       "3        4 2019-05-03 12:59:25       1625.0     0.0    81.0    207.0    153.0   \n",
       "4        5 2019-05-03 13:36:01       1602.0     0.0    78.0    203.0    151.0   \n",
       "...    ...                 ...          ...     ...     ...      ...      ...   \n",
       "3124  3237 2019-08-31 22:44:04       1569.0   170.0     0.0    252.0    130.0   \n",
       "3125  3238 2019-08-31 23:30:31       1584.0   126.0     0.0    254.0    108.0   \n",
       "3126  3239 2019-09-01 01:31:47       1598.0     0.0     0.0    158.0    270.0   \n",
       "3127  3240 2019-09-01 02:39:01       1617.0     0.0     0.0      0.0    192.0   \n",
       "3128  3241 2019-09-01 04:03:30       1586.0     0.0     0.0      0.0    180.0   \n",
       "\n",
       "      Bulk 15  Активная мощность  Реактивная мощность          time_power  \n",
       "0       154.0           4.878147             3.183241 2019-05-03 11:10:33  \n",
       "1       154.0           3.052598             1.998112 2019-05-03 11:14:36  \n",
       "2       153.0           2.525882             1.599076 2019-05-03 11:24:19  \n",
       "3       154.0           3.209250             2.060298 2019-05-03 11:28:37  \n",
       "4       152.0           3.347173             2.252643 2019-05-03 11:36:31  \n",
       "...       ...                ...                  ...                 ...  \n",
       "3124    206.0           3.932467             2.828459 2019-05-29 07:12:03  \n",
       "3125    106.0           2.106529             1.681182 2019-05-29 07:19:38  \n",
       "3126     88.0           4.666754             3.111617 2019-05-29 07:28:25  \n",
       "3127     54.0           2.984083             2.483267 2019-05-29 07:57:30  \n",
       "3128     52.0           2.471447             1.696199 2019-05-29 08:05:47  \n",
       "\n",
       "[3129 rows x 11 columns]"
      ]
     },
     "execution_count": 18,
     "metadata": {},
     "output_type": "execute_result"
    }
   ],
   "source": [
    "# Объединим таблицу\n",
    "data_temp_last = data_temp_last.join(data_arc_new, on = 'key')\n",
    "data_temp_last"
   ]
  },
  {
   "cell_type": "code",
   "execution_count": 19,
   "metadata": {},
   "outputs": [],
   "source": [
    "# Если время нагрева больше времени снятия замера, то удаляем эту партию\n",
    "data_temp_last = data_temp_last.drop(data_temp_last[data_temp_last['Время замера']<data_temp_last['time_power']].index,axis= 0)\n",
    "# Удаляем столбец с time power\n",
    "data_temp_last = data_temp_last.drop(['time_power'] , axis=1)"
   ]
  },
  {
   "cell_type": "markdown",
   "metadata": {},
   "source": [
    "### Первичная температура"
   ]
  },
  {
   "cell_type": "code",
   "execution_count": 20,
   "metadata": {},
   "outputs": [
    {
     "data": {
      "text/html": [
       "<div>\n",
       "<style scoped>\n",
       "    .dataframe tbody tr th:only-of-type {\n",
       "        vertical-align: middle;\n",
       "    }\n",
       "\n",
       "    .dataframe tbody tr th {\n",
       "        vertical-align: top;\n",
       "    }\n",
       "\n",
       "    .dataframe thead th {\n",
       "        text-align: right;\n",
       "    }\n",
       "</style>\n",
       "<table border=\"1\" class=\"dataframe\">\n",
       "  <thead>\n",
       "    <tr style=\"text-align: right;\">\n",
       "      <th></th>\n",
       "      <th>key</th>\n",
       "      <th>Первичная Т</th>\n",
       "    </tr>\n",
       "  </thead>\n",
       "  <tbody>\n",
       "    <tr>\n",
       "      <th>0</th>\n",
       "      <td>1</td>\n",
       "      <td>1571.0</td>\n",
       "    </tr>\n",
       "    <tr>\n",
       "      <th>5</th>\n",
       "      <td>2</td>\n",
       "      <td>1581.0</td>\n",
       "    </tr>\n",
       "    <tr>\n",
       "      <th>11</th>\n",
       "      <td>3</td>\n",
       "      <td>1596.0</td>\n",
       "    </tr>\n",
       "    <tr>\n",
       "      <th>16</th>\n",
       "      <td>4</td>\n",
       "      <td>1601.0</td>\n",
       "    </tr>\n",
       "    <tr>\n",
       "      <th>19</th>\n",
       "      <td>5</td>\n",
       "      <td>1576.0</td>\n",
       "    </tr>\n",
       "    <tr>\n",
       "      <th>...</th>\n",
       "      <td>...</td>\n",
       "      <td>...</td>\n",
       "    </tr>\n",
       "    <tr>\n",
       "      <th>13001</th>\n",
       "      <td>3237</td>\n",
       "      <td>1569.0</td>\n",
       "    </tr>\n",
       "    <tr>\n",
       "      <th>13002</th>\n",
       "      <td>3238</td>\n",
       "      <td>1584.0</td>\n",
       "    </tr>\n",
       "    <tr>\n",
       "      <th>13003</th>\n",
       "      <td>3239</td>\n",
       "      <td>1598.0</td>\n",
       "    </tr>\n",
       "    <tr>\n",
       "      <th>13004</th>\n",
       "      <td>3240</td>\n",
       "      <td>1617.0</td>\n",
       "    </tr>\n",
       "    <tr>\n",
       "      <th>13005</th>\n",
       "      <td>3241</td>\n",
       "      <td>1586.0</td>\n",
       "    </tr>\n",
       "  </tbody>\n",
       "</table>\n",
       "<p>3216 rows × 2 columns</p>\n",
       "</div>"
      ],
      "text/plain": [
       "        key  Первичная Т\n",
       "0         1       1571.0\n",
       "5         2       1581.0\n",
       "11        3       1596.0\n",
       "16        4       1601.0\n",
       "19        5       1576.0\n",
       "...     ...          ...\n",
       "13001  3237       1569.0\n",
       "13002  3238       1584.0\n",
       "13003  3239       1598.0\n",
       "13004  3240       1617.0\n",
       "13005  3241       1586.0\n",
       "\n",
       "[3216 rows x 2 columns]"
      ]
     },
     "execution_count": 20,
     "metadata": {},
     "output_type": "execute_result"
    }
   ],
   "source": [
    "# добавим фактор первичная температура\n",
    "data_temp_first = data_temp.drop_duplicates(subset='key', keep=\"first\") \n",
    "data_temp_first = data_temp_first[['key','Температура']]\n",
    "data_temp_first.rename(columns = {'Температура' : 'Первичная Т'}, inplace = True) \n",
    "data_temp_first"
   ]
  },
  {
   "cell_type": "code",
   "execution_count": 21,
   "metadata": {},
   "outputs": [
    {
     "data": {
      "text/html": [
       "<div>\n",
       "<style scoped>\n",
       "    .dataframe tbody tr th:only-of-type {\n",
       "        vertical-align: middle;\n",
       "    }\n",
       "\n",
       "    .dataframe tbody tr th {\n",
       "        vertical-align: top;\n",
       "    }\n",
       "\n",
       "    .dataframe thead th {\n",
       "        text-align: right;\n",
       "    }\n",
       "</style>\n",
       "<table border=\"1\" class=\"dataframe\">\n",
       "  <thead>\n",
       "    <tr style=\"text-align: right;\">\n",
       "      <th></th>\n",
       "      <th>key</th>\n",
       "      <th>Время замера</th>\n",
       "      <th>Температура</th>\n",
       "      <th>Bulk 3</th>\n",
       "      <th>Bulk 4</th>\n",
       "      <th>Bulk 12</th>\n",
       "      <th>Bulk 14</th>\n",
       "      <th>Bulk 15</th>\n",
       "      <th>Активная мощность</th>\n",
       "      <th>Реактивная мощность</th>\n",
       "      <th>Первичная_температура</th>\n",
       "    </tr>\n",
       "  </thead>\n",
       "  <tbody>\n",
       "    <tr>\n",
       "      <th>0</th>\n",
       "      <td>1</td>\n",
       "      <td>2019-05-03 11:30:39</td>\n",
       "      <td>1613.0</td>\n",
       "      <td>0.0</td>\n",
       "      <td>43.0</td>\n",
       "      <td>206.0</td>\n",
       "      <td>150.0</td>\n",
       "      <td>154.0</td>\n",
       "      <td>4.878147</td>\n",
       "      <td>3.183241</td>\n",
       "      <td>1571.0</td>\n",
       "    </tr>\n",
       "    <tr>\n",
       "      <th>1</th>\n",
       "      <td>2</td>\n",
       "      <td>2019-05-03 11:59:12</td>\n",
       "      <td>1602.0</td>\n",
       "      <td>0.0</td>\n",
       "      <td>73.0</td>\n",
       "      <td>206.0</td>\n",
       "      <td>149.0</td>\n",
       "      <td>154.0</td>\n",
       "      <td>3.052598</td>\n",
       "      <td>1.998112</td>\n",
       "      <td>1581.0</td>\n",
       "    </tr>\n",
       "    <tr>\n",
       "      <th>2</th>\n",
       "      <td>3</td>\n",
       "      <td>2019-05-03 12:34:57</td>\n",
       "      <td>1599.0</td>\n",
       "      <td>0.0</td>\n",
       "      <td>34.0</td>\n",
       "      <td>205.0</td>\n",
       "      <td>152.0</td>\n",
       "      <td>153.0</td>\n",
       "      <td>2.525882</td>\n",
       "      <td>1.599076</td>\n",
       "      <td>1596.0</td>\n",
       "    </tr>\n",
       "    <tr>\n",
       "      <th>3</th>\n",
       "      <td>4</td>\n",
       "      <td>2019-05-03 12:59:25</td>\n",
       "      <td>1625.0</td>\n",
       "      <td>0.0</td>\n",
       "      <td>81.0</td>\n",
       "      <td>207.0</td>\n",
       "      <td>153.0</td>\n",
       "      <td>154.0</td>\n",
       "      <td>3.209250</td>\n",
       "      <td>2.060298</td>\n",
       "      <td>1601.0</td>\n",
       "    </tr>\n",
       "    <tr>\n",
       "      <th>4</th>\n",
       "      <td>5</td>\n",
       "      <td>2019-05-03 13:36:01</td>\n",
       "      <td>1602.0</td>\n",
       "      <td>0.0</td>\n",
       "      <td>78.0</td>\n",
       "      <td>203.0</td>\n",
       "      <td>151.0</td>\n",
       "      <td>152.0</td>\n",
       "      <td>3.347173</td>\n",
       "      <td>2.252643</td>\n",
       "      <td>1576.0</td>\n",
       "    </tr>\n",
       "    <tr>\n",
       "      <th>...</th>\n",
       "      <td>...</td>\n",
       "      <td>...</td>\n",
       "      <td>...</td>\n",
       "      <td>...</td>\n",
       "      <td>...</td>\n",
       "      <td>...</td>\n",
       "      <td>...</td>\n",
       "      <td>...</td>\n",
       "      <td>...</td>\n",
       "      <td>...</td>\n",
       "      <td>...</td>\n",
       "    </tr>\n",
       "    <tr>\n",
       "      <th>3124</th>\n",
       "      <td>3237</td>\n",
       "      <td>2019-08-31 22:44:04</td>\n",
       "      <td>1569.0</td>\n",
       "      <td>170.0</td>\n",
       "      <td>0.0</td>\n",
       "      <td>252.0</td>\n",
       "      <td>130.0</td>\n",
       "      <td>206.0</td>\n",
       "      <td>3.932467</td>\n",
       "      <td>2.828459</td>\n",
       "      <td>1613.0</td>\n",
       "    </tr>\n",
       "    <tr>\n",
       "      <th>3125</th>\n",
       "      <td>3238</td>\n",
       "      <td>2019-08-31 23:30:31</td>\n",
       "      <td>1584.0</td>\n",
       "      <td>126.0</td>\n",
       "      <td>0.0</td>\n",
       "      <td>254.0</td>\n",
       "      <td>108.0</td>\n",
       "      <td>106.0</td>\n",
       "      <td>2.106529</td>\n",
       "      <td>1.681182</td>\n",
       "      <td>1629.0</td>\n",
       "    </tr>\n",
       "    <tr>\n",
       "      <th>3126</th>\n",
       "      <td>3239</td>\n",
       "      <td>2019-09-01 01:31:47</td>\n",
       "      <td>1598.0</td>\n",
       "      <td>0.0</td>\n",
       "      <td>0.0</td>\n",
       "      <td>158.0</td>\n",
       "      <td>270.0</td>\n",
       "      <td>88.0</td>\n",
       "      <td>4.666754</td>\n",
       "      <td>3.111617</td>\n",
       "      <td>1625.0</td>\n",
       "    </tr>\n",
       "    <tr>\n",
       "      <th>3127</th>\n",
       "      <td>3240</td>\n",
       "      <td>2019-09-01 02:39:01</td>\n",
       "      <td>1617.0</td>\n",
       "      <td>0.0</td>\n",
       "      <td>0.0</td>\n",
       "      <td>0.0</td>\n",
       "      <td>192.0</td>\n",
       "      <td>54.0</td>\n",
       "      <td>2.984083</td>\n",
       "      <td>2.483267</td>\n",
       "      <td>1596.0</td>\n",
       "    </tr>\n",
       "    <tr>\n",
       "      <th>3128</th>\n",
       "      <td>3241</td>\n",
       "      <td>2019-09-01 04:03:30</td>\n",
       "      <td>1586.0</td>\n",
       "      <td>0.0</td>\n",
       "      <td>0.0</td>\n",
       "      <td>0.0</td>\n",
       "      <td>180.0</td>\n",
       "      <td>52.0</td>\n",
       "      <td>2.471447</td>\n",
       "      <td>1.696199</td>\n",
       "      <td>1572.0</td>\n",
       "    </tr>\n",
       "  </tbody>\n",
       "</table>\n",
       "<p>3129 rows × 11 columns</p>\n",
       "</div>"
      ],
      "text/plain": [
       "       key        Время замера  Температура  Bulk 3  Bulk 4  Bulk 12  Bulk 14  \\\n",
       "0        1 2019-05-03 11:30:39       1613.0     0.0    43.0    206.0    150.0   \n",
       "1        2 2019-05-03 11:59:12       1602.0     0.0    73.0    206.0    149.0   \n",
       "2        3 2019-05-03 12:34:57       1599.0     0.0    34.0    205.0    152.0   \n",
       "3        4 2019-05-03 12:59:25       1625.0     0.0    81.0    207.0    153.0   \n",
       "4        5 2019-05-03 13:36:01       1602.0     0.0    78.0    203.0    151.0   \n",
       "...    ...                 ...          ...     ...     ...      ...      ...   \n",
       "3124  3237 2019-08-31 22:44:04       1569.0   170.0     0.0    252.0    130.0   \n",
       "3125  3238 2019-08-31 23:30:31       1584.0   126.0     0.0    254.0    108.0   \n",
       "3126  3239 2019-09-01 01:31:47       1598.0     0.0     0.0    158.0    270.0   \n",
       "3127  3240 2019-09-01 02:39:01       1617.0     0.0     0.0      0.0    192.0   \n",
       "3128  3241 2019-09-01 04:03:30       1586.0     0.0     0.0      0.0    180.0   \n",
       "\n",
       "      Bulk 15  Активная мощность  Реактивная мощность  Первичная_температура  \n",
       "0       154.0           4.878147             3.183241                 1571.0  \n",
       "1       154.0           3.052598             1.998112                 1581.0  \n",
       "2       153.0           2.525882             1.599076                 1596.0  \n",
       "3       154.0           3.209250             2.060298                 1601.0  \n",
       "4       152.0           3.347173             2.252643                 1576.0  \n",
       "...       ...                ...                  ...                    ...  \n",
       "3124    206.0           3.932467             2.828459                 1613.0  \n",
       "3125    106.0           2.106529             1.681182                 1629.0  \n",
       "3126     88.0           4.666754             3.111617                 1625.0  \n",
       "3127     54.0           2.984083             2.483267                 1596.0  \n",
       "3128     52.0           2.471447             1.696199                 1572.0  \n",
       "\n",
       "[3129 rows x 11 columns]"
      ]
     },
     "metadata": {},
     "output_type": "display_data"
    }
   ],
   "source": [
    "data_temp_first  = data_temp_first.reset_index()\n",
    "# объединим таблицы\n",
    "data_temp_last['Первичная_температура'] = data_temp_first['Первичная Т']\n",
    "display(data_temp_last)\n"
   ]
  },
  {
   "cell_type": "code",
   "execution_count": 22,
   "metadata": {},
   "outputs": [
    {
     "name": "stdout",
     "output_type": "stream",
     "text": [
      "<class 'pandas.core.frame.DataFrame'>\n",
      "Int64Index: 3088 entries, 0 to 3128\n",
      "Data columns (total 11 columns):\n",
      " #   Column                 Non-Null Count  Dtype         \n",
      "---  ------                 --------------  -----         \n",
      " 0   key                    3088 non-null   int64         \n",
      " 1   Время замера           3088 non-null   datetime64[ns]\n",
      " 2   Температура            3088 non-null   float64       \n",
      " 3   Bulk 3                 3088 non-null   float64       \n",
      " 4   Bulk 4                 3088 non-null   float64       \n",
      " 5   Bulk 12                3088 non-null   float64       \n",
      " 6   Bulk 14                3088 non-null   float64       \n",
      " 7   Bulk 15                3088 non-null   float64       \n",
      " 8   Активная мощность      3087 non-null   float64       \n",
      " 9   Реактивная мощность    3087 non-null   float64       \n",
      " 10  Первичная_температура  3088 non-null   float64       \n",
      "dtypes: datetime64[ns](1), float64(9), int64(1)\n",
      "memory usage: 289.5 KB\n"
     ]
    }
   ],
   "source": [
    "# Удалим строки где первая температура равна последней\n",
    "data_temp_last = data_temp_last.drop(data_temp_last[data_temp_last.Первичная_температура==data_temp_last.Температура].index,axis= 0)\n",
    "data_temp_last\n",
    "data_temp_last.info()"
   ]
  },
  {
   "cell_type": "markdown",
   "metadata": {},
   "source": [
    "### Газ\n"
   ]
  },
  {
   "cell_type": "code",
   "execution_count": 23,
   "metadata": {},
   "outputs": [
    {
     "data": {
      "text/html": [
       "<div>\n",
       "<style scoped>\n",
       "    .dataframe tbody tr th:only-of-type {\n",
       "        vertical-align: middle;\n",
       "    }\n",
       "\n",
       "    .dataframe tbody tr th {\n",
       "        vertical-align: top;\n",
       "    }\n",
       "\n",
       "    .dataframe thead th {\n",
       "        text-align: right;\n",
       "    }\n",
       "</style>\n",
       "<table border=\"1\" class=\"dataframe\">\n",
       "  <thead>\n",
       "    <tr style=\"text-align: right;\">\n",
       "      <th></th>\n",
       "      <th>key</th>\n",
       "      <th>Газ 1</th>\n",
       "    </tr>\n",
       "  </thead>\n",
       "  <tbody>\n",
       "    <tr>\n",
       "      <th>0</th>\n",
       "      <td>1</td>\n",
       "      <td>29.749986</td>\n",
       "    </tr>\n",
       "    <tr>\n",
       "      <th>1</th>\n",
       "      <td>2</td>\n",
       "      <td>12.555561</td>\n",
       "    </tr>\n",
       "    <tr>\n",
       "      <th>2</th>\n",
       "      <td>3</td>\n",
       "      <td>28.554793</td>\n",
       "    </tr>\n",
       "    <tr>\n",
       "      <th>3</th>\n",
       "      <td>4</td>\n",
       "      <td>18.841219</td>\n",
       "    </tr>\n",
       "    <tr>\n",
       "      <th>4</th>\n",
       "      <td>5</td>\n",
       "      <td>5.413692</td>\n",
       "    </tr>\n",
       "    <tr>\n",
       "      <th>...</th>\n",
       "      <td>...</td>\n",
       "      <td>...</td>\n",
       "    </tr>\n",
       "    <tr>\n",
       "      <th>3234</th>\n",
       "      <td>3237</td>\n",
       "      <td>5.543905</td>\n",
       "    </tr>\n",
       "    <tr>\n",
       "      <th>3235</th>\n",
       "      <td>3238</td>\n",
       "      <td>6.745669</td>\n",
       "    </tr>\n",
       "    <tr>\n",
       "      <th>3236</th>\n",
       "      <td>3239</td>\n",
       "      <td>16.023518</td>\n",
       "    </tr>\n",
       "    <tr>\n",
       "      <th>3237</th>\n",
       "      <td>3240</td>\n",
       "      <td>11.863103</td>\n",
       "    </tr>\n",
       "    <tr>\n",
       "      <th>3238</th>\n",
       "      <td>3241</td>\n",
       "      <td>12.680959</td>\n",
       "    </tr>\n",
       "  </tbody>\n",
       "</table>\n",
       "<p>3239 rows × 2 columns</p>\n",
       "</div>"
      ],
      "text/plain": [
       "       key      Газ 1\n",
       "0        1  29.749986\n",
       "1        2  12.555561\n",
       "2        3  28.554793\n",
       "3        4  18.841219\n",
       "4        5   5.413692\n",
       "...    ...        ...\n",
       "3234  3237   5.543905\n",
       "3235  3238   6.745669\n",
       "3236  3239  16.023518\n",
       "3237  3240  11.863103\n",
       "3238  3241  12.680959\n",
       "\n",
       "[3239 rows x 2 columns]"
      ]
     },
     "metadata": {},
     "output_type": "display_data"
    },
    {
     "name": "stdout",
     "output_type": "stream",
     "text": [
      "<class 'pandas.core.frame.DataFrame'>\n",
      "RangeIndex: 3239 entries, 0 to 3238\n",
      "Data columns (total 2 columns):\n",
      " #   Column  Non-Null Count  Dtype  \n",
      "---  ------  --------------  -----  \n",
      " 0   key     3239 non-null   int64  \n",
      " 1   Газ 1   3239 non-null   float64\n",
      "dtypes: float64(1), int64(1)\n",
      "memory usage: 50.7 KB\n"
     ]
    }
   ],
   "source": [
    "# Загрузим данные с газом\n",
    "data_gas = pd.read_csv('/datasets/final_steel/data_gas.csv')\n",
    "display(data_gas)\n",
    "data_gas.info()"
   ]
  },
  {
   "cell_type": "code",
   "execution_count": 24,
   "metadata": {
    "scrolled": true
   },
   "outputs": [],
   "source": [
    "# Добавим как фактор в нашу таблицу\n",
    "data_temp_last = data_temp_last.merge(data_gas, how = 'inner')"
   ]
  },
  {
   "cell_type": "markdown",
   "metadata": {},
   "source": [
    "### Проволока"
   ]
  },
  {
   "cell_type": "code",
   "execution_count": 25,
   "metadata": {},
   "outputs": [
    {
     "data": {
      "text/html": [
       "<div>\n",
       "<style scoped>\n",
       "    .dataframe tbody tr th:only-of-type {\n",
       "        vertical-align: middle;\n",
       "    }\n",
       "\n",
       "    .dataframe tbody tr th {\n",
       "        vertical-align: top;\n",
       "    }\n",
       "\n",
       "    .dataframe thead th {\n",
       "        text-align: right;\n",
       "    }\n",
       "</style>\n",
       "<table border=\"1\" class=\"dataframe\">\n",
       "  <thead>\n",
       "    <tr style=\"text-align: right;\">\n",
       "      <th></th>\n",
       "      <th>key</th>\n",
       "      <th>Wire 1</th>\n",
       "      <th>Wire 2</th>\n",
       "      <th>Wire 3</th>\n",
       "      <th>Wire 4</th>\n",
       "      <th>Wire 5</th>\n",
       "      <th>Wire 6</th>\n",
       "      <th>Wire 7</th>\n",
       "      <th>Wire 8</th>\n",
       "      <th>Wire 9</th>\n",
       "    </tr>\n",
       "  </thead>\n",
       "  <tbody>\n",
       "    <tr>\n",
       "      <th>0</th>\n",
       "      <td>1</td>\n",
       "      <td>60.059998</td>\n",
       "      <td>NaN</td>\n",
       "      <td>NaN</td>\n",
       "      <td>NaN</td>\n",
       "      <td>NaN</td>\n",
       "      <td>NaN</td>\n",
       "      <td>NaN</td>\n",
       "      <td>NaN</td>\n",
       "      <td>NaN</td>\n",
       "    </tr>\n",
       "    <tr>\n",
       "      <th>1</th>\n",
       "      <td>2</td>\n",
       "      <td>96.052315</td>\n",
       "      <td>NaN</td>\n",
       "      <td>NaN</td>\n",
       "      <td>NaN</td>\n",
       "      <td>NaN</td>\n",
       "      <td>NaN</td>\n",
       "      <td>NaN</td>\n",
       "      <td>NaN</td>\n",
       "      <td>NaN</td>\n",
       "    </tr>\n",
       "    <tr>\n",
       "      <th>2</th>\n",
       "      <td>3</td>\n",
       "      <td>91.160157</td>\n",
       "      <td>NaN</td>\n",
       "      <td>NaN</td>\n",
       "      <td>NaN</td>\n",
       "      <td>NaN</td>\n",
       "      <td>NaN</td>\n",
       "      <td>NaN</td>\n",
       "      <td>NaN</td>\n",
       "      <td>NaN</td>\n",
       "    </tr>\n",
       "    <tr>\n",
       "      <th>3</th>\n",
       "      <td>4</td>\n",
       "      <td>89.063515</td>\n",
       "      <td>NaN</td>\n",
       "      <td>NaN</td>\n",
       "      <td>NaN</td>\n",
       "      <td>NaN</td>\n",
       "      <td>NaN</td>\n",
       "      <td>NaN</td>\n",
       "      <td>NaN</td>\n",
       "      <td>NaN</td>\n",
       "    </tr>\n",
       "    <tr>\n",
       "      <th>4</th>\n",
       "      <td>5</td>\n",
       "      <td>89.238236</td>\n",
       "      <td>9.11456</td>\n",
       "      <td>NaN</td>\n",
       "      <td>NaN</td>\n",
       "      <td>NaN</td>\n",
       "      <td>NaN</td>\n",
       "      <td>NaN</td>\n",
       "      <td>NaN</td>\n",
       "      <td>NaN</td>\n",
       "    </tr>\n",
       "    <tr>\n",
       "      <th>...</th>\n",
       "      <td>...</td>\n",
       "      <td>...</td>\n",
       "      <td>...</td>\n",
       "      <td>...</td>\n",
       "      <td>...</td>\n",
       "      <td>...</td>\n",
       "      <td>...</td>\n",
       "      <td>...</td>\n",
       "      <td>...</td>\n",
       "      <td>...</td>\n",
       "    </tr>\n",
       "    <tr>\n",
       "      <th>3076</th>\n",
       "      <td>3237</td>\n",
       "      <td>38.088959</td>\n",
       "      <td>NaN</td>\n",
       "      <td>NaN</td>\n",
       "      <td>NaN</td>\n",
       "      <td>NaN</td>\n",
       "      <td>NaN</td>\n",
       "      <td>NaN</td>\n",
       "      <td>NaN</td>\n",
       "      <td>NaN</td>\n",
       "    </tr>\n",
       "    <tr>\n",
       "      <th>3077</th>\n",
       "      <td>3238</td>\n",
       "      <td>56.128799</td>\n",
       "      <td>NaN</td>\n",
       "      <td>NaN</td>\n",
       "      <td>NaN</td>\n",
       "      <td>NaN</td>\n",
       "      <td>NaN</td>\n",
       "      <td>NaN</td>\n",
       "      <td>NaN</td>\n",
       "      <td>NaN</td>\n",
       "    </tr>\n",
       "    <tr>\n",
       "      <th>3078</th>\n",
       "      <td>3239</td>\n",
       "      <td>143.357761</td>\n",
       "      <td>NaN</td>\n",
       "      <td>NaN</td>\n",
       "      <td>NaN</td>\n",
       "      <td>NaN</td>\n",
       "      <td>NaN</td>\n",
       "      <td>NaN</td>\n",
       "      <td>NaN</td>\n",
       "      <td>NaN</td>\n",
       "    </tr>\n",
       "    <tr>\n",
       "      <th>3079</th>\n",
       "      <td>3240</td>\n",
       "      <td>34.070400</td>\n",
       "      <td>NaN</td>\n",
       "      <td>NaN</td>\n",
       "      <td>NaN</td>\n",
       "      <td>NaN</td>\n",
       "      <td>NaN</td>\n",
       "      <td>NaN</td>\n",
       "      <td>NaN</td>\n",
       "      <td>NaN</td>\n",
       "    </tr>\n",
       "    <tr>\n",
       "      <th>3080</th>\n",
       "      <td>3241</td>\n",
       "      <td>63.117595</td>\n",
       "      <td>NaN</td>\n",
       "      <td>NaN</td>\n",
       "      <td>NaN</td>\n",
       "      <td>NaN</td>\n",
       "      <td>NaN</td>\n",
       "      <td>NaN</td>\n",
       "      <td>NaN</td>\n",
       "      <td>NaN</td>\n",
       "    </tr>\n",
       "  </tbody>\n",
       "</table>\n",
       "<p>3081 rows × 10 columns</p>\n",
       "</div>"
      ],
      "text/plain": [
       "       key      Wire 1   Wire 2  Wire 3  Wire 4  Wire 5  Wire 6  Wire 7  \\\n",
       "0        1   60.059998      NaN     NaN     NaN     NaN     NaN     NaN   \n",
       "1        2   96.052315      NaN     NaN     NaN     NaN     NaN     NaN   \n",
       "2        3   91.160157      NaN     NaN     NaN     NaN     NaN     NaN   \n",
       "3        4   89.063515      NaN     NaN     NaN     NaN     NaN     NaN   \n",
       "4        5   89.238236  9.11456     NaN     NaN     NaN     NaN     NaN   \n",
       "...    ...         ...      ...     ...     ...     ...     ...     ...   \n",
       "3076  3237   38.088959      NaN     NaN     NaN     NaN     NaN     NaN   \n",
       "3077  3238   56.128799      NaN     NaN     NaN     NaN     NaN     NaN   \n",
       "3078  3239  143.357761      NaN     NaN     NaN     NaN     NaN     NaN   \n",
       "3079  3240   34.070400      NaN     NaN     NaN     NaN     NaN     NaN   \n",
       "3080  3241   63.117595      NaN     NaN     NaN     NaN     NaN     NaN   \n",
       "\n",
       "      Wire 8  Wire 9  \n",
       "0        NaN     NaN  \n",
       "1        NaN     NaN  \n",
       "2        NaN     NaN  \n",
       "3        NaN     NaN  \n",
       "4        NaN     NaN  \n",
       "...      ...     ...  \n",
       "3076     NaN     NaN  \n",
       "3077     NaN     NaN  \n",
       "3078     NaN     NaN  \n",
       "3079     NaN     NaN  \n",
       "3080     NaN     NaN  \n",
       "\n",
       "[3081 rows x 10 columns]"
      ]
     },
     "metadata": {},
     "output_type": "display_data"
    }
   ],
   "source": [
    "data_wire = pd.read_csv('/datasets/final_steel/data_wire.csv')\n",
    "display(data_wire)"
   ]
  },
  {
   "cell_type": "code",
   "execution_count": 26,
   "metadata": {},
   "outputs": [
    {
     "name": "stdout",
     "output_type": "stream",
     "text": [
      "<class 'pandas.core.frame.DataFrame'>\n",
      "RangeIndex: 3081 entries, 0 to 3080\n",
      "Data columns (total 10 columns):\n",
      " #   Column  Non-Null Count  Dtype  \n",
      "---  ------  --------------  -----  \n",
      " 0   key     3081 non-null   int64  \n",
      " 1   Wire 1  3055 non-null   float64\n",
      " 2   Wire 2  1079 non-null   float64\n",
      " 3   Wire 3  63 non-null     float64\n",
      " 4   Wire 4  14 non-null     float64\n",
      " 5   Wire 5  1 non-null      float64\n",
      " 6   Wire 6  73 non-null     float64\n",
      " 7   Wire 7  11 non-null     float64\n",
      " 8   Wire 8  19 non-null     float64\n",
      " 9   Wire 9  29 non-null     float64\n",
      "dtypes: float64(9), int64(1)\n",
      "memory usage: 240.8 KB\n",
      "None\n"
     ]
    }
   ],
   "source": [
    "# Заполним пропуски нулями (анологично присыпкам)\n",
    "data_wire.fillna(0)\n",
    "print(data_wire.info())"
   ]
  },
  {
   "cell_type": "code",
   "execution_count": 27,
   "metadata": {},
   "outputs": [
    {
     "data": {
      "text/html": [
       "<div>\n",
       "<style scoped>\n",
       "    .dataframe tbody tr th:only-of-type {\n",
       "        vertical-align: middle;\n",
       "    }\n",
       "\n",
       "    .dataframe tbody tr th {\n",
       "        vertical-align: top;\n",
       "    }\n",
       "\n",
       "    .dataframe thead th {\n",
       "        text-align: right;\n",
       "    }\n",
       "</style>\n",
       "<table border=\"1\" class=\"dataframe\">\n",
       "  <thead>\n",
       "    <tr style=\"text-align: right;\">\n",
       "      <th></th>\n",
       "      <th>key</th>\n",
       "      <th>Wire 1</th>\n",
       "      <th>Wire 2</th>\n",
       "      <th>Wire 3</th>\n",
       "      <th>Wire 4</th>\n",
       "      <th>Wire 5</th>\n",
       "      <th>Wire 6</th>\n",
       "      <th>Wire 7</th>\n",
       "      <th>Wire 8</th>\n",
       "      <th>Wire 9</th>\n",
       "    </tr>\n",
       "  </thead>\n",
       "  <tbody>\n",
       "    <tr>\n",
       "      <th>0</th>\n",
       "      <td>1</td>\n",
       "      <td>2019-05-03 11:11:41</td>\n",
       "      <td>NaN</td>\n",
       "      <td>NaN</td>\n",
       "      <td>NaN</td>\n",
       "      <td>NaN</td>\n",
       "      <td>NaN</td>\n",
       "      <td>NaN</td>\n",
       "      <td>NaN</td>\n",
       "      <td>NaN</td>\n",
       "    </tr>\n",
       "    <tr>\n",
       "      <th>1</th>\n",
       "      <td>2</td>\n",
       "      <td>2019-05-03 11:46:10</td>\n",
       "      <td>NaN</td>\n",
       "      <td>NaN</td>\n",
       "      <td>NaN</td>\n",
       "      <td>NaN</td>\n",
       "      <td>NaN</td>\n",
       "      <td>NaN</td>\n",
       "      <td>NaN</td>\n",
       "      <td>NaN</td>\n",
       "    </tr>\n",
       "    <tr>\n",
       "      <th>2</th>\n",
       "      <td>3</td>\n",
       "      <td>2019-05-03 12:13:47</td>\n",
       "      <td>NaN</td>\n",
       "      <td>NaN</td>\n",
       "      <td>NaN</td>\n",
       "      <td>NaN</td>\n",
       "      <td>NaN</td>\n",
       "      <td>NaN</td>\n",
       "      <td>NaN</td>\n",
       "      <td>NaN</td>\n",
       "    </tr>\n",
       "    <tr>\n",
       "      <th>3</th>\n",
       "      <td>4</td>\n",
       "      <td>2019-05-03 12:48:05</td>\n",
       "      <td>NaN</td>\n",
       "      <td>NaN</td>\n",
       "      <td>NaN</td>\n",
       "      <td>NaN</td>\n",
       "      <td>NaN</td>\n",
       "      <td>NaN</td>\n",
       "      <td>NaN</td>\n",
       "      <td>NaN</td>\n",
       "    </tr>\n",
       "    <tr>\n",
       "      <th>4</th>\n",
       "      <td>5</td>\n",
       "      <td>2019-05-03 13:18:15</td>\n",
       "      <td>2019-05-03 13:32:06</td>\n",
       "      <td>NaN</td>\n",
       "      <td>NaN</td>\n",
       "      <td>NaN</td>\n",
       "      <td>NaN</td>\n",
       "      <td>NaN</td>\n",
       "      <td>NaN</td>\n",
       "      <td>NaN</td>\n",
       "    </tr>\n",
       "    <tr>\n",
       "      <th>...</th>\n",
       "      <td>...</td>\n",
       "      <td>...</td>\n",
       "      <td>...</td>\n",
       "      <td>...</td>\n",
       "      <td>...</td>\n",
       "      <td>...</td>\n",
       "      <td>...</td>\n",
       "      <td>...</td>\n",
       "      <td>...</td>\n",
       "      <td>...</td>\n",
       "    </tr>\n",
       "    <tr>\n",
       "      <th>3076</th>\n",
       "      <td>3237</td>\n",
       "      <td>2019-08-31 22:50:20</td>\n",
       "      <td>NaN</td>\n",
       "      <td>NaN</td>\n",
       "      <td>NaN</td>\n",
       "      <td>NaN</td>\n",
       "      <td>NaN</td>\n",
       "      <td>NaN</td>\n",
       "      <td>NaN</td>\n",
       "      <td>NaN</td>\n",
       "    </tr>\n",
       "    <tr>\n",
       "      <th>3077</th>\n",
       "      <td>3238</td>\n",
       "      <td>2019-08-31 23:38:24</td>\n",
       "      <td>NaN</td>\n",
       "      <td>NaN</td>\n",
       "      <td>NaN</td>\n",
       "      <td>NaN</td>\n",
       "      <td>NaN</td>\n",
       "      <td>NaN</td>\n",
       "      <td>NaN</td>\n",
       "      <td>NaN</td>\n",
       "    </tr>\n",
       "    <tr>\n",
       "      <th>3078</th>\n",
       "      <td>3239</td>\n",
       "      <td>2019-09-01 01:50:43</td>\n",
       "      <td>NaN</td>\n",
       "      <td>NaN</td>\n",
       "      <td>NaN</td>\n",
       "      <td>NaN</td>\n",
       "      <td>NaN</td>\n",
       "      <td>NaN</td>\n",
       "      <td>NaN</td>\n",
       "      <td>NaN</td>\n",
       "    </tr>\n",
       "    <tr>\n",
       "      <th>3079</th>\n",
       "      <td>3240</td>\n",
       "      <td>2019-09-01 03:12:02</td>\n",
       "      <td>NaN</td>\n",
       "      <td>NaN</td>\n",
       "      <td>NaN</td>\n",
       "      <td>NaN</td>\n",
       "      <td>NaN</td>\n",
       "      <td>NaN</td>\n",
       "      <td>NaN</td>\n",
       "      <td>NaN</td>\n",
       "    </tr>\n",
       "    <tr>\n",
       "      <th>3080</th>\n",
       "      <td>3241</td>\n",
       "      <td>2019-09-01 04:16:01</td>\n",
       "      <td>NaN</td>\n",
       "      <td>NaN</td>\n",
       "      <td>NaN</td>\n",
       "      <td>NaN</td>\n",
       "      <td>NaN</td>\n",
       "      <td>NaN</td>\n",
       "      <td>NaN</td>\n",
       "      <td>NaN</td>\n",
       "    </tr>\n",
       "  </tbody>\n",
       "</table>\n",
       "<p>3081 rows × 10 columns</p>\n",
       "</div>"
      ],
      "text/plain": [
       "       key               Wire 1               Wire 2 Wire 3 Wire 4 Wire 5  \\\n",
       "0        1  2019-05-03 11:11:41                  NaN    NaN    NaN    NaN   \n",
       "1        2  2019-05-03 11:46:10                  NaN    NaN    NaN    NaN   \n",
       "2        3  2019-05-03 12:13:47                  NaN    NaN    NaN    NaN   \n",
       "3        4  2019-05-03 12:48:05                  NaN    NaN    NaN    NaN   \n",
       "4        5  2019-05-03 13:18:15  2019-05-03 13:32:06    NaN    NaN    NaN   \n",
       "...    ...                  ...                  ...    ...    ...    ...   \n",
       "3076  3237  2019-08-31 22:50:20                  NaN    NaN    NaN    NaN   \n",
       "3077  3238  2019-08-31 23:38:24                  NaN    NaN    NaN    NaN   \n",
       "3078  3239  2019-09-01 01:50:43                  NaN    NaN    NaN    NaN   \n",
       "3079  3240  2019-09-01 03:12:02                  NaN    NaN    NaN    NaN   \n",
       "3080  3241  2019-09-01 04:16:01                  NaN    NaN    NaN    NaN   \n",
       "\n",
       "     Wire 6 Wire 7 Wire 8 Wire 9  \n",
       "0       NaN    NaN    NaN    NaN  \n",
       "1       NaN    NaN    NaN    NaN  \n",
       "2       NaN    NaN    NaN    NaN  \n",
       "3       NaN    NaN    NaN    NaN  \n",
       "4       NaN    NaN    NaN    NaN  \n",
       "...     ...    ...    ...    ...  \n",
       "3076    NaN    NaN    NaN    NaN  \n",
       "3077    NaN    NaN    NaN    NaN  \n",
       "3078    NaN    NaN    NaN    NaN  \n",
       "3079    NaN    NaN    NaN    NaN  \n",
       "3080    NaN    NaN    NaN    NaN  \n",
       "\n",
       "[3081 rows x 10 columns]"
      ]
     },
     "metadata": {},
     "output_type": "display_data"
    }
   ],
   "source": [
    "data_wire_time = pd.read_csv('/datasets/final_steel/data_wire_time.csv')\n",
    "display(data_wire_time)"
   ]
  },
  {
   "cell_type": "code",
   "execution_count": 28,
   "metadata": {},
   "outputs": [
    {
     "name": "stderr",
     "output_type": "stream",
     "text": [
      "/opt/conda/lib/python3.9/site-packages/pandas/core/frame.py:4441: SettingWithCopyWarning: \n",
      "A value is trying to be set on a copy of a slice from a DataFrame\n",
      "\n",
      "See the caveats in the documentation: https://pandas.pydata.org/pandas-docs/stable/user_guide/indexing.html#returning-a-view-versus-a-copy\n",
      "  return super().rename(\n"
     ]
    }
   ],
   "source": [
    "# Удалим где по времени позже для Wire 1\n",
    "# Объединим количество проволоки с временм подачи и временем последнего измерения температуры\n",
    "wires = ('Wire 1','Wire 2')\n",
    "\n",
    "for i in wires:\n",
    "    data_wire_time_1 = data_wire_time[[i, 'key']]\n",
    "    data_wire_time_1.rename(columns = {i : 'Wire_1_time'},inplace = True)\n",
    "    data_wire_1 = data_wire[[i,'key']]\n",
    "\n",
    "    data_wire_time_1 = data_wire_time_1.merge(data_wire_1, on='key')\n",
    "\n",
    "    data_temp_last = data_temp_last.merge(data_wire_time_1,on='key')\n",
    "    data_temp_last\n",
    "\n",
    "    data_temp_last = data_temp_last.drop(data_temp_last[data_temp_last['Время замера']<data_temp_last['Wire_1_time']].index,axis= 0)\n",
    "\n",
    "    data_temp_last  = data_temp_last.drop(['Wire_1_time'] , axis=1)\n"
   ]
  },
  {
   "cell_type": "code",
   "execution_count": 29,
   "metadata": {},
   "outputs": [
    {
     "name": "stdout",
     "output_type": "stream",
     "text": [
      "<class 'pandas.core.frame.DataFrame'>\n",
      "Int64Index: 2318 entries, 0 to 2332\n",
      "Data columns (total 14 columns):\n",
      " #   Column                 Non-Null Count  Dtype         \n",
      "---  ------                 --------------  -----         \n",
      " 0   key                    2318 non-null   int64         \n",
      " 1   Время замера           2318 non-null   datetime64[ns]\n",
      " 2   Температура            2318 non-null   float64       \n",
      " 3   Bulk 3                 2318 non-null   float64       \n",
      " 4   Bulk 4                 2318 non-null   float64       \n",
      " 5   Bulk 12                2318 non-null   float64       \n",
      " 6   Bulk 14                2318 non-null   float64       \n",
      " 7   Bulk 15                2318 non-null   float64       \n",
      " 8   Активная мощность      2317 non-null   float64       \n",
      " 9   Реактивная мощность    2317 non-null   float64       \n",
      " 10  Первичная_температура  2318 non-null   float64       \n",
      " 11  Газ 1                  2318 non-null   float64       \n",
      " 12  Wire 1                 2293 non-null   float64       \n",
      " 13  Wire 2                 802 non-null    float64       \n",
      "dtypes: datetime64[ns](1), float64(12), int64(1)\n",
      "memory usage: 271.6 KB\n"
     ]
    }
   ],
   "source": [
    "data_temp_last.info()"
   ]
  },
  {
   "cell_type": "code",
   "execution_count": 30,
   "metadata": {
    "scrolled": true
   },
   "outputs": [
    {
     "data": {
      "text/html": [
       "<div>\n",
       "<style scoped>\n",
       "    .dataframe tbody tr th:only-of-type {\n",
       "        vertical-align: middle;\n",
       "    }\n",
       "\n",
       "    .dataframe tbody tr th {\n",
       "        vertical-align: top;\n",
       "    }\n",
       "\n",
       "    .dataframe thead th {\n",
       "        text-align: right;\n",
       "    }\n",
       "</style>\n",
       "<table border=\"1\" class=\"dataframe\">\n",
       "  <thead>\n",
       "    <tr style=\"text-align: right;\">\n",
       "      <th></th>\n",
       "      <th>key</th>\n",
       "      <th>Время замера</th>\n",
       "      <th>Температура</th>\n",
       "      <th>Bulk 3</th>\n",
       "      <th>Bulk 4</th>\n",
       "      <th>Bulk 12</th>\n",
       "      <th>Bulk 14</th>\n",
       "      <th>Bulk 15</th>\n",
       "      <th>Активная мощность</th>\n",
       "      <th>Реактивная мощность</th>\n",
       "      <th>Первичная_температура</th>\n",
       "      <th>Газ 1</th>\n",
       "      <th>Wire 1</th>\n",
       "      <th>Wire 2</th>\n",
       "    </tr>\n",
       "  </thead>\n",
       "  <tbody>\n",
       "    <tr>\n",
       "      <th>0</th>\n",
       "      <td>1</td>\n",
       "      <td>2019-05-03 11:30:39</td>\n",
       "      <td>1613.0</td>\n",
       "      <td>0.0</td>\n",
       "      <td>43.0</td>\n",
       "      <td>206.0</td>\n",
       "      <td>150.0</td>\n",
       "      <td>154.0</td>\n",
       "      <td>4.878147</td>\n",
       "      <td>3.183241</td>\n",
       "      <td>1571.0</td>\n",
       "      <td>29.749986</td>\n",
       "      <td>60.059998</td>\n",
       "      <td>0.000000</td>\n",
       "    </tr>\n",
       "    <tr>\n",
       "      <th>1</th>\n",
       "      <td>2</td>\n",
       "      <td>2019-05-03 11:59:12</td>\n",
       "      <td>1602.0</td>\n",
       "      <td>0.0</td>\n",
       "      <td>73.0</td>\n",
       "      <td>206.0</td>\n",
       "      <td>149.0</td>\n",
       "      <td>154.0</td>\n",
       "      <td>3.052598</td>\n",
       "      <td>1.998112</td>\n",
       "      <td>1581.0</td>\n",
       "      <td>12.555561</td>\n",
       "      <td>96.052315</td>\n",
       "      <td>0.000000</td>\n",
       "    </tr>\n",
       "    <tr>\n",
       "      <th>2</th>\n",
       "      <td>3</td>\n",
       "      <td>2019-05-03 12:34:57</td>\n",
       "      <td>1599.0</td>\n",
       "      <td>0.0</td>\n",
       "      <td>34.0</td>\n",
       "      <td>205.0</td>\n",
       "      <td>152.0</td>\n",
       "      <td>153.0</td>\n",
       "      <td>2.525882</td>\n",
       "      <td>1.599076</td>\n",
       "      <td>1596.0</td>\n",
       "      <td>28.554793</td>\n",
       "      <td>91.160157</td>\n",
       "      <td>0.000000</td>\n",
       "    </tr>\n",
       "    <tr>\n",
       "      <th>3</th>\n",
       "      <td>4</td>\n",
       "      <td>2019-05-03 12:59:25</td>\n",
       "      <td>1625.0</td>\n",
       "      <td>0.0</td>\n",
       "      <td>81.0</td>\n",
       "      <td>207.0</td>\n",
       "      <td>153.0</td>\n",
       "      <td>154.0</td>\n",
       "      <td>3.209250</td>\n",
       "      <td>2.060298</td>\n",
       "      <td>1601.0</td>\n",
       "      <td>18.841219</td>\n",
       "      <td>89.063515</td>\n",
       "      <td>0.000000</td>\n",
       "    </tr>\n",
       "    <tr>\n",
       "      <th>4</th>\n",
       "      <td>5</td>\n",
       "      <td>2019-05-03 13:36:01</td>\n",
       "      <td>1602.0</td>\n",
       "      <td>0.0</td>\n",
       "      <td>78.0</td>\n",
       "      <td>203.0</td>\n",
       "      <td>151.0</td>\n",
       "      <td>152.0</td>\n",
       "      <td>3.347173</td>\n",
       "      <td>2.252643</td>\n",
       "      <td>1576.0</td>\n",
       "      <td>5.413692</td>\n",
       "      <td>89.238236</td>\n",
       "      <td>9.114560</td>\n",
       "    </tr>\n",
       "    <tr>\n",
       "      <th>...</th>\n",
       "      <td>...</td>\n",
       "      <td>...</td>\n",
       "      <td>...</td>\n",
       "      <td>...</td>\n",
       "      <td>...</td>\n",
       "      <td>...</td>\n",
       "      <td>...</td>\n",
       "      <td>...</td>\n",
       "      <td>...</td>\n",
       "      <td>...</td>\n",
       "      <td>...</td>\n",
       "      <td>...</td>\n",
       "      <td>...</td>\n",
       "      <td>...</td>\n",
       "    </tr>\n",
       "    <tr>\n",
       "      <th>2328</th>\n",
       "      <td>3164</td>\n",
       "      <td>2019-08-29 11:56:59</td>\n",
       "      <td>1595.0</td>\n",
       "      <td>286.0</td>\n",
       "      <td>0.0</td>\n",
       "      <td>254.0</td>\n",
       "      <td>154.0</td>\n",
       "      <td>158.0</td>\n",
       "      <td>3.716570</td>\n",
       "      <td>2.521006</td>\n",
       "      <td>1624.0</td>\n",
       "      <td>7.620290</td>\n",
       "      <td>109.243675</td>\n",
       "      <td>0.000000</td>\n",
       "    </tr>\n",
       "    <tr>\n",
       "      <th>2329</th>\n",
       "      <td>3186</td>\n",
       "      <td>2019-08-30 09:45:52</td>\n",
       "      <td>1591.0</td>\n",
       "      <td>140.0</td>\n",
       "      <td>0.0</td>\n",
       "      <td>258.0</td>\n",
       "      <td>150.0</td>\n",
       "      <td>106.0</td>\n",
       "      <td>2.456302</td>\n",
       "      <td>1.857677</td>\n",
       "      <td>1616.0</td>\n",
       "      <td>5.699542</td>\n",
       "      <td>130.166403</td>\n",
       "      <td>0.000000</td>\n",
       "    </tr>\n",
       "    <tr>\n",
       "      <th>2330</th>\n",
       "      <td>3197</td>\n",
       "      <td>2019-08-30 18:56:00</td>\n",
       "      <td>1580.0</td>\n",
       "      <td>154.0</td>\n",
       "      <td>0.0</td>\n",
       "      <td>308.0</td>\n",
       "      <td>148.0</td>\n",
       "      <td>206.0</td>\n",
       "      <td>1.788605</td>\n",
       "      <td>1.335075</td>\n",
       "      <td>1595.0</td>\n",
       "      <td>1.837179</td>\n",
       "      <td>30.008158</td>\n",
       "      <td>90.178398</td>\n",
       "    </tr>\n",
       "    <tr>\n",
       "      <th>2331</th>\n",
       "      <td>3215</td>\n",
       "      <td>2019-08-31 07:21:28</td>\n",
       "      <td>1547.0</td>\n",
       "      <td>0.0</td>\n",
       "      <td>0.0</td>\n",
       "      <td>0.0</td>\n",
       "      <td>0.0</td>\n",
       "      <td>0.0</td>\n",
       "      <td>0.883352</td>\n",
       "      <td>0.808736</td>\n",
       "      <td>1591.0</td>\n",
       "      <td>3.129189</td>\n",
       "      <td>4.062240</td>\n",
       "      <td>0.000000</td>\n",
       "    </tr>\n",
       "    <tr>\n",
       "      <th>2332</th>\n",
       "      <td>3228</td>\n",
       "      <td>2019-08-31 17:48:09</td>\n",
       "      <td>1583.0</td>\n",
       "      <td>0.0</td>\n",
       "      <td>0.0</td>\n",
       "      <td>310.0</td>\n",
       "      <td>120.0</td>\n",
       "      <td>204.0</td>\n",
       "      <td>2.851084</td>\n",
       "      <td>2.014495</td>\n",
       "      <td>1585.0</td>\n",
       "      <td>8.516508</td>\n",
       "      <td>20.092800</td>\n",
       "      <td>0.000000</td>\n",
       "    </tr>\n",
       "  </tbody>\n",
       "</table>\n",
       "<p>2318 rows × 14 columns</p>\n",
       "</div>"
      ],
      "text/plain": [
       "       key        Время замера  Температура  Bulk 3  Bulk 4  Bulk 12  Bulk 14  \\\n",
       "0        1 2019-05-03 11:30:39       1613.0     0.0    43.0    206.0    150.0   \n",
       "1        2 2019-05-03 11:59:12       1602.0     0.0    73.0    206.0    149.0   \n",
       "2        3 2019-05-03 12:34:57       1599.0     0.0    34.0    205.0    152.0   \n",
       "3        4 2019-05-03 12:59:25       1625.0     0.0    81.0    207.0    153.0   \n",
       "4        5 2019-05-03 13:36:01       1602.0     0.0    78.0    203.0    151.0   \n",
       "...    ...                 ...          ...     ...     ...      ...      ...   \n",
       "2328  3164 2019-08-29 11:56:59       1595.0   286.0     0.0    254.0    154.0   \n",
       "2329  3186 2019-08-30 09:45:52       1591.0   140.0     0.0    258.0    150.0   \n",
       "2330  3197 2019-08-30 18:56:00       1580.0   154.0     0.0    308.0    148.0   \n",
       "2331  3215 2019-08-31 07:21:28       1547.0     0.0     0.0      0.0      0.0   \n",
       "2332  3228 2019-08-31 17:48:09       1583.0     0.0     0.0    310.0    120.0   \n",
       "\n",
       "      Bulk 15  Активная мощность  Реактивная мощность  Первичная_температура  \\\n",
       "0       154.0           4.878147             3.183241                 1571.0   \n",
       "1       154.0           3.052598             1.998112                 1581.0   \n",
       "2       153.0           2.525882             1.599076                 1596.0   \n",
       "3       154.0           3.209250             2.060298                 1601.0   \n",
       "4       152.0           3.347173             2.252643                 1576.0   \n",
       "...       ...                ...                  ...                    ...   \n",
       "2328    158.0           3.716570             2.521006                 1624.0   \n",
       "2329    106.0           2.456302             1.857677                 1616.0   \n",
       "2330    206.0           1.788605             1.335075                 1595.0   \n",
       "2331      0.0           0.883352             0.808736                 1591.0   \n",
       "2332    204.0           2.851084             2.014495                 1585.0   \n",
       "\n",
       "          Газ 1      Wire 1     Wire 2  \n",
       "0     29.749986   60.059998   0.000000  \n",
       "1     12.555561   96.052315   0.000000  \n",
       "2     28.554793   91.160157   0.000000  \n",
       "3     18.841219   89.063515   0.000000  \n",
       "4      5.413692   89.238236   9.114560  \n",
       "...         ...         ...        ...  \n",
       "2328   7.620290  109.243675   0.000000  \n",
       "2329   5.699542  130.166403   0.000000  \n",
       "2330   1.837179   30.008158  90.178398  \n",
       "2331   3.129189    4.062240   0.000000  \n",
       "2332   8.516508   20.092800   0.000000  \n",
       "\n",
       "[2318 rows x 14 columns]"
      ]
     },
     "execution_count": 30,
     "metadata": {},
     "output_type": "execute_result"
    }
   ],
   "source": [
    "data_temp_last = data_temp_last.fillna(0)\n",
    "data_temp_last"
   ]
  },
  {
   "cell_type": "markdown",
   "metadata": {},
   "source": [
    "## Обучение модели"
   ]
  },
  {
   "cell_type": "code",
   "execution_count": 31,
   "metadata": {},
   "outputs": [],
   "source": [
    "#Обучение\n",
    "target = data_temp_last['Температура']\n",
    "features = data_temp_last[['Первичная_температура','Wire 1','Wire 2','Газ 1','Активная мощность','Bulk 3','Bulk 4','Bulk 12','Bulk 14','Bulk 15']]"
   ]
  },
  {
   "cell_type": "code",
   "execution_count": 33,
   "metadata": {},
   "outputs": [
    {
     "data": {
      "text/html": [
       "<div>\n",
       "<style scoped>\n",
       "    .dataframe tbody tr th:only-of-type {\n",
       "        vertical-align: middle;\n",
       "    }\n",
       "\n",
       "    .dataframe tbody tr th {\n",
       "        vertical-align: top;\n",
       "    }\n",
       "\n",
       "    .dataframe thead th {\n",
       "        text-align: right;\n",
       "    }\n",
       "</style>\n",
       "<table border=\"1\" class=\"dataframe\">\n",
       "  <thead>\n",
       "    <tr style=\"text-align: right;\">\n",
       "      <th></th>\n",
       "      <th>Первичная_температура</th>\n",
       "      <th>Wire 1</th>\n",
       "      <th>Wire 2</th>\n",
       "      <th>Газ 1</th>\n",
       "      <th>Активная мощность</th>\n",
       "      <th>Bulk 3</th>\n",
       "      <th>Bulk 4</th>\n",
       "      <th>Bulk 12</th>\n",
       "      <th>Bulk 14</th>\n",
       "      <th>Bulk 15</th>\n",
       "    </tr>\n",
       "  </thead>\n",
       "  <tbody>\n",
       "    <tr>\n",
       "      <th>0</th>\n",
       "      <td>1571.0</td>\n",
       "      <td>60.059998</td>\n",
       "      <td>0.000000</td>\n",
       "      <td>29.749986</td>\n",
       "      <td>4.878147</td>\n",
       "      <td>0.0</td>\n",
       "      <td>43.0</td>\n",
       "      <td>206.0</td>\n",
       "      <td>150.0</td>\n",
       "      <td>154.0</td>\n",
       "    </tr>\n",
       "    <tr>\n",
       "      <th>1</th>\n",
       "      <td>1581.0</td>\n",
       "      <td>96.052315</td>\n",
       "      <td>0.000000</td>\n",
       "      <td>12.555561</td>\n",
       "      <td>3.052598</td>\n",
       "      <td>0.0</td>\n",
       "      <td>73.0</td>\n",
       "      <td>206.0</td>\n",
       "      <td>149.0</td>\n",
       "      <td>154.0</td>\n",
       "    </tr>\n",
       "    <tr>\n",
       "      <th>2</th>\n",
       "      <td>1596.0</td>\n",
       "      <td>91.160157</td>\n",
       "      <td>0.000000</td>\n",
       "      <td>28.554793</td>\n",
       "      <td>2.525882</td>\n",
       "      <td>0.0</td>\n",
       "      <td>34.0</td>\n",
       "      <td>205.0</td>\n",
       "      <td>152.0</td>\n",
       "      <td>153.0</td>\n",
       "    </tr>\n",
       "    <tr>\n",
       "      <th>3</th>\n",
       "      <td>1601.0</td>\n",
       "      <td>89.063515</td>\n",
       "      <td>0.000000</td>\n",
       "      <td>18.841219</td>\n",
       "      <td>3.209250</td>\n",
       "      <td>0.0</td>\n",
       "      <td>81.0</td>\n",
       "      <td>207.0</td>\n",
       "      <td>153.0</td>\n",
       "      <td>154.0</td>\n",
       "    </tr>\n",
       "    <tr>\n",
       "      <th>4</th>\n",
       "      <td>1576.0</td>\n",
       "      <td>89.238236</td>\n",
       "      <td>9.114560</td>\n",
       "      <td>5.413692</td>\n",
       "      <td>3.347173</td>\n",
       "      <td>0.0</td>\n",
       "      <td>78.0</td>\n",
       "      <td>203.0</td>\n",
       "      <td>151.0</td>\n",
       "      <td>152.0</td>\n",
       "    </tr>\n",
       "    <tr>\n",
       "      <th>...</th>\n",
       "      <td>...</td>\n",
       "      <td>...</td>\n",
       "      <td>...</td>\n",
       "      <td>...</td>\n",
       "      <td>...</td>\n",
       "      <td>...</td>\n",
       "      <td>...</td>\n",
       "      <td>...</td>\n",
       "      <td>...</td>\n",
       "      <td>...</td>\n",
       "    </tr>\n",
       "    <tr>\n",
       "      <th>2328</th>\n",
       "      <td>1624.0</td>\n",
       "      <td>109.243675</td>\n",
       "      <td>0.000000</td>\n",
       "      <td>7.620290</td>\n",
       "      <td>3.716570</td>\n",
       "      <td>286.0</td>\n",
       "      <td>0.0</td>\n",
       "      <td>254.0</td>\n",
       "      <td>154.0</td>\n",
       "      <td>158.0</td>\n",
       "    </tr>\n",
       "    <tr>\n",
       "      <th>2329</th>\n",
       "      <td>1616.0</td>\n",
       "      <td>130.166403</td>\n",
       "      <td>0.000000</td>\n",
       "      <td>5.699542</td>\n",
       "      <td>2.456302</td>\n",
       "      <td>140.0</td>\n",
       "      <td>0.0</td>\n",
       "      <td>258.0</td>\n",
       "      <td>150.0</td>\n",
       "      <td>106.0</td>\n",
       "    </tr>\n",
       "    <tr>\n",
       "      <th>2330</th>\n",
       "      <td>1595.0</td>\n",
       "      <td>30.008158</td>\n",
       "      <td>90.178398</td>\n",
       "      <td>1.837179</td>\n",
       "      <td>1.788605</td>\n",
       "      <td>154.0</td>\n",
       "      <td>0.0</td>\n",
       "      <td>308.0</td>\n",
       "      <td>148.0</td>\n",
       "      <td>206.0</td>\n",
       "    </tr>\n",
       "    <tr>\n",
       "      <th>2331</th>\n",
       "      <td>1591.0</td>\n",
       "      <td>4.062240</td>\n",
       "      <td>0.000000</td>\n",
       "      <td>3.129189</td>\n",
       "      <td>0.883352</td>\n",
       "      <td>0.0</td>\n",
       "      <td>0.0</td>\n",
       "      <td>0.0</td>\n",
       "      <td>0.0</td>\n",
       "      <td>0.0</td>\n",
       "    </tr>\n",
       "    <tr>\n",
       "      <th>2332</th>\n",
       "      <td>1585.0</td>\n",
       "      <td>20.092800</td>\n",
       "      <td>0.000000</td>\n",
       "      <td>8.516508</td>\n",
       "      <td>2.851084</td>\n",
       "      <td>0.0</td>\n",
       "      <td>0.0</td>\n",
       "      <td>310.0</td>\n",
       "      <td>120.0</td>\n",
       "      <td>204.0</td>\n",
       "    </tr>\n",
       "  </tbody>\n",
       "</table>\n",
       "<p>2318 rows × 10 columns</p>\n",
       "</div>"
      ],
      "text/plain": [
       "      Первичная_температура      Wire 1     Wire 2      Газ 1  \\\n",
       "0                    1571.0   60.059998   0.000000  29.749986   \n",
       "1                    1581.0   96.052315   0.000000  12.555561   \n",
       "2                    1596.0   91.160157   0.000000  28.554793   \n",
       "3                    1601.0   89.063515   0.000000  18.841219   \n",
       "4                    1576.0   89.238236   9.114560   5.413692   \n",
       "...                     ...         ...        ...        ...   \n",
       "2328                 1624.0  109.243675   0.000000   7.620290   \n",
       "2329                 1616.0  130.166403   0.000000   5.699542   \n",
       "2330                 1595.0   30.008158  90.178398   1.837179   \n",
       "2331                 1591.0    4.062240   0.000000   3.129189   \n",
       "2332                 1585.0   20.092800   0.000000   8.516508   \n",
       "\n",
       "      Активная мощность  Bulk 3  Bulk 4  Bulk 12  Bulk 14  Bulk 15  \n",
       "0              4.878147     0.0    43.0    206.0    150.0    154.0  \n",
       "1              3.052598     0.0    73.0    206.0    149.0    154.0  \n",
       "2              2.525882     0.0    34.0    205.0    152.0    153.0  \n",
       "3              3.209250     0.0    81.0    207.0    153.0    154.0  \n",
       "4              3.347173     0.0    78.0    203.0    151.0    152.0  \n",
       "...                 ...     ...     ...      ...      ...      ...  \n",
       "2328           3.716570   286.0     0.0    254.0    154.0    158.0  \n",
       "2329           2.456302   140.0     0.0    258.0    150.0    106.0  \n",
       "2330           1.788605   154.0     0.0    308.0    148.0    206.0  \n",
       "2331           0.883352     0.0     0.0      0.0      0.0      0.0  \n",
       "2332           2.851084     0.0     0.0    310.0    120.0    204.0  \n",
       "\n",
       "[2318 rows x 10 columns]"
      ]
     },
     "execution_count": 33,
     "metadata": {},
     "output_type": "execute_result"
    }
   ],
   "source": [
    "features"
   ]
  },
  {
   "cell_type": "code",
   "execution_count": 32,
   "metadata": {},
   "outputs": [
    {
     "name": "stdout",
     "output_type": "stream",
     "text": [
      "MAE на тестовой выборке:  6.812207320204699\n"
     ]
    }
   ],
   "source": [
    "features_train, features_test, target_train, target_test = train_test_split(\n",
    "   features, target, test_size=0.25, random_state=12345) # разбиваем на обучающую и тестовую выборку\n",
    "\n",
    "model = RandomForestRegressor(n_estimators=110, max_depth=8, random_state=12345)\n",
    "model.fit(features_train, target_train) \n",
    "predictions_test = model.predict(features_test) \n",
    "\n",
    "print(\"MAE на тестовой выборке: \", mean_absolute_error(target_test, predictions_test ))\n"
   ]
  },
  {
   "cell_type": "markdown",
   "metadata": {},
   "source": [
    "**Результат:** В результе первичного анализа в качестве признаков были выбраны: Первичная_температура, Wire 1,Wire 2, Газ 1, Активная мощность, Bulk 3, Bulk 4, Bulk 12, Bulk 14, Bulk 15. С помошью модели RandomForestRegressor была получена MAE равная 6,8."
   ]
  },
  {
   "cell_type": "code",
   "execution_count": null,
   "metadata": {},
   "outputs": [],
   "source": []
  }
 ],
 "metadata": {
  "ExecuteTimeLog": [
   {
    "duration": 66,
    "start_time": "2022-07-05T15:37:07.168Z"
   },
   {
    "duration": 1374,
    "start_time": "2022-07-05T15:37:18.451Z"
   },
   {
    "duration": 192,
    "start_time": "2022-07-05T15:37:19.900Z"
   },
   {
    "duration": 33,
    "start_time": "2022-07-05T15:37:38.912Z"
   },
   {
    "duration": 17,
    "start_time": "2022-07-05T15:37:52.034Z"
   },
   {
    "duration": 15,
    "start_time": "2022-07-05T15:38:05.050Z"
   },
   {
    "duration": 20,
    "start_time": "2022-07-05T15:38:07.048Z"
   },
   {
    "duration": 952,
    "start_time": "2022-07-05T15:42:52.182Z"
   },
   {
    "duration": 94,
    "start_time": "2022-07-05T15:43:24.261Z"
   },
   {
    "duration": 137,
    "start_time": "2022-07-05T16:10:13.294Z"
   },
   {
    "duration": 28,
    "start_time": "2022-07-05T16:10:17.566Z"
   },
   {
    "duration": 13,
    "start_time": "2022-07-05T16:17:55.672Z"
   },
   {
    "duration": 9,
    "start_time": "2022-07-05T16:18:02.413Z"
   },
   {
    "duration": 209,
    "start_time": "2022-07-05T16:18:04.877Z"
   },
   {
    "duration": 6,
    "start_time": "2022-07-05T16:18:07.878Z"
   },
   {
    "duration": 16,
    "start_time": "2022-07-05T16:18:54.215Z"
   },
   {
    "duration": 1397,
    "start_time": "2022-07-05T16:24:45.454Z"
   },
   {
    "duration": 67,
    "start_time": "2022-07-05T16:24:55.864Z"
   },
   {
    "duration": 1310,
    "start_time": "2022-07-05T16:24:58.422Z"
   },
   {
    "duration": 17,
    "start_time": "2022-07-05T16:25:10.256Z"
   },
   {
    "duration": 33,
    "start_time": "2022-07-05T16:28:16.576Z"
   },
   {
    "duration": 91,
    "start_time": "2022-07-05T16:36:58.451Z"
   },
   {
    "duration": 11,
    "start_time": "2022-07-05T16:37:04.858Z"
   },
   {
    "duration": 11,
    "start_time": "2022-07-05T16:37:20.111Z"
   },
   {
    "duration": 14,
    "start_time": "2022-07-05T16:37:27.926Z"
   },
   {
    "duration": 14,
    "start_time": "2022-07-05T16:37:35.076Z"
   },
   {
    "duration": 16,
    "start_time": "2022-07-05T16:38:01.191Z"
   },
   {
    "duration": 5781,
    "start_time": "2022-07-05T16:38:34.841Z"
   },
   {
    "duration": 23,
    "start_time": "2022-07-05T16:38:48.015Z"
   },
   {
    "duration": 4,
    "start_time": "2022-07-05T16:38:55.075Z"
   },
   {
    "duration": 7,
    "start_time": "2022-07-05T16:39:38.893Z"
   },
   {
    "duration": 12,
    "start_time": "2022-07-05T16:39:51.389Z"
   },
   {
    "duration": 13,
    "start_time": "2022-07-05T16:40:17.657Z"
   },
   {
    "duration": 4,
    "start_time": "2022-07-05T16:40:52.206Z"
   },
   {
    "duration": 13,
    "start_time": "2022-07-05T16:41:00.094Z"
   },
   {
    "duration": 8,
    "start_time": "2022-07-05T16:41:03.141Z"
   },
   {
    "duration": 12,
    "start_time": "2022-07-05T16:41:14.809Z"
   },
   {
    "duration": 13,
    "start_time": "2022-07-05T16:42:39.672Z"
   },
   {
    "duration": 4711,
    "start_time": "2022-07-05T16:43:57.457Z"
   },
   {
    "duration": 4727,
    "start_time": "2022-07-05T16:44:19.604Z"
   },
   {
    "duration": 26,
    "start_time": "2022-07-05T16:44:28.089Z"
   },
   {
    "duration": 4,
    "start_time": "2022-07-05T16:44:43.170Z"
   },
   {
    "duration": 4660,
    "start_time": "2022-07-05T16:44:54.338Z"
   },
   {
    "duration": 4799,
    "start_time": "2022-07-05T16:45:03.855Z"
   },
   {
    "duration": 12,
    "start_time": "2022-07-05T16:48:05.374Z"
   },
   {
    "duration": 17,
    "start_time": "2022-07-05T16:48:15.056Z"
   },
   {
    "duration": 12,
    "start_time": "2022-07-05T16:49:24.223Z"
   },
   {
    "duration": 11,
    "start_time": "2022-07-05T16:50:59.755Z"
   },
   {
    "duration": 19,
    "start_time": "2022-07-05T16:51:12.020Z"
   },
   {
    "duration": 64,
    "start_time": "2022-07-05T16:52:12.190Z"
   },
   {
    "duration": 17,
    "start_time": "2022-07-05T16:52:14.636Z"
   },
   {
    "duration": 15,
    "start_time": "2022-07-05T16:52:18.386Z"
   },
   {
    "duration": 16,
    "start_time": "2022-07-05T16:52:34.138Z"
   },
   {
    "duration": 51,
    "start_time": "2022-07-05T16:52:55.122Z"
   },
   {
    "duration": 16,
    "start_time": "2022-07-05T16:52:57.471Z"
   },
   {
    "duration": 16,
    "start_time": "2022-07-05T16:53:00.170Z"
   },
   {
    "duration": 66,
    "start_time": "2022-07-05T16:53:05.355Z"
   },
   {
    "duration": 16,
    "start_time": "2022-07-05T16:53:17.269Z"
   },
   {
    "duration": 5659,
    "start_time": "2022-07-05T16:53:53.637Z"
   },
   {
    "duration": 4,
    "start_time": "2022-07-05T16:54:01.252Z"
   },
   {
    "duration": 16,
    "start_time": "2022-07-05T16:54:04.803Z"
   },
   {
    "duration": 8,
    "start_time": "2022-07-05T16:54:19.267Z"
   },
   {
    "duration": 13,
    "start_time": "2022-07-05T16:54:21.870Z"
   },
   {
    "duration": 15,
    "start_time": "2022-07-05T16:54:29.468Z"
   },
   {
    "duration": 14,
    "start_time": "2022-07-05T16:54:32.553Z"
   },
   {
    "duration": 26,
    "start_time": "2022-07-05T16:56:20.871Z"
   },
   {
    "duration": 13,
    "start_time": "2022-07-05T16:57:24.329Z"
   },
   {
    "duration": 5,
    "start_time": "2022-07-05T16:57:32.014Z"
   },
   {
    "duration": 14,
    "start_time": "2022-07-05T16:57:35.813Z"
   },
   {
    "duration": 17,
    "start_time": "2022-07-05T16:57:40.828Z"
   },
   {
    "duration": 12,
    "start_time": "2022-07-05T16:59:11.192Z"
   },
   {
    "duration": 18,
    "start_time": "2022-07-05T16:59:19.391Z"
   },
   {
    "duration": 16,
    "start_time": "2022-07-05T17:00:49.699Z"
   },
   {
    "duration": 15,
    "start_time": "2022-07-05T17:00:57.429Z"
   },
   {
    "duration": 53,
    "start_time": "2022-07-05T17:01:48.185Z"
   },
   {
    "duration": 15,
    "start_time": "2022-07-05T17:01:50.947Z"
   },
   {
    "duration": 15,
    "start_time": "2022-07-05T17:01:52.981Z"
   },
   {
    "duration": 64,
    "start_time": "2022-07-05T17:01:55.707Z"
   },
   {
    "duration": 25,
    "start_time": "2022-07-05T17:01:58.330Z"
   },
   {
    "duration": 66,
    "start_time": "2022-07-05T17:02:00.569Z"
   },
   {
    "duration": 17,
    "start_time": "2022-07-05T17:02:03.010Z"
   },
   {
    "duration": 5615,
    "start_time": "2022-07-05T17:02:05.282Z"
   },
   {
    "duration": 3,
    "start_time": "2022-07-05T17:02:12.282Z"
   },
   {
    "duration": 7,
    "start_time": "2022-07-05T17:02:17.067Z"
   },
   {
    "duration": 15,
    "start_time": "2022-07-05T17:02:19.950Z"
   },
   {
    "duration": 6,
    "start_time": "2022-07-05T17:02:23.582Z"
   },
   {
    "duration": 14,
    "start_time": "2022-07-05T17:02:25.917Z"
   },
   {
    "duration": 19,
    "start_time": "2022-07-05T17:02:29.983Z"
   },
   {
    "duration": 1283,
    "start_time": "2022-07-05T17:10:04.274Z"
   },
   {
    "duration": 1154,
    "start_time": "2022-07-05T17:10:25.093Z"
   },
   {
    "duration": 5,
    "start_time": "2022-07-05T17:10:37.431Z"
   },
   {
    "duration": 27,
    "start_time": "2022-07-05T17:10:43.431Z"
   },
   {
    "duration": 20,
    "start_time": "2022-07-05T17:11:01.493Z"
   },
   {
    "duration": 1265,
    "start_time": "2022-07-05T17:11:11.992Z"
   },
   {
    "duration": 1236,
    "start_time": "2022-07-05T17:11:32.409Z"
   },
   {
    "duration": 1194,
    "start_time": "2022-07-05T17:11:55.489Z"
   },
   {
    "duration": 16,
    "start_time": "2022-07-05T17:12:08.156Z"
   },
   {
    "duration": 6,
    "start_time": "2022-07-05T17:12:15.560Z"
   },
   {
    "duration": 6,
    "start_time": "2022-07-05T17:12:23.896Z"
   },
   {
    "duration": 1206,
    "start_time": "2022-07-05T17:12:34.256Z"
   },
   {
    "duration": 1204,
    "start_time": "2022-07-05T17:12:46.334Z"
   },
   {
    "duration": 3,
    "start_time": "2022-07-05T17:12:55.474Z"
   },
   {
    "duration": 5,
    "start_time": "2022-07-05T17:14:26.034Z"
   },
   {
    "duration": 21,
    "start_time": "2022-07-05T17:14:35.131Z"
   },
   {
    "duration": 7,
    "start_time": "2022-07-05T17:15:28.493Z"
   },
   {
    "duration": 342,
    "start_time": "2022-07-05T17:15:31.462Z"
   },
   {
    "duration": 53,
    "start_time": "2022-07-05T17:55:02.335Z"
   },
   {
    "duration": 16,
    "start_time": "2022-07-05T17:55:04.947Z"
   },
   {
    "duration": 20,
    "start_time": "2022-07-05T17:55:07.148Z"
   },
   {
    "duration": 56,
    "start_time": "2022-07-05T17:55:17.516Z"
   },
   {
    "duration": 26,
    "start_time": "2022-07-05T17:55:19.515Z"
   },
   {
    "duration": 63,
    "start_time": "2022-07-05T17:55:21.684Z"
   },
   {
    "duration": 17,
    "start_time": "2022-07-05T17:55:24.374Z"
   },
   {
    "duration": 5684,
    "start_time": "2022-07-05T17:55:26.715Z"
   },
   {
    "duration": 4,
    "start_time": "2022-07-05T17:55:34.090Z"
   },
   {
    "duration": 15,
    "start_time": "2022-07-05T17:55:37.047Z"
   },
   {
    "duration": 7,
    "start_time": "2022-07-05T17:55:39.897Z"
   },
   {
    "duration": 6,
    "start_time": "2022-07-05T17:55:44.395Z"
   },
   {
    "duration": 17,
    "start_time": "2022-07-05T17:55:46.675Z"
   },
   {
    "duration": 22,
    "start_time": "2022-07-05T17:55:48.897Z"
   },
   {
    "duration": 20,
    "start_time": "2022-07-05T17:55:55.548Z"
   },
   {
    "duration": 5,
    "start_time": "2022-07-05T17:56:25.286Z"
   },
   {
    "duration": 13,
    "start_time": "2022-07-05T17:56:35.248Z"
   },
   {
    "duration": 6,
    "start_time": "2022-07-05T17:57:07.586Z"
   },
   {
    "duration": 14,
    "start_time": "2022-07-05T17:57:13.030Z"
   },
   {
    "duration": 13,
    "start_time": "2022-07-05T17:58:16.013Z"
   },
   {
    "duration": 16,
    "start_time": "2022-07-05T17:58:20.478Z"
   },
   {
    "duration": 16,
    "start_time": "2022-07-05T17:58:34.685Z"
   },
   {
    "duration": 14,
    "start_time": "2022-07-05T17:58:51.073Z"
   },
   {
    "duration": 16,
    "start_time": "2022-07-05T17:59:21.898Z"
   },
   {
    "duration": 17,
    "start_time": "2022-07-05T17:59:52.800Z"
   },
   {
    "duration": 19,
    "start_time": "2022-07-05T18:00:13.533Z"
   },
   {
    "duration": 22,
    "start_time": "2022-07-05T18:00:26.648Z"
   },
   {
    "duration": 15,
    "start_time": "2022-07-05T18:00:42.738Z"
   },
   {
    "duration": 6,
    "start_time": "2022-07-05T18:01:22.334Z"
   },
   {
    "duration": 8,
    "start_time": "2022-07-05T18:01:34.671Z"
   },
   {
    "duration": 279,
    "start_time": "2022-07-05T18:01:37.714Z"
   },
   {
    "duration": 7,
    "start_time": "2022-07-05T18:02:38.722Z"
   },
   {
    "duration": 225,
    "start_time": "2022-07-05T18:02:40.373Z"
   },
   {
    "duration": 19,
    "start_time": "2022-07-05T18:03:05.973Z"
   },
   {
    "duration": 10,
    "start_time": "2022-07-05T18:08:13.841Z"
   },
   {
    "duration": 8,
    "start_time": "2022-07-05T18:08:21.478Z"
   },
   {
    "duration": 3,
    "start_time": "2022-07-05T18:12:11.971Z"
   },
   {
    "duration": 53,
    "start_time": "2022-07-05T18:12:13.394Z"
   },
   {
    "duration": 15,
    "start_time": "2022-07-05T18:12:16.208Z"
   },
   {
    "duration": 16,
    "start_time": "2022-07-05T18:12:19.097Z"
   },
   {
    "duration": 63,
    "start_time": "2022-07-05T18:12:23.709Z"
   },
   {
    "duration": 24,
    "start_time": "2022-07-05T18:12:26.635Z"
   },
   {
    "duration": 5654,
    "start_time": "2022-07-05T18:12:28.829Z"
   },
   {
    "duration": 3,
    "start_time": "2022-07-05T18:12:34.485Z"
   },
   {
    "duration": 26,
    "start_time": "2022-07-05T18:12:34.490Z"
   },
   {
    "duration": 8,
    "start_time": "2022-07-05T18:12:37.242Z"
   },
   {
    "duration": 16,
    "start_time": "2022-07-05T18:12:38.926Z"
   },
   {
    "duration": 6,
    "start_time": "2022-07-05T18:12:51.209Z"
   },
   {
    "duration": 15,
    "start_time": "2022-07-05T18:12:56.246Z"
   },
   {
    "duration": 25,
    "start_time": "2022-07-05T18:13:03.592Z"
   },
   {
    "duration": 13,
    "start_time": "2022-07-05T18:13:08.324Z"
   },
   {
    "duration": 10,
    "start_time": "2022-07-05T18:13:16.127Z"
   },
   {
    "duration": 20,
    "start_time": "2022-07-05T18:13:19.890Z"
   },
   {
    "duration": 6,
    "start_time": "2022-07-05T18:13:50.993Z"
   },
   {
    "duration": 4,
    "start_time": "2022-07-05T18:13:59.509Z"
   },
   {
    "duration": 22,
    "start_time": "2022-07-05T18:14:04.009Z"
   },
   {
    "duration": 6,
    "start_time": "2022-07-05T18:14:38.992Z"
   },
   {
    "duration": 7,
    "start_time": "2022-07-05T18:15:02.619Z"
   },
   {
    "duration": 7,
    "start_time": "2022-07-05T18:15:13.143Z"
   },
   {
    "duration": 8,
    "start_time": "2022-07-05T18:15:24.510Z"
   },
   {
    "duration": 9,
    "start_time": "2022-07-05T18:15:38.630Z"
   },
   {
    "duration": 18,
    "start_time": "2022-07-05T18:15:45.693Z"
   },
   {
    "duration": 13,
    "start_time": "2022-07-05T18:16:13.508Z"
   },
   {
    "duration": 18,
    "start_time": "2022-07-05T18:16:23.207Z"
   },
   {
    "duration": 15,
    "start_time": "2022-07-05T18:17:28.890Z"
   },
   {
    "duration": 14,
    "start_time": "2022-07-05T18:17:38.995Z"
   },
   {
    "duration": 10,
    "start_time": "2022-07-05T18:17:47.737Z"
   },
   {
    "duration": 52,
    "start_time": "2022-07-05T18:20:02.910Z"
   },
   {
    "duration": 16,
    "start_time": "2022-07-05T18:20:05.281Z"
   },
   {
    "duration": 15,
    "start_time": "2022-07-05T18:20:07.789Z"
   },
   {
    "duration": 63,
    "start_time": "2022-07-05T18:20:12.893Z"
   },
   {
    "duration": 17,
    "start_time": "2022-07-05T18:20:16.146Z"
   },
   {
    "duration": 5319,
    "start_time": "2022-07-05T18:20:18.197Z"
   },
   {
    "duration": 4,
    "start_time": "2022-07-05T18:20:23.518Z"
   },
   {
    "duration": 15,
    "start_time": "2022-07-05T18:20:23.523Z"
   },
   {
    "duration": 12,
    "start_time": "2022-07-05T18:20:25.723Z"
   },
   {
    "duration": 5,
    "start_time": "2022-07-05T18:20:28.905Z"
   },
   {
    "duration": 14,
    "start_time": "2022-07-05T18:20:32.489Z"
   },
   {
    "duration": 18,
    "start_time": "2022-07-05T18:20:35.385Z"
   },
   {
    "duration": 14,
    "start_time": "2022-07-05T18:20:41.189Z"
   },
   {
    "duration": 10,
    "start_time": "2022-07-05T18:20:46.293Z"
   },
   {
    "duration": 1522,
    "start_time": "2022-07-05T18:21:13.388Z"
   },
   {
    "duration": 64,
    "start_time": "2022-07-05T18:21:14.912Z"
   },
   {
    "duration": 22,
    "start_time": "2022-07-05T18:21:14.978Z"
   },
   {
    "duration": 20,
    "start_time": "2022-07-05T18:21:15.003Z"
   },
   {
    "duration": 36,
    "start_time": "2022-07-05T18:21:15.025Z"
   },
   {
    "duration": 59,
    "start_time": "2022-07-05T18:21:15.064Z"
   },
   {
    "duration": 47,
    "start_time": "2022-07-05T18:21:15.125Z"
   },
   {
    "duration": 24,
    "start_time": "2022-07-05T18:21:15.174Z"
   },
   {
    "duration": 5665,
    "start_time": "2022-07-05T18:21:15.200Z"
   },
   {
    "duration": 3,
    "start_time": "2022-07-05T18:21:20.868Z"
   },
   {
    "duration": 20,
    "start_time": "2022-07-05T18:21:20.872Z"
   },
   {
    "duration": 8,
    "start_time": "2022-07-05T18:21:20.898Z"
   },
   {
    "duration": 14,
    "start_time": "2022-07-05T18:21:20.908Z"
   },
   {
    "duration": 9,
    "start_time": "2022-07-05T18:21:20.923Z"
   },
   {
    "duration": 14,
    "start_time": "2022-07-05T18:21:20.934Z"
   },
   {
    "duration": 22,
    "start_time": "2022-07-05T18:21:20.950Z"
   },
   {
    "duration": 2,
    "start_time": "2022-07-05T18:21:20.999Z"
   },
   {
    "duration": 17,
    "start_time": "2022-07-05T18:21:21.003Z"
   },
   {
    "duration": 7,
    "start_time": "2022-07-05T18:21:21.022Z"
   },
   {
    "duration": 25,
    "start_time": "2022-07-05T18:21:21.030Z"
   },
   {
    "duration": 9,
    "start_time": "2022-07-05T18:21:21.056Z"
   },
   {
    "duration": 357,
    "start_time": "2022-07-05T18:21:21.067Z"
   },
   {
    "duration": 21,
    "start_time": "2022-07-05T18:26:10.736Z"
   },
   {
    "duration": 21,
    "start_time": "2022-07-05T18:26:27.668Z"
   },
   {
    "duration": 8,
    "start_time": "2022-07-05T18:26:53.584Z"
   },
   {
    "duration": 269,
    "start_time": "2022-07-05T18:26:55.718Z"
   },
   {
    "duration": 1391,
    "start_time": "2022-07-05T21:20:20.883Z"
   },
   {
    "duration": 75,
    "start_time": "2022-07-05T21:20:22.275Z"
   },
   {
    "duration": 16,
    "start_time": "2022-07-05T21:20:22.351Z"
   },
   {
    "duration": 13,
    "start_time": "2022-07-05T21:20:22.369Z"
   },
   {
    "duration": 63,
    "start_time": "2022-07-05T21:20:22.383Z"
   },
   {
    "duration": 22,
    "start_time": "2022-07-05T21:20:22.448Z"
   },
   {
    "duration": 59,
    "start_time": "2022-07-05T21:20:22.472Z"
   },
   {
    "duration": 13,
    "start_time": "2022-07-05T21:20:22.533Z"
   },
   {
    "duration": 4748,
    "start_time": "2022-07-05T21:20:22.548Z"
   },
   {
    "duration": 4,
    "start_time": "2022-07-05T21:20:27.298Z"
   },
   {
    "duration": 29,
    "start_time": "2022-07-05T21:20:27.304Z"
   },
   {
    "duration": 9,
    "start_time": "2022-07-05T21:20:27.334Z"
   },
   {
    "duration": 20,
    "start_time": "2022-07-05T21:20:27.344Z"
   },
   {
    "duration": 13,
    "start_time": "2022-07-05T21:20:27.366Z"
   },
   {
    "duration": 22,
    "start_time": "2022-07-05T21:20:27.381Z"
   },
   {
    "duration": 29,
    "start_time": "2022-07-05T21:20:27.405Z"
   },
   {
    "duration": 2,
    "start_time": "2022-07-05T21:20:27.436Z"
   },
   {
    "duration": 14,
    "start_time": "2022-07-05T21:20:27.440Z"
   },
   {
    "duration": 6,
    "start_time": "2022-07-05T21:20:27.456Z"
   },
   {
    "duration": 17,
    "start_time": "2022-07-05T21:20:27.463Z"
   },
   {
    "duration": 6,
    "start_time": "2022-07-05T21:20:27.481Z"
   },
   {
    "duration": 274,
    "start_time": "2022-07-05T21:20:27.488Z"
   },
   {
    "duration": 4,
    "start_time": "2022-07-05T21:22:09.532Z"
   },
   {
    "duration": 15,
    "start_time": "2022-07-05T21:22:18.049Z"
   },
   {
    "duration": 40,
    "start_time": "2022-07-05T21:22:44.679Z"
   },
   {
    "duration": 24,
    "start_time": "2022-07-05T21:22:48.080Z"
   },
   {
    "duration": 13,
    "start_time": "2022-07-05T21:22:50.979Z"
   },
   {
    "duration": 3,
    "start_time": "2022-07-05T21:23:02.514Z"
   },
   {
    "duration": 14,
    "start_time": "2022-07-05T21:23:04.332Z"
   },
   {
    "duration": 89,
    "start_time": "2022-07-05T21:25:47.396Z"
   },
   {
    "duration": 57,
    "start_time": "2022-07-05T21:27:59.426Z"
   },
   {
    "duration": 19,
    "start_time": "2022-07-05T21:29:13.383Z"
   },
   {
    "duration": 105,
    "start_time": "2022-07-05T21:29:35.960Z"
   },
   {
    "duration": 20,
    "start_time": "2022-07-05T21:30:03.548Z"
   },
   {
    "duration": 6,
    "start_time": "2022-07-05T21:30:06.896Z"
   },
   {
    "duration": 322,
    "start_time": "2022-07-05T21:30:09.997Z"
   },
   {
    "duration": 50,
    "start_time": "2022-07-05T21:31:49.244Z"
   },
   {
    "duration": 10,
    "start_time": "2022-07-05T21:31:57.560Z"
   },
   {
    "duration": 10,
    "start_time": "2022-07-05T21:32:31.609Z"
   },
   {
    "duration": 53,
    "start_time": "2022-07-05T21:32:51.878Z"
   },
   {
    "duration": 49,
    "start_time": "2022-07-05T21:37:51.546Z"
   },
   {
    "duration": 57,
    "start_time": "2022-07-05T21:38:07.882Z"
   },
   {
    "duration": 14,
    "start_time": "2022-07-05T21:38:21.430Z"
   },
   {
    "duration": 10,
    "start_time": "2022-07-05T21:38:29.095Z"
   },
   {
    "duration": 51,
    "start_time": "2022-07-05T21:38:34.445Z"
   },
   {
    "duration": 73,
    "start_time": "2022-07-05T21:38:47.562Z"
   },
   {
    "duration": 50,
    "start_time": "2022-07-05T21:39:03.463Z"
   },
   {
    "duration": 19,
    "start_time": "2022-07-05T21:39:23.080Z"
   },
   {
    "duration": 18,
    "start_time": "2022-07-05T21:40:30.712Z"
   },
   {
    "duration": 33,
    "start_time": "2022-07-05T21:42:32.030Z"
   },
   {
    "duration": 10,
    "start_time": "2022-07-05T21:42:34.976Z"
   },
   {
    "duration": 34,
    "start_time": "2022-07-05T21:42:41.630Z"
   },
   {
    "duration": 7,
    "start_time": "2022-07-05T21:42:58.629Z"
   },
   {
    "duration": 8,
    "start_time": "2022-07-05T21:43:24.966Z"
   },
   {
    "duration": 15,
    "start_time": "2022-07-05T21:44:04.945Z"
   },
   {
    "duration": 767,
    "start_time": "2022-07-05T21:44:57.695Z"
   },
   {
    "duration": 13,
    "start_time": "2022-07-05T21:45:08.878Z"
   },
   {
    "duration": 4,
    "start_time": "2022-07-05T21:45:19.978Z"
   },
   {
    "duration": 13,
    "start_time": "2022-07-05T21:45:43.778Z"
   },
   {
    "duration": 11,
    "start_time": "2022-07-05T21:46:03.044Z"
   },
   {
    "duration": 13,
    "start_time": "2022-07-05T21:46:13.009Z"
   },
   {
    "duration": 9,
    "start_time": "2022-07-05T21:46:25.346Z"
   },
   {
    "duration": 13,
    "start_time": "2022-07-05T21:47:02.880Z"
   },
   {
    "duration": 7,
    "start_time": "2022-07-05T21:47:19.511Z"
   },
   {
    "duration": 12,
    "start_time": "2022-07-05T21:47:27.143Z"
   },
   {
    "duration": 21,
    "start_time": "2022-07-05T21:48:59.426Z"
   },
   {
    "duration": 20,
    "start_time": "2022-07-05T21:49:45.376Z"
   },
   {
    "duration": 33,
    "start_time": "2022-07-05T21:52:07.039Z"
   },
   {
    "duration": 11,
    "start_time": "2022-07-05T21:52:10.789Z"
   },
   {
    "duration": 36,
    "start_time": "2022-07-05T21:52:13.824Z"
   },
   {
    "duration": 14,
    "start_time": "2022-07-05T21:52:27.157Z"
   },
   {
    "duration": 10,
    "start_time": "2022-07-05T21:53:27.675Z"
   },
   {
    "duration": 13,
    "start_time": "2022-07-05T21:54:01.892Z"
   },
   {
    "duration": 32,
    "start_time": "2022-07-05T21:54:20.825Z"
   },
   {
    "duration": 11,
    "start_time": "2022-07-05T21:54:23.540Z"
   },
   {
    "duration": 35,
    "start_time": "2022-07-05T21:54:26.473Z"
   },
   {
    "duration": 9,
    "start_time": "2022-07-05T21:54:35.009Z"
   },
   {
    "duration": 16,
    "start_time": "2022-07-05T21:54:47.458Z"
   },
   {
    "duration": 19,
    "start_time": "2022-07-05T21:55:41.408Z"
   },
   {
    "duration": 15,
    "start_time": "2022-07-05T21:55:54.856Z"
   },
   {
    "duration": 7,
    "start_time": "2022-07-05T21:56:11.873Z"
   },
   {
    "duration": 350,
    "start_time": "2022-07-05T21:56:14.759Z"
   },
   {
    "duration": 45,
    "start_time": "2022-07-05T21:59:52.173Z"
   },
   {
    "duration": 38,
    "start_time": "2022-07-05T22:00:36.870Z"
   },
   {
    "duration": 14,
    "start_time": "2022-07-05T22:04:16.220Z"
   },
   {
    "duration": 15,
    "start_time": "2022-07-05T22:04:22.455Z"
   },
   {
    "duration": 19,
    "start_time": "2022-07-05T22:04:54.059Z"
   },
   {
    "duration": 104,
    "start_time": "2022-07-06T07:28:43.129Z"
   },
   {
    "duration": 1490,
    "start_time": "2022-07-06T07:29:38.222Z"
   },
   {
    "duration": 189,
    "start_time": "2022-07-06T07:29:52.548Z"
   },
   {
    "duration": 16,
    "start_time": "2022-07-06T07:30:01.105Z"
   },
   {
    "duration": 13,
    "start_time": "2022-07-06T07:30:17.872Z"
   },
   {
    "duration": 3,
    "start_time": "2022-07-06T07:30:50.959Z"
   },
   {
    "duration": 97,
    "start_time": "2022-07-06T07:32:18.856Z"
   },
   {
    "duration": 125,
    "start_time": "2022-07-06T07:32:22.905Z"
   },
   {
    "duration": 4,
    "start_time": "2022-07-06T07:32:25.631Z"
   },
   {
    "duration": 5,
    "start_time": "2022-07-06T07:34:00.580Z"
   },
   {
    "duration": 14,
    "start_time": "2022-07-06T07:34:23.095Z"
   },
   {
    "duration": 5,
    "start_time": "2022-07-06T07:35:17.739Z"
   },
   {
    "duration": 12,
    "start_time": "2022-07-06T07:35:26.778Z"
   },
   {
    "duration": 57,
    "start_time": "2022-07-06T07:35:33.136Z"
   },
   {
    "duration": 15,
    "start_time": "2022-07-06T07:35:36.183Z"
   },
   {
    "duration": 15,
    "start_time": "2022-07-06T07:35:38.943Z"
   },
   {
    "duration": 13,
    "start_time": "2022-07-06T07:35:43.177Z"
   },
   {
    "duration": 4,
    "start_time": "2022-07-06T07:36:11.428Z"
   },
   {
    "duration": 57,
    "start_time": "2022-07-06T07:36:13.519Z"
   },
   {
    "duration": 14,
    "start_time": "2022-07-06T07:36:16.405Z"
   },
   {
    "duration": 15,
    "start_time": "2022-07-06T07:36:20.020Z"
   },
   {
    "duration": 12,
    "start_time": "2022-07-06T07:36:22.839Z"
   },
   {
    "duration": 74,
    "start_time": "2022-07-06T07:37:15.744Z"
   },
   {
    "duration": 20,
    "start_time": "2022-07-06T07:37:18.572Z"
   },
   {
    "duration": 13,
    "start_time": "2022-07-06T07:37:20.922Z"
   },
   {
    "duration": 21,
    "start_time": "2022-07-06T07:37:24.051Z"
   },
   {
    "duration": 58,
    "start_time": "2022-07-06T07:37:40.320Z"
   },
   {
    "duration": 3,
    "start_time": "2022-07-06T07:37:51.634Z"
   },
   {
    "duration": 10,
    "start_time": "2022-07-06T07:38:06.383Z"
   },
   {
    "duration": 67,
    "start_time": "2022-07-06T07:38:23.382Z"
   },
   {
    "duration": 14,
    "start_time": "2022-07-06T07:38:26.431Z"
   },
   {
    "duration": 176,
    "start_time": "2022-07-06T07:40:03.015Z"
   },
   {
    "duration": 57,
    "start_time": "2022-07-06T07:40:50.348Z"
   },
   {
    "duration": 4,
    "start_time": "2022-07-06T07:50:04.264Z"
   },
   {
    "duration": 11,
    "start_time": "2022-07-06T07:50:42.180Z"
   },
   {
    "duration": 24,
    "start_time": "2022-07-06T07:50:47.176Z"
   },
   {
    "duration": 10,
    "start_time": "2022-07-06T07:51:18.543Z"
   },
   {
    "duration": 9,
    "start_time": "2022-07-06T07:51:28.011Z"
   },
   {
    "duration": 14,
    "start_time": "2022-07-06T07:51:35.794Z"
   },
   {
    "duration": 14,
    "start_time": "2022-07-06T07:51:46.078Z"
   },
   {
    "duration": 21,
    "start_time": "2022-07-06T07:52:19.147Z"
   },
   {
    "duration": 15,
    "start_time": "2022-07-06T07:54:11.569Z"
   },
   {
    "duration": 22,
    "start_time": "2022-07-06T07:56:10.850Z"
   },
   {
    "duration": 15,
    "start_time": "2022-07-06T07:56:43.344Z"
   },
   {
    "duration": 18,
    "start_time": "2022-07-06T07:57:14.507Z"
   },
   {
    "duration": 25,
    "start_time": "2022-07-06T07:57:36.315Z"
   },
   {
    "duration": 23,
    "start_time": "2022-07-06T07:57:49.734Z"
   },
   {
    "duration": 57,
    "start_time": "2022-07-06T07:57:59.667Z"
   },
   {
    "duration": 10,
    "start_time": "2022-07-06T07:58:02.081Z"
   },
   {
    "duration": 3,
    "start_time": "2022-07-06T07:58:04.833Z"
   },
   {
    "duration": 17,
    "start_time": "2022-07-06T07:58:07.815Z"
   },
   {
    "duration": 61,
    "start_time": "2022-07-06T07:58:11.000Z"
   },
   {
    "duration": 20,
    "start_time": "2022-07-06T07:58:20.698Z"
   },
   {
    "duration": 18,
    "start_time": "2022-07-06T07:58:41.633Z"
   },
   {
    "duration": 9,
    "start_time": "2022-07-06T07:58:50.614Z"
   },
   {
    "duration": 18,
    "start_time": "2022-07-06T08:00:02.948Z"
   },
   {
    "duration": 63,
    "start_time": "2022-07-06T08:00:27.033Z"
   },
   {
    "duration": 3,
    "start_time": "2022-07-06T08:00:31.183Z"
   },
   {
    "duration": 17,
    "start_time": "2022-07-06T08:00:33.531Z"
   },
   {
    "duration": 74,
    "start_time": "2022-07-06T08:00:36.116Z"
   },
   {
    "duration": 11,
    "start_time": "2022-07-06T08:00:39.298Z"
   },
   {
    "duration": 14,
    "start_time": "2022-07-06T08:00:54.182Z"
   },
   {
    "duration": 16,
    "start_time": "2022-07-06T08:01:37.736Z"
   },
   {
    "duration": 10,
    "start_time": "2022-07-06T08:03:19.781Z"
   },
   {
    "duration": 11,
    "start_time": "2022-07-06T08:03:37.532Z"
   },
   {
    "duration": 14,
    "start_time": "2022-07-06T08:04:04.672Z"
   },
   {
    "duration": 17,
    "start_time": "2022-07-06T08:04:11.729Z"
   },
   {
    "duration": 26,
    "start_time": "2022-07-06T08:04:21.147Z"
   },
   {
    "duration": 13,
    "start_time": "2022-07-06T08:04:36.514Z"
   },
   {
    "duration": 15,
    "start_time": "2022-07-06T08:04:48.297Z"
   },
   {
    "duration": 13,
    "start_time": "2022-07-06T08:05:32.398Z"
   },
   {
    "duration": 21,
    "start_time": "2022-07-06T08:06:09.898Z"
   },
   {
    "duration": 22,
    "start_time": "2022-07-06T08:06:41.031Z"
   },
   {
    "duration": 13,
    "start_time": "2022-07-06T08:06:47.767Z"
   },
   {
    "duration": 15,
    "start_time": "2022-07-06T08:07:20.615Z"
   },
   {
    "duration": 17,
    "start_time": "2022-07-06T08:08:04.128Z"
   },
   {
    "duration": 14,
    "start_time": "2022-07-06T08:08:21.115Z"
   },
   {
    "duration": 28,
    "start_time": "2022-07-06T08:10:14.201Z"
   },
   {
    "duration": 22,
    "start_time": "2022-07-06T08:10:36.715Z"
   },
   {
    "duration": 21,
    "start_time": "2022-07-06T08:10:48.467Z"
   },
   {
    "duration": 14,
    "start_time": "2022-07-06T08:10:59.127Z"
   },
   {
    "duration": 12,
    "start_time": "2022-07-06T08:12:45.614Z"
   },
   {
    "duration": 11,
    "start_time": "2022-07-06T08:15:08.470Z"
   },
   {
    "duration": 7,
    "start_time": "2022-07-06T08:15:14.895Z"
   },
   {
    "duration": 15,
    "start_time": "2022-07-06T08:15:21.528Z"
   },
   {
    "duration": 7,
    "start_time": "2022-07-06T08:16:07.577Z"
   },
   {
    "duration": 211,
    "start_time": "2022-07-06T08:16:18.295Z"
   },
   {
    "duration": 24,
    "start_time": "2022-07-06T08:16:47.345Z"
   },
   {
    "duration": 5718,
    "start_time": "2022-07-06T08:16:54.412Z"
   },
   {
    "duration": 3,
    "start_time": "2022-07-06T08:17:01.765Z"
   },
   {
    "duration": 19,
    "start_time": "2022-07-06T08:17:18.843Z"
   },
   {
    "duration": 8,
    "start_time": "2022-07-06T08:17:25.008Z"
   },
   {
    "duration": 12,
    "start_time": "2022-07-06T08:17:27.959Z"
   },
   {
    "duration": 4,
    "start_time": "2022-07-06T08:17:37.325Z"
   },
   {
    "duration": 15,
    "start_time": "2022-07-06T08:17:40.026Z"
   },
   {
    "duration": 20,
    "start_time": "2022-07-06T08:17:46.277Z"
   },
   {
    "duration": 13,
    "start_time": "2022-07-06T08:18:31.679Z"
   },
   {
    "duration": 11,
    "start_time": "2022-07-06T08:18:37.959Z"
   },
   {
    "duration": 9,
    "start_time": "2022-07-06T08:19:27.278Z"
   },
   {
    "duration": 17,
    "start_time": "2022-07-06T08:19:42.341Z"
   },
   {
    "duration": 7,
    "start_time": "2022-07-06T08:19:55.043Z"
   },
   {
    "duration": 22,
    "start_time": "2022-07-06T08:20:57.741Z"
   },
   {
    "duration": 10,
    "start_time": "2022-07-06T08:21:13.627Z"
   },
   {
    "duration": 20,
    "start_time": "2022-07-06T08:21:36.541Z"
   },
   {
    "duration": 12,
    "start_time": "2022-07-06T08:22:05.674Z"
   },
   {
    "duration": 12,
    "start_time": "2022-07-06T08:22:15.077Z"
   },
   {
    "duration": 64,
    "start_time": "2022-07-06T08:22:21.426Z"
   },
   {
    "duration": 56,
    "start_time": "2022-07-06T08:22:25.843Z"
   },
   {
    "duration": 18,
    "start_time": "2022-07-06T08:22:28.245Z"
   },
   {
    "duration": 15,
    "start_time": "2022-07-06T08:22:30.174Z"
   },
   {
    "duration": 27,
    "start_time": "2022-07-06T08:22:32.139Z"
   },
   {
    "duration": 17,
    "start_time": "2022-07-06T08:22:48.026Z"
   },
   {
    "duration": 17,
    "start_time": "2022-07-06T08:22:50.592Z"
   },
   {
    "duration": 17,
    "start_time": "2022-07-06T08:23:50.059Z"
   },
   {
    "duration": 16,
    "start_time": "2022-07-06T08:23:57.091Z"
   },
   {
    "duration": 24,
    "start_time": "2022-07-06T08:24:13.424Z"
   },
   {
    "duration": 117,
    "start_time": "2022-07-06T08:25:14.225Z"
   },
   {
    "duration": 14,
    "start_time": "2022-07-06T08:26:45.833Z"
   },
   {
    "duration": 27,
    "start_time": "2022-07-06T08:27:16.549Z"
   },
   {
    "duration": 80,
    "start_time": "2022-07-06T08:27:35.733Z"
   },
   {
    "duration": 12,
    "start_time": "2022-07-06T08:27:57.681Z"
   },
   {
    "duration": 22,
    "start_time": "2022-07-06T08:30:53.915Z"
   },
   {
    "duration": 122,
    "start_time": "2022-07-06T08:32:40.131Z"
   },
   {
    "duration": 11,
    "start_time": "2022-07-06T08:33:02.237Z"
   },
   {
    "duration": 10,
    "start_time": "2022-07-06T08:33:07.229Z"
   },
   {
    "duration": 13,
    "start_time": "2022-07-06T08:39:23.762Z"
   },
   {
    "duration": 1331,
    "start_time": "2022-07-06T08:39:36.680Z"
   },
   {
    "duration": 10,
    "start_time": "2022-07-06T08:39:51.912Z"
   },
   {
    "duration": 9,
    "start_time": "2022-07-06T08:40:13.827Z"
   },
   {
    "duration": 130,
    "start_time": "2022-07-06T08:40:18.278Z"
   },
   {
    "duration": 3,
    "start_time": "2022-07-06T08:40:20.960Z"
   },
   {
    "duration": 12,
    "start_time": "2022-07-06T08:40:25.792Z"
   },
   {
    "duration": 1573,
    "start_time": "2022-07-06T08:40:48.770Z"
   },
   {
    "duration": 1402,
    "start_time": "2022-07-06T08:41:00.194Z"
   },
   {
    "duration": 4,
    "start_time": "2022-07-06T08:43:40.012Z"
   },
   {
    "duration": 6,
    "start_time": "2022-07-06T08:43:47.826Z"
   },
   {
    "duration": 7,
    "start_time": "2022-07-06T08:44:35.577Z"
   },
   {
    "duration": 15,
    "start_time": "2022-07-06T08:44:43.460Z"
   },
   {
    "duration": 11,
    "start_time": "2022-07-06T08:45:13.235Z"
   },
   {
    "duration": 7,
    "start_time": "2022-07-06T08:46:06.110Z"
   },
   {
    "duration": 15,
    "start_time": "2022-07-06T08:46:12.275Z"
   },
   {
    "duration": 104,
    "start_time": "2022-07-06T08:48:09.891Z"
   },
   {
    "duration": 12,
    "start_time": "2022-07-06T08:48:17.022Z"
   },
   {
    "duration": 13,
    "start_time": "2022-07-06T08:50:02.123Z"
   },
   {
    "duration": 25,
    "start_time": "2022-07-06T08:50:30.323Z"
   },
   {
    "duration": 23,
    "start_time": "2022-07-06T08:51:24.641Z"
   },
   {
    "duration": 15,
    "start_time": "2022-07-06T08:52:32.121Z"
   },
   {
    "duration": 23,
    "start_time": "2022-07-06T08:53:47.266Z"
   },
   {
    "duration": 27,
    "start_time": "2022-07-06T08:53:57.845Z"
   },
   {
    "duration": 26,
    "start_time": "2022-07-06T08:54:10.896Z"
   },
   {
    "duration": 24,
    "start_time": "2022-07-06T08:55:14.076Z"
   },
   {
    "duration": 26,
    "start_time": "2022-07-06T08:55:26.019Z"
   },
   {
    "duration": 8,
    "start_time": "2022-07-06T08:55:46.023Z"
   },
   {
    "duration": 1415,
    "start_time": "2022-07-06T08:56:52.560Z"
   },
   {
    "duration": 12,
    "start_time": "2022-07-06T08:57:05.681Z"
   },
   {
    "duration": 10,
    "start_time": "2022-07-06T08:57:14.469Z"
   },
   {
    "duration": 28,
    "start_time": "2022-07-06T08:57:32.361Z"
   },
   {
    "duration": 28,
    "start_time": "2022-07-06T08:57:52.150Z"
   },
   {
    "duration": 9,
    "start_time": "2022-07-06T08:58:25.230Z"
   },
   {
    "duration": 13,
    "start_time": "2022-07-06T08:58:28.295Z"
   },
   {
    "duration": 27,
    "start_time": "2022-07-06T08:59:13.826Z"
   },
   {
    "duration": 21,
    "start_time": "2022-07-06T09:00:18.894Z"
   },
   {
    "duration": 1304,
    "start_time": "2022-07-06T09:00:51.159Z"
   },
   {
    "duration": 12,
    "start_time": "2022-07-06T09:01:06.393Z"
   },
   {
    "duration": 23,
    "start_time": "2022-07-06T09:01:23.898Z"
   },
   {
    "duration": 25,
    "start_time": "2022-07-06T09:01:31.993Z"
   },
   {
    "duration": 1275,
    "start_time": "2022-07-06T09:01:36.391Z"
   },
   {
    "duration": 22,
    "start_time": "2022-07-06T09:01:44.507Z"
   },
   {
    "duration": 56,
    "start_time": "2022-07-06T09:02:05.061Z"
   },
   {
    "duration": 18,
    "start_time": "2022-07-06T09:02:07.260Z"
   },
   {
    "duration": 15,
    "start_time": "2022-07-06T09:02:09.439Z"
   },
   {
    "duration": 17,
    "start_time": "2022-07-06T09:02:14.209Z"
   },
   {
    "duration": 1387,
    "start_time": "2022-07-06T09:02:30.364Z"
   },
   {
    "duration": 61,
    "start_time": "2022-07-06T09:02:31.753Z"
   },
   {
    "duration": 16,
    "start_time": "2022-07-06T09:02:31.815Z"
   },
   {
    "duration": 24,
    "start_time": "2022-07-06T09:02:31.833Z"
   },
   {
    "duration": 13,
    "start_time": "2022-07-06T09:02:31.859Z"
   },
   {
    "duration": 39,
    "start_time": "2022-07-06T09:02:31.873Z"
   },
   {
    "duration": 14,
    "start_time": "2022-07-06T09:02:31.914Z"
   },
   {
    "duration": 7,
    "start_time": "2022-07-06T09:02:31.930Z"
   },
   {
    "duration": 26,
    "start_time": "2022-07-06T09:02:31.955Z"
   },
   {
    "duration": 32,
    "start_time": "2022-07-06T09:02:31.983Z"
   },
   {
    "duration": 16,
    "start_time": "2022-07-06T09:02:32.016Z"
   },
   {
    "duration": 17,
    "start_time": "2022-07-06T09:02:32.033Z"
   },
   {
    "duration": 17,
    "start_time": "2022-07-06T09:02:32.054Z"
   },
   {
    "duration": 13,
    "start_time": "2022-07-06T09:02:32.074Z"
   },
   {
    "duration": 46,
    "start_time": "2022-07-06T09:02:32.088Z"
   },
   {
    "duration": 22,
    "start_time": "2022-07-06T09:02:32.135Z"
   },
   {
    "duration": 5921,
    "start_time": "2022-07-06T09:02:32.163Z"
   },
   {
    "duration": 3,
    "start_time": "2022-07-06T09:02:38.086Z"
   },
   {
    "duration": 20,
    "start_time": "2022-07-06T09:02:38.090Z"
   },
   {
    "duration": 7,
    "start_time": "2022-07-06T09:02:38.111Z"
   },
   {
    "duration": 14,
    "start_time": "2022-07-06T09:02:38.119Z"
   },
   {
    "duration": 18,
    "start_time": "2022-07-06T09:02:38.135Z"
   },
   {
    "duration": 22,
    "start_time": "2022-07-06T09:02:38.154Z"
   },
   {
    "duration": 22,
    "start_time": "2022-07-06T09:02:38.177Z"
   },
   {
    "duration": 2,
    "start_time": "2022-07-06T09:02:38.201Z"
   },
   {
    "duration": 14,
    "start_time": "2022-07-06T09:02:38.204Z"
   },
   {
    "duration": 13,
    "start_time": "2022-07-06T09:02:38.220Z"
   },
   {
    "duration": 17,
    "start_time": "2022-07-06T09:02:38.253Z"
   },
   {
    "duration": 94,
    "start_time": "2022-07-06T09:02:38.272Z"
   },
   {
    "duration": 17,
    "start_time": "2022-07-06T09:02:38.369Z"
   },
   {
    "duration": 27,
    "start_time": "2022-07-06T09:02:38.388Z"
   },
   {
    "duration": 11,
    "start_time": "2022-07-06T09:02:38.416Z"
   },
   {
    "duration": 29,
    "start_time": "2022-07-06T09:02:38.429Z"
   },
   {
    "duration": 17,
    "start_time": "2022-07-06T09:02:38.460Z"
   },
   {
    "duration": 15,
    "start_time": "2022-07-06T09:02:38.479Z"
   },
   {
    "duration": 138,
    "start_time": "2022-07-06T09:02:38.496Z"
   },
   {
    "duration": 0,
    "start_time": "2022-07-06T09:02:38.636Z"
   },
   {
    "duration": 0,
    "start_time": "2022-07-06T09:02:38.636Z"
   },
   {
    "duration": 28,
    "start_time": "2022-07-06T09:05:25.558Z"
   },
   {
    "duration": 10,
    "start_time": "2022-07-06T09:05:29.791Z"
   },
   {
    "duration": 15,
    "start_time": "2022-07-06T09:06:25.623Z"
   },
   {
    "duration": 19,
    "start_time": "2022-07-06T09:07:04.881Z"
   },
   {
    "duration": 9,
    "start_time": "2022-07-06T09:07:17.340Z"
   },
   {
    "duration": 20,
    "start_time": "2022-07-06T09:07:19.489Z"
   },
   {
    "duration": 17,
    "start_time": "2022-07-06T09:07:43.479Z"
   },
   {
    "duration": 25,
    "start_time": "2022-07-06T09:08:06.565Z"
   },
   {
    "duration": 8,
    "start_time": "2022-07-06T09:08:16.610Z"
   },
   {
    "duration": 6,
    "start_time": "2022-07-06T09:08:20.194Z"
   },
   {
    "duration": 4,
    "start_time": "2022-07-06T09:08:59.222Z"
   },
   {
    "duration": 6,
    "start_time": "2022-07-06T09:09:15.138Z"
   },
   {
    "duration": 12,
    "start_time": "2022-07-06T09:09:19.479Z"
   },
   {
    "duration": 1510,
    "start_time": "2022-07-06T09:09:24.420Z"
   },
   {
    "duration": 1457,
    "start_time": "2022-07-06T09:09:36.272Z"
   },
   {
    "duration": 69,
    "start_time": "2022-07-06T09:09:37.731Z"
   },
   {
    "duration": 22,
    "start_time": "2022-07-06T09:09:37.802Z"
   },
   {
    "duration": 17,
    "start_time": "2022-07-06T09:09:37.825Z"
   },
   {
    "duration": 25,
    "start_time": "2022-07-06T09:09:37.845Z"
   },
   {
    "duration": 38,
    "start_time": "2022-07-06T09:09:37.876Z"
   },
   {
    "duration": 11,
    "start_time": "2022-07-06T09:09:37.916Z"
   },
   {
    "duration": 6,
    "start_time": "2022-07-06T09:09:37.928Z"
   },
   {
    "duration": 16,
    "start_time": "2022-07-06T09:09:37.935Z"
   },
   {
    "duration": 62,
    "start_time": "2022-07-06T09:09:37.952Z"
   },
   {
    "duration": 16,
    "start_time": "2022-07-06T09:09:38.016Z"
   },
   {
    "duration": 29,
    "start_time": "2022-07-06T09:09:38.034Z"
   },
   {
    "duration": 24,
    "start_time": "2022-07-06T09:09:38.067Z"
   },
   {
    "duration": 9,
    "start_time": "2022-07-06T09:09:38.095Z"
   },
   {
    "duration": 58,
    "start_time": "2022-07-06T09:09:38.105Z"
   },
   {
    "duration": 22,
    "start_time": "2022-07-06T09:09:38.168Z"
   },
   {
    "duration": 5712,
    "start_time": "2022-07-06T09:09:38.192Z"
   },
   {
    "duration": 3,
    "start_time": "2022-07-06T09:09:43.906Z"
   },
   {
    "duration": 20,
    "start_time": "2022-07-06T09:09:43.910Z"
   },
   {
    "duration": 32,
    "start_time": "2022-07-06T09:09:43.932Z"
   },
   {
    "duration": 28,
    "start_time": "2022-07-06T09:09:43.973Z"
   },
   {
    "duration": 8,
    "start_time": "2022-07-06T09:09:44.003Z"
   },
   {
    "duration": 17,
    "start_time": "2022-07-06T09:09:44.012Z"
   },
   {
    "duration": 19,
    "start_time": "2022-07-06T09:09:44.031Z"
   },
   {
    "duration": 16,
    "start_time": "2022-07-06T09:09:44.052Z"
   },
   {
    "duration": 21,
    "start_time": "2022-07-06T09:09:44.077Z"
   },
   {
    "duration": 15,
    "start_time": "2022-07-06T09:09:44.100Z"
   },
   {
    "duration": 11,
    "start_time": "2022-07-06T09:09:44.117Z"
   },
   {
    "duration": 99,
    "start_time": "2022-07-06T09:09:44.130Z"
   },
   {
    "duration": 16,
    "start_time": "2022-07-06T09:09:44.230Z"
   },
   {
    "duration": 42,
    "start_time": "2022-07-06T09:09:44.248Z"
   },
   {
    "duration": 9,
    "start_time": "2022-07-06T09:09:44.292Z"
   },
   {
    "duration": 28,
    "start_time": "2022-07-06T09:09:44.303Z"
   },
   {
    "duration": 18,
    "start_time": "2022-07-06T09:09:44.332Z"
   },
   {
    "duration": 19,
    "start_time": "2022-07-06T09:09:44.351Z"
   },
   {
    "duration": 20,
    "start_time": "2022-07-06T09:09:44.372Z"
   },
   {
    "duration": 140,
    "start_time": "2022-07-06T09:09:44.394Z"
   },
   {
    "duration": 6,
    "start_time": "2022-07-06T09:10:01.187Z"
   },
   {
    "duration": 20,
    "start_time": "2022-07-06T09:10:05.239Z"
   },
   {
    "duration": 1559,
    "start_time": "2022-07-06T09:10:49.920Z"
   },
   {
    "duration": 19,
    "start_time": "2022-07-06T09:11:11.857Z"
   },
   {
    "duration": 1406,
    "start_time": "2022-07-06T09:11:16.474Z"
   },
   {
    "duration": 60,
    "start_time": "2022-07-06T09:11:17.886Z"
   },
   {
    "duration": 31,
    "start_time": "2022-07-06T09:11:17.947Z"
   },
   {
    "duration": 20,
    "start_time": "2022-07-06T09:11:17.981Z"
   },
   {
    "duration": 18,
    "start_time": "2022-07-06T09:11:18.003Z"
   },
   {
    "duration": 46,
    "start_time": "2022-07-06T09:11:18.023Z"
   },
   {
    "duration": 17,
    "start_time": "2022-07-06T09:11:18.076Z"
   },
   {
    "duration": 4,
    "start_time": "2022-07-06T09:11:18.095Z"
   },
   {
    "duration": 18,
    "start_time": "2022-07-06T09:11:18.100Z"
   },
   {
    "duration": 48,
    "start_time": "2022-07-06T09:11:18.119Z"
   },
   {
    "duration": 26,
    "start_time": "2022-07-06T09:11:18.168Z"
   },
   {
    "duration": 21,
    "start_time": "2022-07-06T09:11:18.195Z"
   },
   {
    "duration": 14,
    "start_time": "2022-07-06T09:11:18.217Z"
   },
   {
    "duration": 11,
    "start_time": "2022-07-06T09:11:18.258Z"
   },
   {
    "duration": 61,
    "start_time": "2022-07-06T09:11:18.271Z"
   },
   {
    "duration": 16,
    "start_time": "2022-07-06T09:11:18.333Z"
   },
   {
    "duration": 5799,
    "start_time": "2022-07-06T09:11:18.351Z"
   },
   {
    "duration": 14,
    "start_time": "2022-07-06T09:11:24.154Z"
   },
   {
    "duration": 36,
    "start_time": "2022-07-06T09:11:24.171Z"
   },
   {
    "duration": 8,
    "start_time": "2022-07-06T09:11:24.209Z"
   },
   {
    "duration": 17,
    "start_time": "2022-07-06T09:11:24.219Z"
   },
   {
    "duration": 6,
    "start_time": "2022-07-06T09:11:24.238Z"
   },
   {
    "duration": 32,
    "start_time": "2022-07-06T09:11:24.246Z"
   },
   {
    "duration": 24,
    "start_time": "2022-07-06T09:11:24.284Z"
   },
   {
    "duration": 3,
    "start_time": "2022-07-06T09:11:24.310Z"
   },
   {
    "duration": 18,
    "start_time": "2022-07-06T09:11:24.314Z"
   },
   {
    "duration": 14,
    "start_time": "2022-07-06T09:11:24.333Z"
   },
   {
    "duration": 29,
    "start_time": "2022-07-06T09:11:24.349Z"
   },
   {
    "duration": 90,
    "start_time": "2022-07-06T09:11:24.381Z"
   },
   {
    "duration": 22,
    "start_time": "2022-07-06T09:11:24.475Z"
   },
   {
    "duration": 28,
    "start_time": "2022-07-06T09:11:24.499Z"
   },
   {
    "duration": 25,
    "start_time": "2022-07-06T09:11:24.529Z"
   },
   {
    "duration": 45,
    "start_time": "2022-07-06T09:11:24.562Z"
   },
   {
    "duration": 20,
    "start_time": "2022-07-06T09:11:24.608Z"
   },
   {
    "duration": 17,
    "start_time": "2022-07-06T09:11:24.630Z"
   },
   {
    "duration": 38,
    "start_time": "2022-07-06T09:11:24.648Z"
   },
   {
    "duration": 127,
    "start_time": "2022-07-06T09:11:24.688Z"
   },
   {
    "duration": 20,
    "start_time": "2022-07-06T09:12:01.260Z"
   },
   {
    "duration": 19,
    "start_time": "2022-07-06T09:12:37.634Z"
   },
   {
    "duration": 4,
    "start_time": "2022-07-06T09:12:42.075Z"
   },
   {
    "duration": 3,
    "start_time": "2022-07-06T09:12:46.598Z"
   },
   {
    "duration": 22,
    "start_time": "2022-07-06T09:12:49.051Z"
   },
   {
    "duration": 12,
    "start_time": "2022-07-06T09:13:05.457Z"
   },
   {
    "duration": 18,
    "start_time": "2022-07-06T09:13:12.850Z"
   },
   {
    "duration": 4,
    "start_time": "2022-07-06T09:13:30.540Z"
   },
   {
    "duration": 15,
    "start_time": "2022-07-06T09:13:33.280Z"
   },
   {
    "duration": 192,
    "start_time": "2022-07-06T09:13:36.096Z"
   },
   {
    "duration": 1628,
    "start_time": "2022-07-06T09:14:53.183Z"
   },
   {
    "duration": 69,
    "start_time": "2022-07-06T09:14:54.813Z"
   },
   {
    "duration": 23,
    "start_time": "2022-07-06T09:14:54.885Z"
   },
   {
    "duration": 21,
    "start_time": "2022-07-06T09:14:54.911Z"
   },
   {
    "duration": 38,
    "start_time": "2022-07-06T09:14:54.935Z"
   },
   {
    "duration": 46,
    "start_time": "2022-07-06T09:14:54.979Z"
   },
   {
    "duration": 13,
    "start_time": "2022-07-06T09:14:55.027Z"
   },
   {
    "duration": 11,
    "start_time": "2022-07-06T09:14:55.042Z"
   },
   {
    "duration": 63,
    "start_time": "2022-07-06T09:14:55.058Z"
   },
   {
    "duration": 59,
    "start_time": "2022-07-06T09:14:55.123Z"
   },
   {
    "duration": 23,
    "start_time": "2022-07-06T09:14:55.185Z"
   },
   {
    "duration": 34,
    "start_time": "2022-07-06T09:14:55.210Z"
   },
   {
    "duration": 54,
    "start_time": "2022-07-06T09:14:55.254Z"
   },
   {
    "duration": 8,
    "start_time": "2022-07-06T09:14:55.311Z"
   },
   {
    "duration": 62,
    "start_time": "2022-07-06T09:14:55.321Z"
   },
   {
    "duration": 17,
    "start_time": "2022-07-06T09:14:55.386Z"
   },
   {
    "duration": 6005,
    "start_time": "2022-07-06T09:14:55.405Z"
   },
   {
    "duration": 3,
    "start_time": "2022-07-06T09:15:01.412Z"
   },
   {
    "duration": 19,
    "start_time": "2022-07-06T09:15:01.417Z"
   },
   {
    "duration": 6,
    "start_time": "2022-07-06T09:15:01.438Z"
   },
   {
    "duration": 25,
    "start_time": "2022-07-06T09:15:01.458Z"
   },
   {
    "duration": 6,
    "start_time": "2022-07-06T09:15:01.485Z"
   },
   {
    "duration": 26,
    "start_time": "2022-07-06T09:15:01.492Z"
   },
   {
    "duration": 21,
    "start_time": "2022-07-06T09:15:01.520Z"
   },
   {
    "duration": 2,
    "start_time": "2022-07-06T09:15:01.543Z"
   },
   {
    "duration": 40,
    "start_time": "2022-07-06T09:15:01.547Z"
   },
   {
    "duration": 17,
    "start_time": "2022-07-06T09:15:01.589Z"
   },
   {
    "duration": 13,
    "start_time": "2022-07-06T09:15:01.608Z"
   },
   {
    "duration": 98,
    "start_time": "2022-07-06T09:15:01.623Z"
   },
   {
    "duration": 19,
    "start_time": "2022-07-06T09:15:01.723Z"
   },
   {
    "duration": 45,
    "start_time": "2022-07-06T09:15:01.744Z"
   },
   {
    "duration": 11,
    "start_time": "2022-07-06T09:15:01.790Z"
   },
   {
    "duration": 37,
    "start_time": "2022-07-06T09:15:01.802Z"
   },
   {
    "duration": 36,
    "start_time": "2022-07-06T09:15:01.841Z"
   },
   {
    "duration": 24,
    "start_time": "2022-07-06T09:15:01.880Z"
   },
   {
    "duration": 8,
    "start_time": "2022-07-06T09:15:01.906Z"
   },
   {
    "duration": 125,
    "start_time": "2022-07-06T09:15:01.915Z"
   },
   {
    "duration": 0,
    "start_time": "2022-07-06T09:15:02.041Z"
   },
   {
    "duration": 13,
    "start_time": "2022-07-06T09:15:24.015Z"
   },
   {
    "duration": 7,
    "start_time": "2022-07-06T09:15:47.318Z"
   },
   {
    "duration": 87,
    "start_time": "2022-07-06T09:15:50.130Z"
   },
   {
    "duration": 1737,
    "start_time": "2022-07-06T09:15:55.223Z"
   },
   {
    "duration": 72,
    "start_time": "2022-07-06T09:15:56.962Z"
   },
   {
    "duration": 23,
    "start_time": "2022-07-06T09:15:57.035Z"
   },
   {
    "duration": 19,
    "start_time": "2022-07-06T09:15:57.061Z"
   },
   {
    "duration": 30,
    "start_time": "2022-07-06T09:15:57.082Z"
   },
   {
    "duration": 55,
    "start_time": "2022-07-06T09:15:57.113Z"
   },
   {
    "duration": 17,
    "start_time": "2022-07-06T09:15:57.172Z"
   },
   {
    "duration": 7,
    "start_time": "2022-07-06T09:15:57.192Z"
   },
   {
    "duration": 20,
    "start_time": "2022-07-06T09:15:57.200Z"
   },
   {
    "duration": 42,
    "start_time": "2022-07-06T09:15:57.223Z"
   },
   {
    "duration": 22,
    "start_time": "2022-07-06T09:15:57.267Z"
   },
   {
    "duration": 28,
    "start_time": "2022-07-06T09:15:57.293Z"
   },
   {
    "duration": 43,
    "start_time": "2022-07-06T09:15:57.323Z"
   },
   {
    "duration": 22,
    "start_time": "2022-07-06T09:15:57.372Z"
   },
   {
    "duration": 52,
    "start_time": "2022-07-06T09:15:57.397Z"
   },
   {
    "duration": 30,
    "start_time": "2022-07-06T09:15:57.452Z"
   },
   {
    "duration": 6208,
    "start_time": "2022-07-06T09:15:57.484Z"
   },
   {
    "duration": 9,
    "start_time": "2022-07-06T09:16:03.694Z"
   },
   {
    "duration": 21,
    "start_time": "2022-07-06T09:16:03.705Z"
   },
   {
    "duration": 9,
    "start_time": "2022-07-06T09:16:03.728Z"
   },
   {
    "duration": 64,
    "start_time": "2022-07-06T09:16:03.739Z"
   },
   {
    "duration": 11,
    "start_time": "2022-07-06T09:16:03.806Z"
   },
   {
    "duration": 21,
    "start_time": "2022-07-06T09:16:03.819Z"
   },
   {
    "duration": 32,
    "start_time": "2022-07-06T09:16:03.842Z"
   },
   {
    "duration": 11,
    "start_time": "2022-07-06T09:16:03.879Z"
   },
   {
    "duration": 23,
    "start_time": "2022-07-06T09:16:03.892Z"
   },
   {
    "duration": 23,
    "start_time": "2022-07-06T09:16:03.918Z"
   },
   {
    "duration": 23,
    "start_time": "2022-07-06T09:16:03.945Z"
   },
   {
    "duration": 114,
    "start_time": "2022-07-06T09:16:03.981Z"
   },
   {
    "duration": 6,
    "start_time": "2022-07-06T09:16:04.098Z"
   },
   {
    "duration": 31,
    "start_time": "2022-07-06T09:16:04.106Z"
   },
   {
    "duration": 11,
    "start_time": "2022-07-06T09:16:04.139Z"
   },
   {
    "duration": 42,
    "start_time": "2022-07-06T09:16:04.152Z"
   },
   {
    "duration": 23,
    "start_time": "2022-07-06T09:16:04.196Z"
   },
   {
    "duration": 10,
    "start_time": "2022-07-06T09:16:04.221Z"
   },
   {
    "duration": 10,
    "start_time": "2022-07-06T09:16:04.233Z"
   },
   {
    "duration": 20,
    "start_time": "2022-07-06T09:16:04.254Z"
   },
   {
    "duration": 191,
    "start_time": "2022-07-06T09:16:04.284Z"
   },
   {
    "duration": 43,
    "start_time": "2022-07-06T09:18:51.344Z"
   },
   {
    "duration": 7,
    "start_time": "2022-07-06T09:20:23.644Z"
   },
   {
    "duration": 1599,
    "start_time": "2022-07-06T09:20:52.846Z"
   },
   {
    "duration": 84,
    "start_time": "2022-07-06T09:20:54.447Z"
   },
   {
    "duration": 24,
    "start_time": "2022-07-06T09:20:54.533Z"
   },
   {
    "duration": 25,
    "start_time": "2022-07-06T09:20:54.565Z"
   },
   {
    "duration": 32,
    "start_time": "2022-07-06T09:20:54.592Z"
   },
   {
    "duration": 67,
    "start_time": "2022-07-06T09:20:54.626Z"
   },
   {
    "duration": 14,
    "start_time": "2022-07-06T09:20:54.706Z"
   },
   {
    "duration": 8,
    "start_time": "2022-07-06T09:20:54.722Z"
   },
   {
    "duration": 18,
    "start_time": "2022-07-06T09:20:54.732Z"
   },
   {
    "duration": 64,
    "start_time": "2022-07-06T09:20:54.771Z"
   },
   {
    "duration": 38,
    "start_time": "2022-07-06T09:20:54.837Z"
   },
   {
    "duration": 30,
    "start_time": "2022-07-06T09:20:54.877Z"
   },
   {
    "duration": 15,
    "start_time": "2022-07-06T09:20:54.909Z"
   },
   {
    "duration": 13,
    "start_time": "2022-07-06T09:20:54.926Z"
   },
   {
    "duration": 77,
    "start_time": "2022-07-06T09:20:54.940Z"
   },
   {
    "duration": 20,
    "start_time": "2022-07-06T09:20:55.020Z"
   },
   {
    "duration": 6586,
    "start_time": "2022-07-06T09:20:55.044Z"
   },
   {
    "duration": 3,
    "start_time": "2022-07-06T09:21:01.632Z"
   },
   {
    "duration": 55,
    "start_time": "2022-07-06T09:21:01.636Z"
   },
   {
    "duration": 8,
    "start_time": "2022-07-06T09:21:01.693Z"
   },
   {
    "duration": 27,
    "start_time": "2022-07-06T09:21:01.702Z"
   },
   {
    "duration": 16,
    "start_time": "2022-07-06T09:21:01.731Z"
   },
   {
    "duration": 23,
    "start_time": "2022-07-06T09:21:01.749Z"
   },
   {
    "duration": 33,
    "start_time": "2022-07-06T09:21:01.773Z"
   },
   {
    "duration": 24,
    "start_time": "2022-07-06T09:21:01.808Z"
   },
   {
    "duration": 15,
    "start_time": "2022-07-06T09:21:01.834Z"
   },
   {
    "duration": 90,
    "start_time": "2022-07-06T09:21:01.850Z"
   },
   {
    "duration": 14,
    "start_time": "2022-07-06T09:21:01.943Z"
   },
   {
    "duration": 113,
    "start_time": "2022-07-06T09:21:01.959Z"
   },
   {
    "duration": 15,
    "start_time": "2022-07-06T09:21:02.074Z"
   },
   {
    "duration": 65,
    "start_time": "2022-07-06T09:21:02.092Z"
   },
   {
    "duration": 22,
    "start_time": "2022-07-06T09:21:02.158Z"
   },
   {
    "duration": 21,
    "start_time": "2022-07-06T09:21:02.181Z"
   },
   {
    "duration": 8,
    "start_time": "2022-07-06T09:21:02.204Z"
   },
   {
    "duration": 14,
    "start_time": "2022-07-06T09:21:02.214Z"
   },
   {
    "duration": 172,
    "start_time": "2022-07-06T09:21:02.230Z"
   },
   {
    "duration": 1425,
    "start_time": "2022-07-06T09:22:47.463Z"
   },
   {
    "duration": 59,
    "start_time": "2022-07-06T09:22:48.890Z"
   },
   {
    "duration": 26,
    "start_time": "2022-07-06T09:22:48.951Z"
   },
   {
    "duration": 23,
    "start_time": "2022-07-06T09:22:48.979Z"
   },
   {
    "duration": 13,
    "start_time": "2022-07-06T09:22:49.004Z"
   },
   {
    "duration": 46,
    "start_time": "2022-07-06T09:22:49.019Z"
   },
   {
    "duration": 16,
    "start_time": "2022-07-06T09:22:49.066Z"
   },
   {
    "duration": 13,
    "start_time": "2022-07-06T09:22:49.084Z"
   },
   {
    "duration": 17,
    "start_time": "2022-07-06T09:22:49.098Z"
   },
   {
    "duration": 43,
    "start_time": "2022-07-06T09:22:49.119Z"
   },
   {
    "duration": 25,
    "start_time": "2022-07-06T09:22:49.163Z"
   },
   {
    "duration": 23,
    "start_time": "2022-07-06T09:22:49.191Z"
   },
   {
    "duration": 17,
    "start_time": "2022-07-06T09:22:49.215Z"
   },
   {
    "duration": 24,
    "start_time": "2022-07-06T09:22:49.234Z"
   },
   {
    "duration": 81,
    "start_time": "2022-07-06T09:22:49.260Z"
   },
   {
    "duration": 20,
    "start_time": "2022-07-06T09:22:49.343Z"
   },
   {
    "duration": 5935,
    "start_time": "2022-07-06T09:22:49.365Z"
   },
   {
    "duration": 3,
    "start_time": "2022-07-06T09:22:55.302Z"
   },
   {
    "duration": 18,
    "start_time": "2022-07-06T09:22:55.306Z"
   },
   {
    "duration": 7,
    "start_time": "2022-07-06T09:22:55.325Z"
   },
   {
    "duration": 59,
    "start_time": "2022-07-06T09:22:55.334Z"
   },
   {
    "duration": 20,
    "start_time": "2022-07-06T09:22:55.394Z"
   },
   {
    "duration": 5,
    "start_time": "2022-07-06T09:22:55.415Z"
   },
   {
    "duration": 18,
    "start_time": "2022-07-06T09:22:55.422Z"
   },
   {
    "duration": 39,
    "start_time": "2022-07-06T09:22:55.442Z"
   },
   {
    "duration": 14,
    "start_time": "2022-07-06T09:22:55.488Z"
   },
   {
    "duration": 89,
    "start_time": "2022-07-06T09:22:55.503Z"
   },
   {
    "duration": 11,
    "start_time": "2022-07-06T09:22:55.596Z"
   },
   {
    "duration": 66,
    "start_time": "2022-07-06T09:22:55.609Z"
   },
   {
    "duration": 15,
    "start_time": "2022-07-06T09:22:55.678Z"
   },
   {
    "duration": 50,
    "start_time": "2022-07-06T09:22:55.695Z"
   },
   {
    "duration": 32,
    "start_time": "2022-07-06T09:22:55.747Z"
   },
   {
    "duration": 18,
    "start_time": "2022-07-06T09:22:55.782Z"
   },
   {
    "duration": 6,
    "start_time": "2022-07-06T09:22:55.802Z"
   },
   {
    "duration": 16,
    "start_time": "2022-07-06T09:22:55.809Z"
   },
   {
    "duration": 488,
    "start_time": "2022-07-06T09:22:55.827Z"
   },
   {
    "duration": 394,
    "start_time": "2022-07-06T09:28:02.790Z"
   },
   {
    "duration": 1633,
    "start_time": "2022-07-06T09:47:34.202Z"
   },
   {
    "duration": 1425,
    "start_time": "2022-07-06T09:47:44.890Z"
   },
   {
    "duration": 78,
    "start_time": "2022-07-06T09:47:46.317Z"
   },
   {
    "duration": 15,
    "start_time": "2022-07-06T09:47:46.397Z"
   },
   {
    "duration": 13,
    "start_time": "2022-07-06T09:47:46.414Z"
   },
   {
    "duration": 16,
    "start_time": "2022-07-06T09:47:46.429Z"
   },
   {
    "duration": 55,
    "start_time": "2022-07-06T09:47:46.452Z"
   },
   {
    "duration": 11,
    "start_time": "2022-07-06T09:47:46.508Z"
   },
   {
    "duration": 5,
    "start_time": "2022-07-06T09:47:46.521Z"
   },
   {
    "duration": 17,
    "start_time": "2022-07-06T09:47:46.527Z"
   },
   {
    "duration": 53,
    "start_time": "2022-07-06T09:47:46.547Z"
   },
   {
    "duration": 28,
    "start_time": "2022-07-06T09:47:46.602Z"
   },
   {
    "duration": 28,
    "start_time": "2022-07-06T09:47:46.631Z"
   },
   {
    "duration": 16,
    "start_time": "2022-07-06T09:47:46.661Z"
   },
   {
    "duration": 16,
    "start_time": "2022-07-06T09:47:46.681Z"
   },
   {
    "duration": 43,
    "start_time": "2022-07-06T09:47:46.699Z"
   },
   {
    "duration": 24,
    "start_time": "2022-07-06T09:47:46.744Z"
   },
   {
    "duration": 6205,
    "start_time": "2022-07-06T09:47:46.770Z"
   },
   {
    "duration": 3,
    "start_time": "2022-07-06T09:47:52.978Z"
   },
   {
    "duration": 20,
    "start_time": "2022-07-06T09:47:52.984Z"
   },
   {
    "duration": 6,
    "start_time": "2022-07-06T09:47:53.006Z"
   },
   {
    "duration": 18,
    "start_time": "2022-07-06T09:47:53.014Z"
   },
   {
    "duration": 46,
    "start_time": "2022-07-06T09:47:53.034Z"
   },
   {
    "duration": 9,
    "start_time": "2022-07-06T09:47:53.082Z"
   },
   {
    "duration": 20,
    "start_time": "2022-07-06T09:47:53.093Z"
   },
   {
    "duration": 22,
    "start_time": "2022-07-06T09:47:53.115Z"
   },
   {
    "duration": 29,
    "start_time": "2022-07-06T09:47:53.139Z"
   },
   {
    "duration": 76,
    "start_time": "2022-07-06T09:47:53.170Z"
   },
   {
    "duration": 15,
    "start_time": "2022-07-06T09:47:53.250Z"
   },
   {
    "duration": 48,
    "start_time": "2022-07-06T09:47:53.268Z"
   },
   {
    "duration": 11,
    "start_time": "2022-07-06T09:47:53.318Z"
   },
   {
    "duration": 37,
    "start_time": "2022-07-06T09:47:53.331Z"
   },
   {
    "duration": 27,
    "start_time": "2022-07-06T09:47:53.370Z"
   },
   {
    "duration": 14,
    "start_time": "2022-07-06T09:47:53.399Z"
   },
   {
    "duration": 4,
    "start_time": "2022-07-06T09:47:53.415Z"
   },
   {
    "duration": 39,
    "start_time": "2022-07-06T09:47:53.421Z"
   },
   {
    "duration": 477,
    "start_time": "2022-07-06T09:47:53.463Z"
   },
   {
    "duration": 11,
    "start_time": "2022-07-06T09:48:38.104Z"
   },
   {
    "duration": 14,
    "start_time": "2022-07-06T09:49:17.750Z"
   },
   {
    "duration": 28,
    "start_time": "2022-07-06T09:49:24.176Z"
   },
   {
    "duration": 1406,
    "start_time": "2022-07-06T09:50:20.782Z"
   },
   {
    "duration": 60,
    "start_time": "2022-07-06T09:50:22.190Z"
   },
   {
    "duration": 31,
    "start_time": "2022-07-06T09:50:22.251Z"
   },
   {
    "duration": 20,
    "start_time": "2022-07-06T09:50:22.284Z"
   },
   {
    "duration": 12,
    "start_time": "2022-07-06T09:50:22.306Z"
   },
   {
    "duration": 48,
    "start_time": "2022-07-06T09:50:22.320Z"
   },
   {
    "duration": 18,
    "start_time": "2022-07-06T09:50:22.370Z"
   },
   {
    "duration": 8,
    "start_time": "2022-07-06T09:50:22.390Z"
   },
   {
    "duration": 20,
    "start_time": "2022-07-06T09:50:22.399Z"
   },
   {
    "duration": 46,
    "start_time": "2022-07-06T09:50:22.420Z"
   },
   {
    "duration": 22,
    "start_time": "2022-07-06T09:50:22.468Z"
   },
   {
    "duration": 25,
    "start_time": "2022-07-06T09:50:22.492Z"
   },
   {
    "duration": 43,
    "start_time": "2022-07-06T09:50:22.519Z"
   },
   {
    "duration": 25,
    "start_time": "2022-07-06T09:50:22.566Z"
   },
   {
    "duration": 18,
    "start_time": "2022-07-06T09:50:22.593Z"
   },
   {
    "duration": 52,
    "start_time": "2022-07-06T09:50:22.613Z"
   },
   {
    "duration": 19,
    "start_time": "2022-07-06T09:50:22.675Z"
   },
   {
    "duration": 5728,
    "start_time": "2022-07-06T09:50:22.696Z"
   },
   {
    "duration": 3,
    "start_time": "2022-07-06T09:50:28.426Z"
   },
   {
    "duration": 45,
    "start_time": "2022-07-06T09:50:28.430Z"
   },
   {
    "duration": 8,
    "start_time": "2022-07-06T09:50:28.486Z"
   },
   {
    "duration": 17,
    "start_time": "2022-07-06T09:50:28.496Z"
   },
   {
    "duration": 26,
    "start_time": "2022-07-06T09:50:28.515Z"
   },
   {
    "duration": 5,
    "start_time": "2022-07-06T09:50:28.543Z"
   },
   {
    "duration": 44,
    "start_time": "2022-07-06T09:50:28.549Z"
   },
   {
    "duration": 19,
    "start_time": "2022-07-06T09:50:28.595Z"
   },
   {
    "duration": 14,
    "start_time": "2022-07-06T09:50:28.616Z"
   },
   {
    "duration": 97,
    "start_time": "2022-07-06T09:50:28.631Z"
   },
   {
    "duration": 7,
    "start_time": "2022-07-06T09:50:28.730Z"
   },
   {
    "duration": 46,
    "start_time": "2022-07-06T09:50:28.738Z"
   },
   {
    "duration": 10,
    "start_time": "2022-07-06T09:50:28.786Z"
   },
   {
    "duration": 28,
    "start_time": "2022-07-06T09:50:28.798Z"
   },
   {
    "duration": 19,
    "start_time": "2022-07-06T09:50:28.828Z"
   },
   {
    "duration": 31,
    "start_time": "2022-07-06T09:50:28.849Z"
   },
   {
    "duration": 26,
    "start_time": "2022-07-06T09:50:28.881Z"
   },
   {
    "duration": 15,
    "start_time": "2022-07-06T09:50:28.909Z"
   },
   {
    "duration": 295,
    "start_time": "2022-07-06T09:50:28.926Z"
   },
   {
    "duration": 275,
    "start_time": "2022-07-06T09:52:33.487Z"
   },
   {
    "duration": 315,
    "start_time": "2022-07-06T09:53:19.672Z"
   },
   {
    "duration": 279,
    "start_time": "2022-07-06T09:53:24.566Z"
   },
   {
    "duration": 257,
    "start_time": "2022-07-06T09:53:29.606Z"
   },
   {
    "duration": 189,
    "start_time": "2022-07-06T09:53:34.107Z"
   },
   {
    "duration": 163,
    "start_time": "2022-07-06T09:53:38.280Z"
   },
   {
    "duration": 259,
    "start_time": "2022-07-06T09:53:49.606Z"
   },
   {
    "duration": 1836,
    "start_time": "2022-07-06T09:59:19.003Z"
   },
   {
    "duration": 22,
    "start_time": "2022-07-06T09:59:28.598Z"
   },
   {
    "duration": 17,
    "start_time": "2022-07-06T09:59:33.086Z"
   },
   {
    "duration": 58,
    "start_time": "2022-07-06T10:00:47.171Z"
   },
   {
    "duration": 18,
    "start_time": "2022-07-06T10:00:55.073Z"
   },
   {
    "duration": 16,
    "start_time": "2022-07-06T10:01:05.286Z"
   },
   {
    "duration": 12,
    "start_time": "2022-07-06T10:01:11.721Z"
   },
   {
    "duration": 9,
    "start_time": "2022-07-06T10:02:12.326Z"
   },
   {
    "duration": 5,
    "start_time": "2022-07-06T10:02:16.120Z"
   },
   {
    "duration": 17,
    "start_time": "2022-07-06T10:02:24.475Z"
   },
   {
    "duration": 76,
    "start_time": "2022-07-06T10:02:43.703Z"
   },
   {
    "duration": 17,
    "start_time": "2022-07-06T10:02:48.076Z"
   },
   {
    "duration": 7,
    "start_time": "2022-07-06T10:02:51.666Z"
   },
   {
    "duration": 18,
    "start_time": "2022-07-06T10:03:08.304Z"
   },
   {
    "duration": 63,
    "start_time": "2022-07-06T10:03:33.675Z"
   },
   {
    "duration": 21,
    "start_time": "2022-07-06T10:05:55.423Z"
   },
   {
    "duration": 22,
    "start_time": "2022-07-06T10:06:42.978Z"
   },
   {
    "duration": 14,
    "start_time": "2022-07-06T10:06:50.604Z"
   },
   {
    "duration": 21,
    "start_time": "2022-07-06T10:07:04.594Z"
   },
   {
    "duration": 25,
    "start_time": "2022-07-06T10:07:18.050Z"
   },
   {
    "duration": 18,
    "start_time": "2022-07-06T10:07:21.274Z"
   },
   {
    "duration": 14,
    "start_time": "2022-07-06T10:10:51.279Z"
   },
   {
    "duration": 16,
    "start_time": "2022-07-06T10:10:56.818Z"
   },
   {
    "duration": 10,
    "start_time": "2022-07-06T10:11:40.104Z"
   },
   {
    "duration": 12,
    "start_time": "2022-07-06T10:12:01.101Z"
   },
   {
    "duration": 8,
    "start_time": "2022-07-06T10:12:26.784Z"
   },
   {
    "duration": 6,
    "start_time": "2022-07-06T10:12:39.387Z"
   },
   {
    "duration": 1425,
    "start_time": "2022-07-06T10:12:56.165Z"
   },
   {
    "duration": 11,
    "start_time": "2022-07-06T10:13:14.876Z"
   },
   {
    "duration": 9,
    "start_time": "2022-07-06T10:13:19.687Z"
   },
   {
    "duration": 7,
    "start_time": "2022-07-06T10:13:25.315Z"
   },
   {
    "duration": 13,
    "start_time": "2022-07-06T10:13:38.978Z"
   },
   {
    "duration": 11,
    "start_time": "2022-07-06T10:14:12.574Z"
   },
   {
    "duration": 1441,
    "start_time": "2022-07-06T10:16:35.489Z"
   },
   {
    "duration": 77,
    "start_time": "2022-07-06T10:16:36.933Z"
   },
   {
    "duration": 18,
    "start_time": "2022-07-06T10:16:37.012Z"
   },
   {
    "duration": 14,
    "start_time": "2022-07-06T10:16:37.031Z"
   },
   {
    "duration": 21,
    "start_time": "2022-07-06T10:16:37.047Z"
   },
   {
    "duration": 44,
    "start_time": "2022-07-06T10:16:37.077Z"
   },
   {
    "duration": 13,
    "start_time": "2022-07-06T10:16:37.123Z"
   },
   {
    "duration": 5,
    "start_time": "2022-07-06T10:16:37.138Z"
   },
   {
    "duration": 17,
    "start_time": "2022-07-06T10:16:37.145Z"
   },
   {
    "duration": 59,
    "start_time": "2022-07-06T10:16:37.164Z"
   },
   {
    "duration": 8,
    "start_time": "2022-07-06T10:16:37.224Z"
   },
   {
    "duration": 18,
    "start_time": "2022-07-06T10:16:37.234Z"
   },
   {
    "duration": 44,
    "start_time": "2022-07-06T10:16:37.254Z"
   },
   {
    "duration": 13,
    "start_time": "2022-07-06T10:16:37.301Z"
   },
   {
    "duration": 7,
    "start_time": "2022-07-06T10:16:37.316Z"
   },
   {
    "duration": 54,
    "start_time": "2022-07-06T10:16:37.324Z"
   },
   {
    "duration": 53,
    "start_time": "2022-07-06T10:16:37.384Z"
   },
   {
    "duration": 23,
    "start_time": "2022-07-06T10:16:37.438Z"
   },
   {
    "duration": 5703,
    "start_time": "2022-07-06T10:16:37.466Z"
   },
   {
    "duration": 8,
    "start_time": "2022-07-06T10:16:43.171Z"
   },
   {
    "duration": 28,
    "start_time": "2022-07-06T10:16:43.181Z"
   },
   {
    "duration": 7,
    "start_time": "2022-07-06T10:16:43.210Z"
   },
   {
    "duration": 22,
    "start_time": "2022-07-06T10:16:43.219Z"
   },
   {
    "duration": 37,
    "start_time": "2022-07-06T10:16:43.242Z"
   },
   {
    "duration": 8,
    "start_time": "2022-07-06T10:16:43.280Z"
   },
   {
    "duration": 21,
    "start_time": "2022-07-06T10:16:43.290Z"
   },
   {
    "duration": 23,
    "start_time": "2022-07-06T10:16:43.313Z"
   },
   {
    "duration": 31,
    "start_time": "2022-07-06T10:16:43.338Z"
   },
   {
    "duration": 81,
    "start_time": "2022-07-06T10:16:43.371Z"
   },
   {
    "duration": 10,
    "start_time": "2022-07-06T10:16:43.454Z"
   },
   {
    "duration": 50,
    "start_time": "2022-07-06T10:16:43.465Z"
   },
   {
    "duration": 12,
    "start_time": "2022-07-06T10:16:43.518Z"
   },
   {
    "duration": 45,
    "start_time": "2022-07-06T10:16:43.532Z"
   },
   {
    "duration": 26,
    "start_time": "2022-07-06T10:16:43.579Z"
   },
   {
    "duration": 24,
    "start_time": "2022-07-06T10:16:43.607Z"
   },
   {
    "duration": 42,
    "start_time": "2022-07-06T10:16:43.633Z"
   },
   {
    "duration": 127,
    "start_time": "2022-07-06T10:16:43.676Z"
   },
   {
    "duration": 0,
    "start_time": "2022-07-06T10:16:43.805Z"
   },
   {
    "duration": 16,
    "start_time": "2022-07-06T10:16:57.425Z"
   },
   {
    "duration": 41,
    "start_time": "2022-07-06T10:17:08.400Z"
   },
   {
    "duration": 188,
    "start_time": "2022-07-06T10:17:54.400Z"
   },
   {
    "duration": 18,
    "start_time": "2022-07-06T10:18:01.809Z"
   },
   {
    "duration": 462,
    "start_time": "2022-07-06T10:18:05.172Z"
   },
   {
    "duration": 437,
    "start_time": "2022-07-06T10:18:16.765Z"
   },
   {
    "duration": 657,
    "start_time": "2022-07-06T10:18:36.476Z"
   },
   {
    "duration": 1431,
    "start_time": "2022-07-06T10:21:28.397Z"
   },
   {
    "duration": 67,
    "start_time": "2022-07-06T10:21:29.830Z"
   },
   {
    "duration": 17,
    "start_time": "2022-07-06T10:21:29.899Z"
   },
   {
    "duration": 16,
    "start_time": "2022-07-06T10:21:29.918Z"
   },
   {
    "duration": 20,
    "start_time": "2022-07-06T10:21:29.936Z"
   },
   {
    "duration": 49,
    "start_time": "2022-07-06T10:21:29.958Z"
   },
   {
    "duration": 11,
    "start_time": "2022-07-06T10:21:30.008Z"
   },
   {
    "duration": 3,
    "start_time": "2022-07-06T10:21:30.020Z"
   },
   {
    "duration": 21,
    "start_time": "2022-07-06T10:21:30.024Z"
   },
   {
    "duration": 47,
    "start_time": "2022-07-06T10:21:30.047Z"
   },
   {
    "duration": 11,
    "start_time": "2022-07-06T10:21:30.097Z"
   },
   {
    "duration": 26,
    "start_time": "2022-07-06T10:21:30.111Z"
   },
   {
    "duration": 36,
    "start_time": "2022-07-06T10:21:30.152Z"
   },
   {
    "duration": 15,
    "start_time": "2022-07-06T10:21:30.190Z"
   },
   {
    "duration": 27,
    "start_time": "2022-07-06T10:21:30.207Z"
   },
   {
    "duration": 52,
    "start_time": "2022-07-06T10:21:30.236Z"
   },
   {
    "duration": 73,
    "start_time": "2022-07-06T10:21:30.290Z"
   },
   {
    "duration": 23,
    "start_time": "2022-07-06T10:21:30.366Z"
   },
   {
    "duration": 5884,
    "start_time": "2022-07-06T10:21:30.392Z"
   },
   {
    "duration": 3,
    "start_time": "2022-07-06T10:21:36.279Z"
   },
   {
    "duration": 24,
    "start_time": "2022-07-06T10:21:36.284Z"
   },
   {
    "duration": 10,
    "start_time": "2022-07-06T10:21:36.311Z"
   },
   {
    "duration": 49,
    "start_time": "2022-07-06T10:21:36.323Z"
   },
   {
    "duration": 42,
    "start_time": "2022-07-06T10:21:36.374Z"
   },
   {
    "duration": 6,
    "start_time": "2022-07-06T10:21:36.418Z"
   },
   {
    "duration": 12,
    "start_time": "2022-07-06T10:21:36.426Z"
   },
   {
    "duration": 37,
    "start_time": "2022-07-06T10:21:36.439Z"
   },
   {
    "duration": 13,
    "start_time": "2022-07-06T10:21:36.478Z"
   },
   {
    "duration": 88,
    "start_time": "2022-07-06T10:21:36.493Z"
   },
   {
    "duration": 8,
    "start_time": "2022-07-06T10:21:36.583Z"
   },
   {
    "duration": 35,
    "start_time": "2022-07-06T10:21:36.593Z"
   },
   {
    "duration": 13,
    "start_time": "2022-07-06T10:21:36.630Z"
   },
   {
    "duration": 40,
    "start_time": "2022-07-06T10:21:36.645Z"
   },
   {
    "duration": 18,
    "start_time": "2022-07-06T10:21:36.687Z"
   },
   {
    "duration": 16,
    "start_time": "2022-07-06T10:21:36.706Z"
   },
   {
    "duration": 12,
    "start_time": "2022-07-06T10:21:36.724Z"
   },
   {
    "duration": 64,
    "start_time": "2022-07-06T10:21:36.738Z"
   },
   {
    "duration": 19,
    "start_time": "2022-07-06T10:21:36.804Z"
   },
   {
    "duration": 687,
    "start_time": "2022-07-06T10:21:36.824Z"
   },
   {
    "duration": 19,
    "start_time": "2022-07-06T10:23:07.526Z"
   },
   {
    "duration": 42,
    "start_time": "2022-07-06T10:23:15.526Z"
   },
   {
    "duration": 30,
    "start_time": "2022-07-06T10:23:19.691Z"
   },
   {
    "duration": 33,
    "start_time": "2022-07-06T10:23:23.790Z"
   },
   {
    "duration": 22,
    "start_time": "2022-07-06T10:23:28.408Z"
   },
   {
    "duration": 536,
    "start_time": "2022-07-06T10:24:02.290Z"
   },
   {
    "duration": 751,
    "start_time": "2022-07-06T10:24:07.510Z"
   },
   {
    "duration": 1080,
    "start_time": "2022-07-06T10:24:15.751Z"
   },
   {
    "duration": 928,
    "start_time": "2022-07-06T10:24:26.574Z"
   },
   {
    "duration": 3,
    "start_time": "2022-07-06T10:28:27.797Z"
   },
   {
    "duration": 66,
    "start_time": "2022-07-06T10:28:30.126Z"
   },
   {
    "duration": 19,
    "start_time": "2022-07-06T10:28:36.680Z"
   },
   {
    "duration": 18,
    "start_time": "2022-07-06T10:28:40.176Z"
   },
   {
    "duration": 17,
    "start_time": "2022-07-06T10:28:42.487Z"
   },
   {
    "duration": 97,
    "start_time": "2022-07-06T10:29:35.993Z"
   },
   {
    "duration": 16,
    "start_time": "2022-07-06T10:29:39.775Z"
   },
   {
    "duration": 5,
    "start_time": "2022-07-06T10:29:43.675Z"
   },
   {
    "duration": 1386,
    "start_time": "2022-07-06T10:30:26.587Z"
   },
   {
    "duration": 62,
    "start_time": "2022-07-06T10:30:27.975Z"
   },
   {
    "duration": 24,
    "start_time": "2022-07-06T10:30:28.039Z"
   },
   {
    "duration": 16,
    "start_time": "2022-07-06T10:30:28.070Z"
   },
   {
    "duration": 13,
    "start_time": "2022-07-06T10:30:28.088Z"
   },
   {
    "duration": 44,
    "start_time": "2022-07-06T10:30:28.103Z"
   },
   {
    "duration": 20,
    "start_time": "2022-07-06T10:30:28.149Z"
   },
   {
    "duration": 4,
    "start_time": "2022-07-06T10:30:28.171Z"
   },
   {
    "duration": 19,
    "start_time": "2022-07-06T10:30:28.184Z"
   },
   {
    "duration": 42,
    "start_time": "2022-07-06T10:30:28.204Z"
   },
   {
    "duration": 22,
    "start_time": "2022-07-06T10:30:28.248Z"
   },
   {
    "duration": 37,
    "start_time": "2022-07-06T10:30:28.275Z"
   },
   {
    "duration": 27,
    "start_time": "2022-07-06T10:30:28.314Z"
   },
   {
    "duration": 33,
    "start_time": "2022-07-06T10:30:28.345Z"
   },
   {
    "duration": 24,
    "start_time": "2022-07-06T10:30:28.381Z"
   },
   {
    "duration": 26,
    "start_time": "2022-07-06T10:30:28.407Z"
   },
   {
    "duration": 54,
    "start_time": "2022-07-06T10:30:28.435Z"
   },
   {
    "duration": 14,
    "start_time": "2022-07-06T10:30:28.491Z"
   },
   {
    "duration": 5730,
    "start_time": "2022-07-06T10:30:28.507Z"
   },
   {
    "duration": 4,
    "start_time": "2022-07-06T10:30:34.238Z"
   },
   {
    "duration": 27,
    "start_time": "2022-07-06T10:30:34.243Z"
   },
   {
    "duration": 19,
    "start_time": "2022-07-06T10:30:34.276Z"
   },
   {
    "duration": 15,
    "start_time": "2022-07-06T10:30:34.296Z"
   },
   {
    "duration": 23,
    "start_time": "2022-07-06T10:30:34.312Z"
   },
   {
    "duration": 6,
    "start_time": "2022-07-06T10:30:34.337Z"
   },
   {
    "duration": 29,
    "start_time": "2022-07-06T10:30:34.344Z"
   },
   {
    "duration": 29,
    "start_time": "2022-07-06T10:30:34.377Z"
   },
   {
    "duration": 12,
    "start_time": "2022-07-06T10:30:34.409Z"
   },
   {
    "duration": 90,
    "start_time": "2022-07-06T10:30:34.422Z"
   },
   {
    "duration": 7,
    "start_time": "2022-07-06T10:30:34.514Z"
   },
   {
    "duration": 36,
    "start_time": "2022-07-06T10:30:34.523Z"
   },
   {
    "duration": 17,
    "start_time": "2022-07-06T10:30:34.564Z"
   },
   {
    "duration": 43,
    "start_time": "2022-07-06T10:30:34.587Z"
   },
   {
    "duration": 24,
    "start_time": "2022-07-06T10:30:34.632Z"
   },
   {
    "duration": 26,
    "start_time": "2022-07-06T10:30:34.659Z"
   },
   {
    "duration": 21,
    "start_time": "2022-07-06T10:30:34.688Z"
   },
   {
    "duration": 48,
    "start_time": "2022-07-06T10:30:34.710Z"
   },
   {
    "duration": 22,
    "start_time": "2022-07-06T10:30:34.761Z"
   },
   {
    "duration": 894,
    "start_time": "2022-07-06T10:30:34.785Z"
   },
   {
    "duration": 134,
    "start_time": "2022-07-06T10:34:38.806Z"
   },
   {
    "duration": 18,
    "start_time": "2022-07-06T10:34:47.707Z"
   },
   {
    "duration": 29,
    "start_time": "2022-07-06T10:36:30.311Z"
   },
   {
    "duration": 1541,
    "start_time": "2022-07-06T10:36:53.680Z"
   },
   {
    "duration": 76,
    "start_time": "2022-07-06T10:36:55.223Z"
   },
   {
    "duration": 28,
    "start_time": "2022-07-06T10:36:55.301Z"
   },
   {
    "duration": 18,
    "start_time": "2022-07-06T10:36:55.331Z"
   },
   {
    "duration": 50,
    "start_time": "2022-07-06T10:36:55.351Z"
   },
   {
    "duration": 37,
    "start_time": "2022-07-06T10:36:55.403Z"
   },
   {
    "duration": 10,
    "start_time": "2022-07-06T10:36:55.442Z"
   },
   {
    "duration": 28,
    "start_time": "2022-07-06T10:36:55.454Z"
   },
   {
    "duration": 24,
    "start_time": "2022-07-06T10:36:55.485Z"
   },
   {
    "duration": 37,
    "start_time": "2022-07-06T10:36:55.512Z"
   },
   {
    "duration": 56,
    "start_time": "2022-07-06T10:36:55.551Z"
   },
   {
    "duration": 5,
    "start_time": "2022-07-06T10:36:55.609Z"
   },
   {
    "duration": 8,
    "start_time": "2022-07-06T10:36:55.615Z"
   },
   {
    "duration": 6,
    "start_time": "2022-07-06T10:36:55.625Z"
   },
   {
    "duration": 27,
    "start_time": "2022-07-06T10:36:55.633Z"
   },
   {
    "duration": 49,
    "start_time": "2022-07-06T10:36:55.661Z"
   },
   {
    "duration": 62,
    "start_time": "2022-07-06T10:36:55.712Z"
   },
   {
    "duration": 20,
    "start_time": "2022-07-06T10:36:55.776Z"
   },
   {
    "duration": 7502,
    "start_time": "2022-07-06T10:36:55.798Z"
   },
   {
    "duration": 3,
    "start_time": "2022-07-06T10:37:03.302Z"
   },
   {
    "duration": 17,
    "start_time": "2022-07-06T10:37:03.307Z"
   },
   {
    "duration": 7,
    "start_time": "2022-07-06T10:37:03.326Z"
   },
   {
    "duration": 42,
    "start_time": "2022-07-06T10:37:03.335Z"
   },
   {
    "duration": 34,
    "start_time": "2022-07-06T10:37:03.381Z"
   },
   {
    "duration": 6,
    "start_time": "2022-07-06T10:37:03.417Z"
   },
   {
    "duration": 23,
    "start_time": "2022-07-06T10:37:03.424Z"
   },
   {
    "duration": 56,
    "start_time": "2022-07-06T10:37:03.449Z"
   },
   {
    "duration": 12,
    "start_time": "2022-07-06T10:37:03.508Z"
   },
   {
    "duration": 88,
    "start_time": "2022-07-06T10:37:03.522Z"
   },
   {
    "duration": 7,
    "start_time": "2022-07-06T10:37:03.612Z"
   },
   {
    "duration": 33,
    "start_time": "2022-07-06T10:37:03.621Z"
   },
   {
    "duration": 16,
    "start_time": "2022-07-06T10:37:03.655Z"
   },
   {
    "duration": 32,
    "start_time": "2022-07-06T10:37:03.679Z"
   },
   {
    "duration": 18,
    "start_time": "2022-07-06T10:37:03.713Z"
   },
   {
    "duration": 32,
    "start_time": "2022-07-06T10:37:03.733Z"
   },
   {
    "duration": 20,
    "start_time": "2022-07-06T10:37:03.770Z"
   },
   {
    "duration": 50,
    "start_time": "2022-07-06T10:37:03.792Z"
   },
   {
    "duration": 107,
    "start_time": "2022-07-06T10:37:03.844Z"
   },
   {
    "duration": 0,
    "start_time": "2022-07-06T10:37:03.957Z"
   },
   {
    "duration": 131,
    "start_time": "2022-07-06T10:38:34.078Z"
   },
   {
    "duration": 15,
    "start_time": "2022-07-06T10:38:47.473Z"
   },
   {
    "duration": 25,
    "start_time": "2022-07-06T10:38:56.293Z"
   },
   {
    "duration": 965,
    "start_time": "2022-07-06T10:39:06.093Z"
   },
   {
    "duration": 22,
    "start_time": "2022-07-06T10:39:39.285Z"
   },
   {
    "duration": 948,
    "start_time": "2022-07-06T10:39:43.125Z"
   },
   {
    "duration": 34,
    "start_time": "2022-07-06T10:40:38.177Z"
   },
   {
    "duration": 1376,
    "start_time": "2022-07-06T10:43:05.777Z"
   },
   {
    "duration": 61,
    "start_time": "2022-07-06T10:43:07.157Z"
   },
   {
    "duration": 16,
    "start_time": "2022-07-06T10:43:07.219Z"
   },
   {
    "duration": 13,
    "start_time": "2022-07-06T10:43:07.237Z"
   },
   {
    "duration": 20,
    "start_time": "2022-07-06T10:43:07.251Z"
   },
   {
    "duration": 37,
    "start_time": "2022-07-06T10:43:07.273Z"
   },
   {
    "duration": 11,
    "start_time": "2022-07-06T10:43:07.311Z"
   },
   {
    "duration": 2,
    "start_time": "2022-07-06T10:43:07.324Z"
   },
   {
    "duration": 41,
    "start_time": "2022-07-06T10:43:07.328Z"
   },
   {
    "duration": 34,
    "start_time": "2022-07-06T10:43:07.372Z"
   },
   {
    "duration": 40,
    "start_time": "2022-07-06T10:43:07.408Z"
   },
   {
    "duration": 16,
    "start_time": "2022-07-06T10:43:07.450Z"
   },
   {
    "duration": 8,
    "start_time": "2022-07-06T10:43:07.468Z"
   },
   {
    "duration": 7,
    "start_time": "2022-07-06T10:43:07.477Z"
   },
   {
    "duration": 6,
    "start_time": "2022-07-06T10:43:07.485Z"
   },
   {
    "duration": 25,
    "start_time": "2022-07-06T10:43:07.493Z"
   },
   {
    "duration": 50,
    "start_time": "2022-07-06T10:43:07.519Z"
   },
   {
    "duration": 23,
    "start_time": "2022-07-06T10:43:07.571Z"
   },
   {
    "duration": 4,
    "start_time": "2022-07-06T10:43:07.595Z"
   },
   {
    "duration": 15,
    "start_time": "2022-07-06T10:43:07.601Z"
   },
   {
    "duration": 6,
    "start_time": "2022-07-06T10:43:07.617Z"
   },
   {
    "duration": 32,
    "start_time": "2022-07-06T10:43:07.624Z"
   },
   {
    "duration": 26,
    "start_time": "2022-07-06T10:43:07.658Z"
   },
   {
    "duration": 6,
    "start_time": "2022-07-06T10:43:07.686Z"
   },
   {
    "duration": 16,
    "start_time": "2022-07-06T10:43:07.694Z"
   },
   {
    "duration": 45,
    "start_time": "2022-07-06T10:43:07.712Z"
   },
   {
    "duration": 14,
    "start_time": "2022-07-06T10:43:07.766Z"
   },
   {
    "duration": 50,
    "start_time": "2022-07-06T10:43:07.783Z"
   },
   {
    "duration": 7,
    "start_time": "2022-07-06T10:43:07.835Z"
   },
   {
    "duration": 36,
    "start_time": "2022-07-06T10:43:07.843Z"
   },
   {
    "duration": 10,
    "start_time": "2022-07-06T10:43:07.880Z"
   },
   {
    "duration": 28,
    "start_time": "2022-07-06T10:43:07.891Z"
   },
   {
    "duration": 16,
    "start_time": "2022-07-06T10:43:07.920Z"
   },
   {
    "duration": 23,
    "start_time": "2022-07-06T10:43:07.938Z"
   },
   {
    "duration": 14,
    "start_time": "2022-07-06T10:43:07.962Z"
   },
   {
    "duration": 43,
    "start_time": "2022-07-06T10:43:07.978Z"
   },
   {
    "duration": 17,
    "start_time": "2022-07-06T10:43:08.023Z"
   },
   {
    "duration": 988,
    "start_time": "2022-07-06T10:43:08.041Z"
   },
   {
    "duration": 1328,
    "start_time": "2022-07-06T10:46:04.508Z"
   },
   {
    "duration": 65,
    "start_time": "2022-07-06T10:46:05.837Z"
   },
   {
    "duration": 24,
    "start_time": "2022-07-06T10:46:05.905Z"
   },
   {
    "duration": 18,
    "start_time": "2022-07-06T10:46:05.932Z"
   },
   {
    "duration": 21,
    "start_time": "2022-07-06T10:46:05.952Z"
   },
   {
    "duration": 39,
    "start_time": "2022-07-06T10:46:05.975Z"
   },
   {
    "duration": 18,
    "start_time": "2022-07-06T10:46:06.018Z"
   },
   {
    "duration": 25,
    "start_time": "2022-07-06T10:46:06.038Z"
   },
   {
    "duration": 42,
    "start_time": "2022-07-06T10:46:06.065Z"
   },
   {
    "duration": 51,
    "start_time": "2022-07-06T10:46:06.110Z"
   },
   {
    "duration": 46,
    "start_time": "2022-07-06T10:46:06.168Z"
   },
   {
    "duration": 5,
    "start_time": "2022-07-06T10:46:06.216Z"
   },
   {
    "duration": 10,
    "start_time": "2022-07-06T10:46:06.223Z"
   },
   {
    "duration": 11,
    "start_time": "2022-07-06T10:46:06.235Z"
   },
   {
    "duration": 6,
    "start_time": "2022-07-06T10:46:06.248Z"
   },
   {
    "duration": 56,
    "start_time": "2022-07-06T10:46:06.256Z"
   },
   {
    "duration": 59,
    "start_time": "2022-07-06T10:46:06.314Z"
   },
   {
    "duration": 33,
    "start_time": "2022-07-06T10:46:06.375Z"
   },
   {
    "duration": 11,
    "start_time": "2022-07-06T10:46:06.410Z"
   },
   {
    "duration": 21,
    "start_time": "2022-07-06T10:46:06.423Z"
   },
   {
    "duration": 14,
    "start_time": "2022-07-06T10:46:06.453Z"
   },
   {
    "duration": 20,
    "start_time": "2022-07-06T10:46:06.474Z"
   },
   {
    "duration": 32,
    "start_time": "2022-07-06T10:46:06.496Z"
   },
   {
    "duration": 10,
    "start_time": "2022-07-06T10:46:06.530Z"
   },
   {
    "duration": 22,
    "start_time": "2022-07-06T10:46:06.542Z"
   },
   {
    "duration": 39,
    "start_time": "2022-07-06T10:46:06.570Z"
   },
   {
    "duration": 18,
    "start_time": "2022-07-06T10:46:06.611Z"
   },
   {
    "duration": 69,
    "start_time": "2022-07-06T10:46:06.634Z"
   },
   {
    "duration": 8,
    "start_time": "2022-07-06T10:46:06.705Z"
   },
   {
    "duration": 51,
    "start_time": "2022-07-06T10:46:06.715Z"
   },
   {
    "duration": 15,
    "start_time": "2022-07-06T10:46:06.772Z"
   },
   {
    "duration": 28,
    "start_time": "2022-07-06T10:46:06.789Z"
   },
   {
    "duration": 20,
    "start_time": "2022-07-06T10:46:06.819Z"
   },
   {
    "duration": 23,
    "start_time": "2022-07-06T10:46:06.840Z"
   },
   {
    "duration": 10,
    "start_time": "2022-07-06T10:46:06.870Z"
   },
   {
    "duration": 20,
    "start_time": "2022-07-06T10:46:06.882Z"
   },
   {
    "duration": 26,
    "start_time": "2022-07-06T10:46:06.904Z"
   },
   {
    "duration": 930,
    "start_time": "2022-07-06T10:46:06.932Z"
   },
   {
    "duration": 1067,
    "start_time": "2022-07-06T10:46:15.525Z"
   },
   {
    "duration": 949,
    "start_time": "2022-07-06T10:46:21.175Z"
   },
   {
    "duration": 959,
    "start_time": "2022-07-06T10:46:26.113Z"
   },
   {
    "duration": 634,
    "start_time": "2022-07-06T10:46:31.309Z"
   },
   {
    "duration": 595,
    "start_time": "2022-07-06T10:46:42.325Z"
   },
   {
    "duration": 557,
    "start_time": "2022-07-06T10:46:48.726Z"
   },
   {
    "duration": 507,
    "start_time": "2022-07-06T10:46:52.691Z"
   },
   {
    "duration": 466,
    "start_time": "2022-07-06T10:46:58.609Z"
   },
   {
    "duration": 379,
    "start_time": "2022-07-06T10:47:51.408Z"
   },
   {
    "duration": 640,
    "start_time": "2022-07-06T10:47:55.608Z"
   },
   {
    "duration": 460,
    "start_time": "2022-07-06T10:48:02.925Z"
   },
   {
    "duration": 513,
    "start_time": "2022-07-06T10:48:07.365Z"
   },
   {
    "duration": 569,
    "start_time": "2022-07-06T10:48:16.390Z"
   },
   {
    "duration": 347,
    "start_time": "2022-07-06T10:48:28.989Z"
   },
   {
    "duration": 295,
    "start_time": "2022-07-06T10:48:32.773Z"
   },
   {
    "duration": 687,
    "start_time": "2022-07-06T10:48:36.523Z"
   },
   {
    "duration": 789,
    "start_time": "2022-07-06T10:48:41.276Z"
   },
   {
    "duration": 555,
    "start_time": "2022-07-06T10:48:48.166Z"
   },
   {
    "duration": 612,
    "start_time": "2022-07-06T10:48:52.722Z"
   },
   {
    "duration": 690,
    "start_time": "2022-07-06T10:48:56.908Z"
   },
   {
    "duration": 595,
    "start_time": "2022-07-06T10:49:02.472Z"
   },
   {
    "duration": 854,
    "start_time": "2022-07-06T10:49:11.192Z"
   },
   {
    "duration": 741,
    "start_time": "2022-07-06T10:49:16.372Z"
   },
   {
    "duration": 512,
    "start_time": "2022-07-06T10:49:20.565Z"
   },
   {
    "duration": 599,
    "start_time": "2022-07-06T10:49:24.291Z"
   },
   {
    "duration": 4,
    "start_time": "2022-07-06T10:49:48.206Z"
   },
   {
    "duration": 571,
    "start_time": "2022-07-06T10:49:50.108Z"
   },
   {
    "duration": 5,
    "start_time": "2022-07-06T10:50:25.023Z"
   },
   {
    "duration": 1450,
    "start_time": "2022-07-06T10:50:51.376Z"
   },
   {
    "duration": 68,
    "start_time": "2022-07-06T10:50:52.828Z"
   },
   {
    "duration": 21,
    "start_time": "2022-07-06T10:50:52.898Z"
   },
   {
    "duration": 14,
    "start_time": "2022-07-06T10:50:52.922Z"
   },
   {
    "duration": 27,
    "start_time": "2022-07-06T10:50:52.938Z"
   },
   {
    "duration": 40,
    "start_time": "2022-07-06T10:50:52.969Z"
   },
   {
    "duration": 12,
    "start_time": "2022-07-06T10:50:53.010Z"
   },
   {
    "duration": 9,
    "start_time": "2022-07-06T10:50:53.023Z"
   },
   {
    "duration": 26,
    "start_time": "2022-07-06T10:50:53.034Z"
   },
   {
    "duration": 49,
    "start_time": "2022-07-06T10:50:53.061Z"
   },
   {
    "duration": 50,
    "start_time": "2022-07-06T10:50:53.112Z"
   },
   {
    "duration": 23,
    "start_time": "2022-07-06T10:50:53.163Z"
   },
   {
    "duration": 42,
    "start_time": "2022-07-06T10:50:53.188Z"
   },
   {
    "duration": 39,
    "start_time": "2022-07-06T10:50:53.232Z"
   },
   {
    "duration": 18,
    "start_time": "2022-07-06T10:50:53.273Z"
   },
   {
    "duration": 8,
    "start_time": "2022-07-06T10:50:53.293Z"
   },
   {
    "duration": 14,
    "start_time": "2022-07-06T10:50:53.303Z"
   },
   {
    "duration": 56,
    "start_time": "2022-07-06T10:50:53.318Z"
   },
   {
    "duration": 7,
    "start_time": "2022-07-06T10:50:53.375Z"
   },
   {
    "duration": 20,
    "start_time": "2022-07-06T10:50:53.384Z"
   },
   {
    "duration": 57,
    "start_time": "2022-07-06T10:50:53.406Z"
   },
   {
    "duration": 20,
    "start_time": "2022-07-06T10:50:53.467Z"
   },
   {
    "duration": 58,
    "start_time": "2022-07-06T10:50:53.489Z"
   },
   {
    "duration": 9,
    "start_time": "2022-07-06T10:50:53.549Z"
   },
   {
    "duration": 48,
    "start_time": "2022-07-06T10:50:53.569Z"
   },
   {
    "duration": 15,
    "start_time": "2022-07-06T10:50:53.619Z"
   },
   {
    "duration": 46,
    "start_time": "2022-07-06T10:50:53.636Z"
   },
   {
    "duration": 22,
    "start_time": "2022-07-06T10:50:53.684Z"
   },
   {
    "duration": 18,
    "start_time": "2022-07-06T10:50:53.707Z"
   },
   {
    "duration": 39,
    "start_time": "2022-07-06T10:50:53.727Z"
   },
   {
    "duration": 50,
    "start_time": "2022-07-06T10:50:53.768Z"
   },
   {
    "duration": 4,
    "start_time": "2022-07-06T10:50:53.820Z"
   },
   {
    "duration": 674,
    "start_time": "2022-07-06T10:50:53.826Z"
   },
   {
    "duration": 4,
    "start_time": "2022-07-06T10:51:28.519Z"
   },
   {
    "duration": 680,
    "start_time": "2022-07-06T10:51:29.805Z"
   },
   {
    "duration": 6,
    "start_time": "2022-07-06T10:51:35.571Z"
   },
   {
    "duration": 699,
    "start_time": "2022-07-06T10:51:36.705Z"
   },
   {
    "duration": 79,
    "start_time": "2022-07-06T10:53:26.222Z"
   },
   {
    "duration": 61,
    "start_time": "2022-07-06T10:57:12.235Z"
   },
   {
    "duration": 19,
    "start_time": "2022-07-06T10:57:31.734Z"
   },
   {
    "duration": 1371,
    "start_time": "2022-07-06T10:57:36.098Z"
   },
   {
    "duration": 60,
    "start_time": "2022-07-06T10:57:37.471Z"
   },
   {
    "duration": 21,
    "start_time": "2022-07-06T10:57:37.533Z"
   },
   {
    "duration": 18,
    "start_time": "2022-07-06T10:57:37.557Z"
   },
   {
    "duration": 20,
    "start_time": "2022-07-06T10:57:37.577Z"
   },
   {
    "duration": 45,
    "start_time": "2022-07-06T10:57:37.599Z"
   },
   {
    "duration": 20,
    "start_time": "2022-07-06T10:57:37.646Z"
   },
   {
    "duration": 15,
    "start_time": "2022-07-06T10:57:37.667Z"
   },
   {
    "duration": 17,
    "start_time": "2022-07-06T10:57:37.684Z"
   },
   {
    "duration": 37,
    "start_time": "2022-07-06T10:57:37.704Z"
   },
   {
    "duration": 40,
    "start_time": "2022-07-06T10:57:37.743Z"
   },
   {
    "duration": 20,
    "start_time": "2022-07-06T10:57:37.785Z"
   },
   {
    "duration": 41,
    "start_time": "2022-07-06T10:57:37.807Z"
   },
   {
    "duration": 28,
    "start_time": "2022-07-06T10:57:37.850Z"
   },
   {
    "duration": 14,
    "start_time": "2022-07-06T10:57:37.880Z"
   },
   {
    "duration": 7,
    "start_time": "2022-07-06T10:57:37.895Z"
   },
   {
    "duration": 13,
    "start_time": "2022-07-06T10:57:37.904Z"
   },
   {
    "duration": 57,
    "start_time": "2022-07-06T10:57:37.918Z"
   },
   {
    "duration": 7,
    "start_time": "2022-07-06T10:57:37.977Z"
   },
   {
    "duration": 13,
    "start_time": "2022-07-06T10:57:37.986Z"
   },
   {
    "duration": 21,
    "start_time": "2022-07-06T10:57:38.000Z"
   },
   {
    "duration": 52,
    "start_time": "2022-07-06T10:57:38.023Z"
   },
   {
    "duration": 53,
    "start_time": "2022-07-06T10:57:38.080Z"
   },
   {
    "duration": 7,
    "start_time": "2022-07-06T10:57:38.135Z"
   },
   {
    "duration": 44,
    "start_time": "2022-07-06T10:57:38.144Z"
   },
   {
    "duration": 11,
    "start_time": "2022-07-06T10:57:38.190Z"
   },
   {
    "duration": 50,
    "start_time": "2022-07-06T10:57:38.203Z"
   },
   {
    "duration": 14,
    "start_time": "2022-07-06T10:57:38.259Z"
   },
   {
    "duration": 11,
    "start_time": "2022-07-06T10:57:38.278Z"
   },
   {
    "duration": 131,
    "start_time": "2022-07-06T10:57:38.290Z"
   },
   {
    "duration": 0,
    "start_time": "2022-07-06T10:57:38.422Z"
   },
   {
    "duration": 0,
    "start_time": "2022-07-06T10:57:38.423Z"
   },
   {
    "duration": 0,
    "start_time": "2022-07-06T10:57:38.426Z"
   },
   {
    "duration": 1320,
    "start_time": "2022-07-06T10:58:47.905Z"
   },
   {
    "duration": 72,
    "start_time": "2022-07-06T10:58:49.226Z"
   },
   {
    "duration": 14,
    "start_time": "2022-07-06T10:58:49.300Z"
   },
   {
    "duration": 13,
    "start_time": "2022-07-06T10:58:49.316Z"
   },
   {
    "duration": 13,
    "start_time": "2022-07-06T10:58:49.330Z"
   },
   {
    "duration": 57,
    "start_time": "2022-07-06T10:58:49.344Z"
   },
   {
    "duration": 10,
    "start_time": "2022-07-06T10:58:49.403Z"
   },
   {
    "duration": 6,
    "start_time": "2022-07-06T10:58:49.414Z"
   },
   {
    "duration": 26,
    "start_time": "2022-07-06T10:58:49.421Z"
   },
   {
    "duration": 65,
    "start_time": "2022-07-06T10:58:49.448Z"
   },
   {
    "duration": 54,
    "start_time": "2022-07-06T10:58:49.515Z"
   },
   {
    "duration": 20,
    "start_time": "2022-07-06T10:58:49.573Z"
   },
   {
    "duration": 41,
    "start_time": "2022-07-06T10:58:49.595Z"
   },
   {
    "duration": 34,
    "start_time": "2022-07-06T10:58:49.638Z"
   },
   {
    "duration": 13,
    "start_time": "2022-07-06T10:58:49.674Z"
   },
   {
    "duration": 7,
    "start_time": "2022-07-06T10:58:49.690Z"
   },
   {
    "duration": 18,
    "start_time": "2022-07-06T10:58:49.699Z"
   },
   {
    "duration": 52,
    "start_time": "2022-07-06T10:58:49.719Z"
   },
   {
    "duration": 7,
    "start_time": "2022-07-06T10:58:49.773Z"
   },
   {
    "duration": 17,
    "start_time": "2022-07-06T10:58:49.782Z"
   },
   {
    "duration": 24,
    "start_time": "2022-07-06T10:58:49.801Z"
   },
   {
    "duration": 43,
    "start_time": "2022-07-06T10:58:49.826Z"
   },
   {
    "duration": 50,
    "start_time": "2022-07-06T10:58:49.872Z"
   },
   {
    "duration": 7,
    "start_time": "2022-07-06T10:58:49.924Z"
   },
   {
    "duration": 35,
    "start_time": "2022-07-06T10:58:49.932Z"
   },
   {
    "duration": 14,
    "start_time": "2022-07-06T10:58:49.971Z"
   },
   {
    "duration": 56,
    "start_time": "2022-07-06T10:58:49.987Z"
   },
   {
    "duration": 14,
    "start_time": "2022-07-06T10:58:50.056Z"
   },
   {
    "duration": 8,
    "start_time": "2022-07-06T10:58:50.072Z"
   },
   {
    "duration": 18,
    "start_time": "2022-07-06T10:58:50.082Z"
   },
   {
    "duration": 22,
    "start_time": "2022-07-06T10:58:50.101Z"
   },
   {
    "duration": 4,
    "start_time": "2022-07-06T10:58:50.125Z"
   },
   {
    "duration": 745,
    "start_time": "2022-07-06T10:58:50.130Z"
   },
   {
    "duration": 1318,
    "start_time": "2022-07-06T10:59:45.916Z"
   },
   {
    "duration": 64,
    "start_time": "2022-07-06T10:59:47.236Z"
   },
   {
    "duration": 16,
    "start_time": "2022-07-06T10:59:47.301Z"
   },
   {
    "duration": 14,
    "start_time": "2022-07-06T10:59:47.319Z"
   },
   {
    "duration": 14,
    "start_time": "2022-07-06T10:59:47.334Z"
   },
   {
    "duration": 49,
    "start_time": "2022-07-06T10:59:47.350Z"
   },
   {
    "duration": 12,
    "start_time": "2022-07-06T10:59:47.401Z"
   },
   {
    "duration": 9,
    "start_time": "2022-07-06T10:59:47.414Z"
   },
   {
    "duration": 17,
    "start_time": "2022-07-06T10:59:47.425Z"
   },
   {
    "duration": 42,
    "start_time": "2022-07-06T10:59:47.445Z"
   },
   {
    "duration": 34,
    "start_time": "2022-07-06T10:59:47.488Z"
   },
   {
    "duration": 20,
    "start_time": "2022-07-06T10:59:47.524Z"
   },
   {
    "duration": 46,
    "start_time": "2022-07-06T10:59:47.552Z"
   },
   {
    "duration": 26,
    "start_time": "2022-07-06T10:59:47.599Z"
   },
   {
    "duration": 12,
    "start_time": "2022-07-06T10:59:47.627Z"
   },
   {
    "duration": 21,
    "start_time": "2022-07-06T10:59:47.640Z"
   },
   {
    "duration": 14,
    "start_time": "2022-07-06T10:59:47.666Z"
   },
   {
    "duration": 25,
    "start_time": "2022-07-06T10:59:47.682Z"
   },
   {
    "duration": 7,
    "start_time": "2022-07-06T10:59:47.709Z"
   },
   {
    "duration": 13,
    "start_time": "2022-07-06T10:59:47.717Z"
   },
   {
    "duration": 44,
    "start_time": "2022-07-06T10:59:47.732Z"
   },
   {
    "duration": 11,
    "start_time": "2022-07-06T10:59:47.778Z"
   },
   {
    "duration": 48,
    "start_time": "2022-07-06T10:59:47.790Z"
   },
   {
    "duration": 8,
    "start_time": "2022-07-06T10:59:47.840Z"
   },
   {
    "duration": 35,
    "start_time": "2022-07-06T10:59:47.849Z"
   },
   {
    "duration": 11,
    "start_time": "2022-07-06T10:59:47.885Z"
   },
   {
    "duration": 28,
    "start_time": "2022-07-06T10:59:47.898Z"
   },
   {
    "duration": 19,
    "start_time": "2022-07-06T10:59:47.930Z"
   },
   {
    "duration": 23,
    "start_time": "2022-07-06T10:59:47.953Z"
   },
   {
    "duration": 16,
    "start_time": "2022-07-06T10:59:47.978Z"
   },
   {
    "duration": 23,
    "start_time": "2022-07-06T10:59:47.996Z"
   },
   {
    "duration": 4,
    "start_time": "2022-07-06T10:59:48.020Z"
   },
   {
    "duration": 603,
    "start_time": "2022-07-06T10:59:48.025Z"
   },
   {
    "duration": 1306,
    "start_time": "2022-07-06T11:03:21.391Z"
   },
   {
    "duration": 60,
    "start_time": "2022-07-06T11:03:22.699Z"
   },
   {
    "duration": 16,
    "start_time": "2022-07-06T11:03:22.765Z"
   },
   {
    "duration": 15,
    "start_time": "2022-07-06T11:03:22.783Z"
   },
   {
    "duration": 17,
    "start_time": "2022-07-06T11:03:22.800Z"
   },
   {
    "duration": 37,
    "start_time": "2022-07-06T11:03:22.818Z"
   },
   {
    "duration": 13,
    "start_time": "2022-07-06T11:03:22.858Z"
   },
   {
    "duration": 7,
    "start_time": "2022-07-06T11:03:22.873Z"
   },
   {
    "duration": 17,
    "start_time": "2022-07-06T11:03:22.881Z"
   },
   {
    "duration": 39,
    "start_time": "2022-07-06T11:03:22.900Z"
   },
   {
    "duration": 47,
    "start_time": "2022-07-06T11:03:22.940Z"
   },
   {
    "duration": 20,
    "start_time": "2022-07-06T11:03:22.989Z"
   },
   {
    "duration": 56,
    "start_time": "2022-07-06T11:03:23.010Z"
   },
   {
    "duration": 23,
    "start_time": "2022-07-06T11:03:23.068Z"
   },
   {
    "duration": 10,
    "start_time": "2022-07-06T11:03:23.093Z"
   },
   {
    "duration": 5,
    "start_time": "2022-07-06T11:03:23.105Z"
   },
   {
    "duration": 11,
    "start_time": "2022-07-06T11:03:23.111Z"
   },
   {
    "duration": 47,
    "start_time": "2022-07-06T11:03:23.124Z"
   },
   {
    "duration": 7,
    "start_time": "2022-07-06T11:03:23.173Z"
   },
   {
    "duration": 13,
    "start_time": "2022-07-06T11:03:23.182Z"
   },
   {
    "duration": 22,
    "start_time": "2022-07-06T11:03:23.197Z"
   },
   {
    "duration": 47,
    "start_time": "2022-07-06T11:03:23.221Z"
   },
   {
    "duration": 47,
    "start_time": "2022-07-06T11:03:23.270Z"
   },
   {
    "duration": 7,
    "start_time": "2022-07-06T11:03:23.318Z"
   },
   {
    "duration": 41,
    "start_time": "2022-07-06T11:03:23.326Z"
   },
   {
    "duration": 10,
    "start_time": "2022-07-06T11:03:23.368Z"
   },
   {
    "duration": 29,
    "start_time": "2022-07-06T11:03:23.379Z"
   },
   {
    "duration": 33,
    "start_time": "2022-07-06T11:03:23.409Z"
   },
   {
    "duration": 5,
    "start_time": "2022-07-06T11:03:23.443Z"
   },
   {
    "duration": 35,
    "start_time": "2022-07-06T11:03:23.449Z"
   },
   {
    "duration": 25,
    "start_time": "2022-07-06T11:03:23.486Z"
   },
   {
    "duration": 4,
    "start_time": "2022-07-06T11:03:23.512Z"
   },
   {
    "duration": 632,
    "start_time": "2022-07-06T11:03:23.518Z"
   },
   {
    "duration": 1324,
    "start_time": "2022-07-06T11:03:49.491Z"
   },
   {
    "duration": 62,
    "start_time": "2022-07-06T11:03:50.817Z"
   },
   {
    "duration": 15,
    "start_time": "2022-07-06T11:03:50.880Z"
   },
   {
    "duration": 12,
    "start_time": "2022-07-06T11:03:50.897Z"
   },
   {
    "duration": 16,
    "start_time": "2022-07-06T11:03:50.911Z"
   },
   {
    "duration": 50,
    "start_time": "2022-07-06T11:03:50.928Z"
   },
   {
    "duration": 10,
    "start_time": "2022-07-06T11:03:50.979Z"
   },
   {
    "duration": 9,
    "start_time": "2022-07-06T11:03:50.991Z"
   },
   {
    "duration": 15,
    "start_time": "2022-07-06T11:03:51.002Z"
   },
   {
    "duration": 50,
    "start_time": "2022-07-06T11:03:51.020Z"
   },
   {
    "duration": 35,
    "start_time": "2022-07-06T11:03:51.072Z"
   },
   {
    "duration": 29,
    "start_time": "2022-07-06T11:03:51.108Z"
   },
   {
    "duration": 50,
    "start_time": "2022-07-06T11:03:51.139Z"
   },
   {
    "duration": 23,
    "start_time": "2022-07-06T11:03:51.191Z"
   },
   {
    "duration": 12,
    "start_time": "2022-07-06T11:03:51.216Z"
   },
   {
    "duration": 29,
    "start_time": "2022-07-06T11:03:51.229Z"
   },
   {
    "duration": 14,
    "start_time": "2022-07-06T11:03:51.265Z"
   },
   {
    "duration": 25,
    "start_time": "2022-07-06T11:03:51.281Z"
   },
   {
    "duration": 6,
    "start_time": "2022-07-06T11:03:51.308Z"
   },
   {
    "duration": 12,
    "start_time": "2022-07-06T11:03:51.316Z"
   },
   {
    "duration": 43,
    "start_time": "2022-07-06T11:03:51.329Z"
   },
   {
    "duration": 11,
    "start_time": "2022-07-06T11:03:51.374Z"
   },
   {
    "duration": 47,
    "start_time": "2022-07-06T11:03:51.387Z"
   },
   {
    "duration": 6,
    "start_time": "2022-07-06T11:03:51.436Z"
   },
   {
    "duration": 37,
    "start_time": "2022-07-06T11:03:51.443Z"
   },
   {
    "duration": 10,
    "start_time": "2022-07-06T11:03:51.481Z"
   },
   {
    "duration": 30,
    "start_time": "2022-07-06T11:03:51.492Z"
   },
   {
    "duration": 25,
    "start_time": "2022-07-06T11:03:51.526Z"
   },
   {
    "duration": 11,
    "start_time": "2022-07-06T11:03:51.566Z"
   },
   {
    "duration": 21,
    "start_time": "2022-07-06T11:03:51.579Z"
   },
   {
    "duration": 3,
    "start_time": "2022-07-06T11:03:51.602Z"
   },
   {
    "duration": 610,
    "start_time": "2022-07-06T11:03:51.606Z"
   },
   {
    "duration": 1326,
    "start_time": "2022-07-06T11:06:39.517Z"
   },
   {
    "duration": 64,
    "start_time": "2022-07-06T11:06:40.845Z"
   },
   {
    "duration": 16,
    "start_time": "2022-07-06T11:06:40.910Z"
   },
   {
    "duration": 13,
    "start_time": "2022-07-06T11:06:40.928Z"
   },
   {
    "duration": 17,
    "start_time": "2022-07-06T11:06:40.942Z"
   },
   {
    "duration": 42,
    "start_time": "2022-07-06T11:06:40.962Z"
   },
   {
    "duration": 11,
    "start_time": "2022-07-06T11:06:41.005Z"
   },
   {
    "duration": 6,
    "start_time": "2022-07-06T11:06:41.017Z"
   },
   {
    "duration": 16,
    "start_time": "2022-07-06T11:06:41.024Z"
   },
   {
    "duration": 43,
    "start_time": "2022-07-06T11:06:41.042Z"
   },
   {
    "duration": 31,
    "start_time": "2022-07-06T11:06:41.087Z"
   },
   {
    "duration": 19,
    "start_time": "2022-07-06T11:06:41.120Z"
   },
   {
    "duration": 51,
    "start_time": "2022-07-06T11:06:41.140Z"
   },
   {
    "duration": 24,
    "start_time": "2022-07-06T11:06:41.193Z"
   },
   {
    "duration": 11,
    "start_time": "2022-07-06T11:06:41.219Z"
   },
   {
    "duration": 7,
    "start_time": "2022-07-06T11:06:41.231Z"
   },
   {
    "duration": 28,
    "start_time": "2022-07-06T11:06:41.239Z"
   },
   {
    "duration": 21,
    "start_time": "2022-07-06T11:06:41.269Z"
   },
   {
    "duration": 6,
    "start_time": "2022-07-06T11:06:41.291Z"
   },
   {
    "duration": 18,
    "start_time": "2022-07-06T11:06:41.299Z"
   },
   {
    "duration": 48,
    "start_time": "2022-07-06T11:06:41.319Z"
   },
   {
    "duration": 13,
    "start_time": "2022-07-06T11:06:41.369Z"
   },
   {
    "duration": 48,
    "start_time": "2022-07-06T11:06:41.383Z"
   },
   {
    "duration": 7,
    "start_time": "2022-07-06T11:06:41.433Z"
   },
   {
    "duration": 40,
    "start_time": "2022-07-06T11:06:41.441Z"
   },
   {
    "duration": 10,
    "start_time": "2022-07-06T11:06:41.482Z"
   },
   {
    "duration": 30,
    "start_time": "2022-07-06T11:06:41.493Z"
   },
   {
    "duration": 25,
    "start_time": "2022-07-06T11:06:41.526Z"
   },
   {
    "duration": 12,
    "start_time": "2022-07-06T11:06:41.561Z"
   },
   {
    "duration": 21,
    "start_time": "2022-07-06T11:06:41.574Z"
   },
   {
    "duration": 3,
    "start_time": "2022-07-06T11:06:41.597Z"
   },
   {
    "duration": 603,
    "start_time": "2022-07-06T11:06:41.602Z"
   },
   {
    "duration": 1551,
    "start_time": "2022-07-08T14:53:11.588Z"
   },
   {
    "duration": 63,
    "start_time": "2022-07-08T14:53:13.141Z"
   },
   {
    "duration": 17,
    "start_time": "2022-07-08T14:53:13.205Z"
   },
   {
    "duration": 15,
    "start_time": "2022-07-08T14:53:13.878Z"
   },
   {
    "duration": 13,
    "start_time": "2022-07-08T14:53:14.721Z"
   },
   {
    "duration": 61,
    "start_time": "2022-07-08T14:53:15.941Z"
   },
   {
    "duration": 14,
    "start_time": "2022-07-08T14:53:16.144Z"
   },
   {
    "duration": 3,
    "start_time": "2022-07-08T14:53:16.372Z"
   },
   {
    "duration": 16,
    "start_time": "2022-07-08T14:53:17.908Z"
   },
   {
    "duration": 59,
    "start_time": "2022-07-08T14:53:18.126Z"
   },
   {
    "duration": 35,
    "start_time": "2022-07-08T14:53:18.354Z"
   },
   {
    "duration": 23,
    "start_time": "2022-07-08T14:53:18.608Z"
   },
   {
    "duration": 44,
    "start_time": "2022-07-08T14:53:19.042Z"
   },
   {
    "duration": 23,
    "start_time": "2022-07-08T14:53:19.302Z"
   },
   {
    "duration": 12,
    "start_time": "2022-07-08T14:53:19.546Z"
   },
   {
    "duration": 6,
    "start_time": "2022-07-08T14:53:19.744Z"
   },
   {
    "duration": 11,
    "start_time": "2022-07-08T14:53:20.447Z"
   },
   {
    "duration": 22,
    "start_time": "2022-07-08T14:53:21.033Z"
   },
   {
    "duration": 8,
    "start_time": "2022-07-08T14:53:21.562Z"
   },
   {
    "duration": 13,
    "start_time": "2022-07-08T14:53:22.770Z"
   },
   {
    "duration": 27,
    "start_time": "2022-07-08T14:53:23.300Z"
   },
   {
    "duration": 13,
    "start_time": "2022-07-08T14:53:23.949Z"
   },
   {
    "duration": 77,
    "start_time": "2022-07-08T14:53:25.286Z"
   },
   {
    "duration": 7,
    "start_time": "2022-07-08T14:53:25.520Z"
   },
   {
    "duration": 50,
    "start_time": "2022-07-08T14:53:26.783Z"
   },
   {
    "duration": 12,
    "start_time": "2022-07-08T14:53:27.250Z"
   },
   {
    "duration": 32,
    "start_time": "2022-07-08T14:53:27.577Z"
   },
   {
    "duration": 26,
    "start_time": "2022-07-08T14:53:27.825Z"
   },
   {
    "duration": 11,
    "start_time": "2022-07-08T14:53:28.254Z"
   },
   {
    "duration": 20,
    "start_time": "2022-07-08T14:53:28.788Z"
   },
   {
    "duration": 4,
    "start_time": "2022-07-08T14:54:10.529Z"
   },
   {
    "duration": 594,
    "start_time": "2022-07-08T14:54:11.314Z"
   },
   {
    "duration": 18,
    "start_time": "2022-07-08T14:54:37.648Z"
   }
  ],
  "kernelspec": {
   "display_name": "Python 3 (ipykernel)",
   "language": "python",
   "name": "python3"
  },
  "language_info": {
   "codemirror_mode": {
    "name": "ipython",
    "version": 3
   },
   "file_extension": ".py",
   "mimetype": "text/x-python",
   "name": "python",
   "nbconvert_exporter": "python",
   "pygments_lexer": "ipython3",
   "version": "3.9.5"
  },
  "toc": {
   "base_numbering": 1,
   "nav_menu": {},
   "number_sections": true,
   "sideBar": true,
   "skip_h1_title": true,
   "title_cell": "Table of Contents",
   "title_sidebar": "Contents",
   "toc_cell": false,
   "toc_position": {
    "height": "calc(100% - 180px)",
    "left": "10px",
    "top": "150px",
    "width": "212.8000030517578px"
   },
   "toc_section_display": true,
   "toc_window_display": true
  }
 },
 "nbformat": 4,
 "nbformat_minor": 2
}
